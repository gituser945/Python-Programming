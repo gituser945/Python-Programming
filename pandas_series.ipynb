{
 "cells": [
  {
   "cell_type": "markdown",
   "id": "confidential-costume",
   "metadata": {},
   "source": [
    "#### Pandas Series"
   ]
  },
  {
   "cell_type": "code",
   "execution_count": 62,
   "id": "changing-dimension",
   "metadata": {},
   "outputs": [],
   "source": [
    "# Importing pandas library\n",
    "\n",
    "import pandas as pd"
   ]
  },
  {
   "cell_type": "code",
   "execution_count": 12,
   "id": "revised-password",
   "metadata": {},
   "outputs": [],
   "source": [
    "# importing dataset\n",
    "\n",
    "pokemon = pd.read_csv('pandas/pokemon.csv')"
   ]
  },
  {
   "cell_type": "code",
   "execution_count": 3,
   "id": "decreased-applicant",
   "metadata": {},
   "outputs": [
    {
     "data": {
      "text/html": [
       "<div>\n",
       "<style scoped>\n",
       "    .dataframe tbody tr th:only-of-type {\n",
       "        vertical-align: middle;\n",
       "    }\n",
       "\n",
       "    .dataframe tbody tr th {\n",
       "        vertical-align: top;\n",
       "    }\n",
       "\n",
       "    .dataframe thead th {\n",
       "        text-align: right;\n",
       "    }\n",
       "</style>\n",
       "<table border=\"1\" class=\"dataframe\">\n",
       "  <thead>\n",
       "    <tr style=\"text-align: right;\">\n",
       "      <th></th>\n",
       "      <th>Pokemon</th>\n",
       "      <th>Type</th>\n",
       "    </tr>\n",
       "  </thead>\n",
       "  <tbody>\n",
       "    <tr>\n",
       "      <th>0</th>\n",
       "      <td>Bulbasaur</td>\n",
       "      <td>Grass</td>\n",
       "    </tr>\n",
       "    <tr>\n",
       "      <th>1</th>\n",
       "      <td>Ivysaur</td>\n",
       "      <td>Grass</td>\n",
       "    </tr>\n",
       "    <tr>\n",
       "      <th>2</th>\n",
       "      <td>Venusaur</td>\n",
       "      <td>Grass</td>\n",
       "    </tr>\n",
       "    <tr>\n",
       "      <th>3</th>\n",
       "      <td>Charmander</td>\n",
       "      <td>Fire</td>\n",
       "    </tr>\n",
       "    <tr>\n",
       "      <th>4</th>\n",
       "      <td>Charmeleon</td>\n",
       "      <td>Fire</td>\n",
       "    </tr>\n",
       "    <tr>\n",
       "      <th>...</th>\n",
       "      <td>...</td>\n",
       "      <td>...</td>\n",
       "    </tr>\n",
       "    <tr>\n",
       "      <th>716</th>\n",
       "      <td>Yveltal</td>\n",
       "      <td>Dark</td>\n",
       "    </tr>\n",
       "    <tr>\n",
       "      <th>717</th>\n",
       "      <td>Zygarde</td>\n",
       "      <td>Dragon</td>\n",
       "    </tr>\n",
       "    <tr>\n",
       "      <th>718</th>\n",
       "      <td>Diancie</td>\n",
       "      <td>Rock</td>\n",
       "    </tr>\n",
       "    <tr>\n",
       "      <th>719</th>\n",
       "      <td>Hoopa</td>\n",
       "      <td>Psychic</td>\n",
       "    </tr>\n",
       "    <tr>\n",
       "      <th>720</th>\n",
       "      <td>Volcanion</td>\n",
       "      <td>Fire</td>\n",
       "    </tr>\n",
       "  </tbody>\n",
       "</table>\n",
       "<p>721 rows × 2 columns</p>\n",
       "</div>"
      ],
      "text/plain": [
       "        Pokemon     Type\n",
       "0     Bulbasaur    Grass\n",
       "1       Ivysaur    Grass\n",
       "2      Venusaur    Grass\n",
       "3    Charmander     Fire\n",
       "4    Charmeleon     Fire\n",
       "..          ...      ...\n",
       "716     Yveltal     Dark\n",
       "717     Zygarde   Dragon\n",
       "718     Diancie     Rock\n",
       "719       Hoopa  Psychic\n",
       "720   Volcanion     Fire\n",
       "\n",
       "[721 rows x 2 columns]"
      ]
     },
     "execution_count": 3,
     "metadata": {},
     "output_type": "execute_result"
    }
   ],
   "source": [
    "# checking file \n",
    "\n",
    "pokemon"
   ]
  },
  {
   "cell_type": "code",
   "execution_count": 6,
   "id": "recognized-president",
   "metadata": {},
   "outputs": [
    {
     "data": {
      "text/plain": [
       "0       Bulbasaur\n",
       "1         Ivysaur\n",
       "2        Venusaur\n",
       "3      Charmander\n",
       "4      Charmeleon\n",
       "          ...    \n",
       "716       Yveltal\n",
       "717       Zygarde\n",
       "718       Diancie\n",
       "719         Hoopa\n",
       "720     Volcanion\n",
       "Name: Pokemon, Length: 721, dtype: object"
      ]
     },
     "execution_count": 6,
     "metadata": {},
     "output_type": "execute_result"
    }
   ],
   "source": [
    "# If we want to keep one column.\n",
    "# the output will return dataframe but if we want this to return as series as it has one column we can use squeeze method.\n",
    "\n",
    "pokemon = pd.read_csv(\"pandas/pokemon.csv\",usecols=['Pokemon'],squeeze=True)\n",
    "pokemon"
   ]
  },
  {
   "cell_type": "code",
   "execution_count": 8,
   "id": "outside-richards",
   "metadata": {},
   "outputs": [],
   "source": [
    "# reading another file\n",
    "\n",
    "stock = pd.read_csv('pandas/google_stock_price.csv',squeeze=True)"
   ]
  },
  {
   "cell_type": "code",
   "execution_count": 9,
   "id": "plastic-chorus",
   "metadata": {},
   "outputs": [
    {
     "data": {
      "text/plain": [
       "0        50.12\n",
       "1        54.10\n",
       "2        54.65\n",
       "3        52.38\n",
       "4        52.95\n",
       "         ...  \n",
       "3007    772.88\n",
       "3008    771.07\n",
       "3009    773.18\n",
       "3010    771.61\n",
       "3011    782.22\n",
       "Name: Stock Price, Length: 3012, dtype: float64"
      ]
     },
     "execution_count": 9,
     "metadata": {},
     "output_type": "execute_result"
    }
   ],
   "source": [
    "stock"
   ]
  },
  {
   "cell_type": "markdown",
   "id": "australian-exclusion",
   "metadata": {},
   "source": [
    "### The .head() and .tail() methods"
   ]
  },
  {
   "cell_type": "code",
   "execution_count": 13,
   "id": "august-palestine",
   "metadata": {},
   "outputs": [
    {
     "data": {
      "text/html": [
       "<div>\n",
       "<style scoped>\n",
       "    .dataframe tbody tr th:only-of-type {\n",
       "        vertical-align: middle;\n",
       "    }\n",
       "\n",
       "    .dataframe tbody tr th {\n",
       "        vertical-align: top;\n",
       "    }\n",
       "\n",
       "    .dataframe thead th {\n",
       "        text-align: right;\n",
       "    }\n",
       "</style>\n",
       "<table border=\"1\" class=\"dataframe\">\n",
       "  <thead>\n",
       "    <tr style=\"text-align: right;\">\n",
       "      <th></th>\n",
       "      <th>Pokemon</th>\n",
       "      <th>Type</th>\n",
       "    </tr>\n",
       "  </thead>\n",
       "  <tbody>\n",
       "    <tr>\n",
       "      <th>0</th>\n",
       "      <td>Bulbasaur</td>\n",
       "      <td>Grass</td>\n",
       "    </tr>\n",
       "    <tr>\n",
       "      <th>1</th>\n",
       "      <td>Ivysaur</td>\n",
       "      <td>Grass</td>\n",
       "    </tr>\n",
       "    <tr>\n",
       "      <th>2</th>\n",
       "      <td>Venusaur</td>\n",
       "      <td>Grass</td>\n",
       "    </tr>\n",
       "    <tr>\n",
       "      <th>3</th>\n",
       "      <td>Charmander</td>\n",
       "      <td>Fire</td>\n",
       "    </tr>\n",
       "    <tr>\n",
       "      <th>4</th>\n",
       "      <td>Charmeleon</td>\n",
       "      <td>Fire</td>\n",
       "    </tr>\n",
       "  </tbody>\n",
       "</table>\n",
       "</div>"
      ],
      "text/plain": [
       "      Pokemon   Type\n",
       "0   Bulbasaur  Grass\n",
       "1     Ivysaur  Grass\n",
       "2    Venusaur  Grass\n",
       "3  Charmander   Fire\n",
       "4  Charmeleon   Fire"
      ]
     },
     "execution_count": 13,
     "metadata": {},
     "output_type": "execute_result"
    }
   ],
   "source": [
    "# The head function gives top 5 rows of dataset.\n",
    "# the default is 5 but we can specify this by providing parameter.\n",
    "\n",
    "pokemon.head()"
   ]
  },
  {
   "cell_type": "code",
   "execution_count": 14,
   "id": "respective-climb",
   "metadata": {},
   "outputs": [
    {
     "data": {
      "text/html": [
       "<div>\n",
       "<style scoped>\n",
       "    .dataframe tbody tr th:only-of-type {\n",
       "        vertical-align: middle;\n",
       "    }\n",
       "\n",
       "    .dataframe tbody tr th {\n",
       "        vertical-align: top;\n",
       "    }\n",
       "\n",
       "    .dataframe thead th {\n",
       "        text-align: right;\n",
       "    }\n",
       "</style>\n",
       "<table border=\"1\" class=\"dataframe\">\n",
       "  <thead>\n",
       "    <tr style=\"text-align: right;\">\n",
       "      <th></th>\n",
       "      <th>Pokemon</th>\n",
       "      <th>Type</th>\n",
       "    </tr>\n",
       "  </thead>\n",
       "  <tbody>\n",
       "    <tr>\n",
       "      <th>0</th>\n",
       "      <td>Bulbasaur</td>\n",
       "      <td>Grass</td>\n",
       "    </tr>\n",
       "    <tr>\n",
       "      <th>1</th>\n",
       "      <td>Ivysaur</td>\n",
       "      <td>Grass</td>\n",
       "    </tr>\n",
       "    <tr>\n",
       "      <th>2</th>\n",
       "      <td>Venusaur</td>\n",
       "      <td>Grass</td>\n",
       "    </tr>\n",
       "  </tbody>\n",
       "</table>\n",
       "</div>"
      ],
      "text/plain": [
       "     Pokemon   Type\n",
       "0  Bulbasaur  Grass\n",
       "1    Ivysaur  Grass\n",
       "2   Venusaur  Grass"
      ]
     },
     "execution_count": 14,
     "metadata": {},
     "output_type": "execute_result"
    }
   ],
   "source": [
    "pokemon.head(3)"
   ]
  },
  {
   "cell_type": "code",
   "execution_count": 15,
   "id": "combined-fellowship",
   "metadata": {},
   "outputs": [
    {
     "data": {
      "text/html": [
       "<div>\n",
       "<style scoped>\n",
       "    .dataframe tbody tr th:only-of-type {\n",
       "        vertical-align: middle;\n",
       "    }\n",
       "\n",
       "    .dataframe tbody tr th {\n",
       "        vertical-align: top;\n",
       "    }\n",
       "\n",
       "    .dataframe thead th {\n",
       "        text-align: right;\n",
       "    }\n",
       "</style>\n",
       "<table border=\"1\" class=\"dataframe\">\n",
       "  <thead>\n",
       "    <tr style=\"text-align: right;\">\n",
       "      <th></th>\n",
       "      <th>Pokemon</th>\n",
       "      <th>Type</th>\n",
       "    </tr>\n",
       "  </thead>\n",
       "  <tbody>\n",
       "    <tr>\n",
       "      <th>716</th>\n",
       "      <td>Yveltal</td>\n",
       "      <td>Dark</td>\n",
       "    </tr>\n",
       "    <tr>\n",
       "      <th>717</th>\n",
       "      <td>Zygarde</td>\n",
       "      <td>Dragon</td>\n",
       "    </tr>\n",
       "    <tr>\n",
       "      <th>718</th>\n",
       "      <td>Diancie</td>\n",
       "      <td>Rock</td>\n",
       "    </tr>\n",
       "    <tr>\n",
       "      <th>719</th>\n",
       "      <td>Hoopa</td>\n",
       "      <td>Psychic</td>\n",
       "    </tr>\n",
       "    <tr>\n",
       "      <th>720</th>\n",
       "      <td>Volcanion</td>\n",
       "      <td>Fire</td>\n",
       "    </tr>\n",
       "  </tbody>\n",
       "</table>\n",
       "</div>"
      ],
      "text/plain": [
       "       Pokemon     Type\n",
       "716    Yveltal     Dark\n",
       "717    Zygarde   Dragon\n",
       "718    Diancie     Rock\n",
       "719      Hoopa  Psychic\n",
       "720  Volcanion     Fire"
      ]
     },
     "execution_count": 15,
     "metadata": {},
     "output_type": "execute_result"
    }
   ],
   "source": [
    "# the tail method is compliment of head means it's going to return last 5 by default\n",
    "\n",
    "pokemon.tail()"
   ]
  },
  {
   "cell_type": "markdown",
   "id": "varied-force",
   "metadata": {},
   "source": [
    "#### python Built functions"
   ]
  },
  {
   "cell_type": "code",
   "execution_count": 39,
   "id": "seven-mobile",
   "metadata": {},
   "outputs": [],
   "source": [
    "pokemon = pd.read_csv('pandas/pokemon.csv',usecols=['Pokemon'],squeeze =True)\n",
    "stock = pd.read_csv('pandas/google_stock_price.csv',squeeze=True)"
   ]
  },
  {
   "cell_type": "code",
   "execution_count": 40,
   "id": "suspended-arrival",
   "metadata": {},
   "outputs": [
    {
     "name": "stdout",
     "output_type": "stream",
     "text": [
      "721\n",
      "3012\n"
     ]
    }
   ],
   "source": [
    "print(len(pokemon))\n",
    "print(len(stock))"
   ]
  },
  {
   "cell_type": "code",
   "execution_count": 41,
   "id": "voluntary-particular",
   "metadata": {},
   "outputs": [
    {
     "name": "stdout",
     "output_type": "stream",
     "text": [
      "<class 'pandas.core.series.Series'>\n",
      "<class 'pandas.core.series.Series'>\n"
     ]
    }
   ],
   "source": [
    "print(type(pokemon))\n",
    "print(type(stock))"
   ]
  },
  {
   "cell_type": "code",
   "execution_count": 42,
   "id": "precise-journalist",
   "metadata": {},
   "outputs": [],
   "source": [
    "dir_pokemon = dir(pokemon)"
   ]
  },
  {
   "cell_type": "code",
   "execution_count": 43,
   "id": "refined-volume",
   "metadata": {},
   "outputs": [],
   "source": [
    "sorted_values = sorted(stock)"
   ]
  },
  {
   "cell_type": "code",
   "execution_count": 44,
   "id": "delayed-variety",
   "metadata": {},
   "outputs": [],
   "source": [
    "stock_list = list(stock)"
   ]
  },
  {
   "cell_type": "code",
   "execution_count": 45,
   "id": "genetic-mediterranean",
   "metadata": {},
   "outputs": [],
   "source": [
    "stock_dict = dict(stock)"
   ]
  },
  {
   "cell_type": "code",
   "execution_count": 46,
   "id": "looking-party",
   "metadata": {},
   "outputs": [
    {
     "name": "stdout",
     "output_type": "stream",
     "text": [
      "Abomasnow\n",
      "Zygarde\n"
     ]
    }
   ],
   "source": [
    "print(min(pokemon))\n",
    "print(max(pokemon))"
   ]
  },
  {
   "cell_type": "markdown",
   "id": "inappropriate-origin",
   "metadata": {},
   "source": [
    "#### More Series Attributes"
   ]
  },
  {
   "cell_type": "code",
   "execution_count": 50,
   "id": "present-biology",
   "metadata": {},
   "outputs": [
    {
     "data": {
      "text/plain": [
       "array([ 50.12,  54.1 ,  54.65, ..., 773.18, 771.61, 782.22])"
      ]
     },
     "execution_count": 50,
     "metadata": {},
     "output_type": "execute_result"
    }
   ],
   "source": [
    "pokemon.values\n",
    "stock.values"
   ]
  },
  {
   "cell_type": "code",
   "execution_count": 51,
   "id": "opening-movement",
   "metadata": {},
   "outputs": [
    {
     "name": "stdout",
     "output_type": "stream",
     "text": [
      "object\n",
      "float64\n"
     ]
    }
   ],
   "source": [
    "print(pokemon.dtype)\n",
    "print(stock.dtype)"
   ]
  },
  {
   "cell_type": "code",
   "execution_count": 53,
   "id": "pediatric-brighton",
   "metadata": {},
   "outputs": [
    {
     "name": "stdout",
     "output_type": "stream",
     "text": [
      "True\n",
      "False\n"
     ]
    }
   ],
   "source": [
    "# to check if the values are uniques inside column\n",
    "\n",
    "print(pokemon.is_unique)\n",
    "print(stock.is_unique)"
   ]
  },
  {
   "cell_type": "code",
   "execution_count": 54,
   "id": "announced-quantity",
   "metadata": {},
   "outputs": [
    {
     "name": "stdout",
     "output_type": "stream",
     "text": [
      "1\n",
      "1\n"
     ]
    }
   ],
   "source": [
    "# to check dimensions\n",
    "\n",
    "print(pokemon.ndim)\n",
    "print(stock.ndim)"
   ]
  },
  {
   "cell_type": "code",
   "execution_count": 57,
   "id": "partial-senior",
   "metadata": {},
   "outputs": [
    {
     "name": "stdout",
     "output_type": "stream",
     "text": [
      "(721,)\n",
      "(3012,)\n"
     ]
    }
   ],
   "source": [
    "# shape gives the row by columns\n",
    "\n",
    "print(pokemon.shape)\n",
    "print(stock.shape)\n",
    "\n",
    "# we have only rows and no column"
   ]
  },
  {
   "cell_type": "code",
   "execution_count": 58,
   "id": "under-meditation",
   "metadata": {},
   "outputs": [
    {
     "name": "stdout",
     "output_type": "stream",
     "text": [
      "721\n",
      "3012\n"
     ]
    }
   ],
   "source": [
    "# size basically gives count\n",
    "\n",
    "print(pokemon.size)\n",
    "print(stock.size)"
   ]
  },
  {
   "cell_type": "code",
   "execution_count": 59,
   "id": "reflected-colorado",
   "metadata": {},
   "outputs": [
    {
     "name": "stdout",
     "output_type": "stream",
     "text": [
      "Pokemon\n"
     ]
    }
   ],
   "source": [
    "# name of the series\n",
    "\n",
    "print(pokemon.name)"
   ]
  },
  {
   "cell_type": "code",
   "execution_count": 60,
   "id": "silver-thompson",
   "metadata": {},
   "outputs": [],
   "source": [
    "# modify the name of series\n",
    "\n",
    "pokemon.name = \"Pocket Monsters\""
   ]
  },
  {
   "cell_type": "code",
   "execution_count": 62,
   "id": "naughty-large",
   "metadata": {},
   "outputs": [
    {
     "data": {
      "text/plain": [
       "'Pocket Monsters'"
      ]
     },
     "execution_count": 62,
     "metadata": {},
     "output_type": "execute_result"
    }
   ],
   "source": [
    "pokemon.name"
   ]
  },
  {
   "cell_type": "markdown",
   "id": "offensive-ending",
   "metadata": {},
   "source": [
    "#### The .sort_values() function"
   ]
  },
  {
   "cell_type": "code",
   "execution_count": 3,
   "id": "robust-times",
   "metadata": {},
   "outputs": [],
   "source": [
    "pokemon = pd.read_csv('pandas/pokemon.csv',usecols=['Pokemon'],squeeze =True)"
   ]
  },
  {
   "cell_type": "code",
   "execution_count": 4,
   "id": "important-fortune",
   "metadata": {},
   "outputs": [
    {
     "data": {
      "text/plain": [
       "459    Abomasnow\n",
       "62          Abra\n",
       "358        Absol\n",
       "616     Accelgor\n",
       "680    Aegislash\n",
       "         ...    \n",
       "570      Zoroark\n",
       "569        Zorua\n",
       "40         Zubat\n",
       "633     Zweilous\n",
       "717      Zygarde\n",
       "Name: Pokemon, Length: 721, dtype: object"
      ]
     },
     "execution_count": 4,
     "metadata": {},
     "output_type": "execute_result"
    }
   ],
   "source": [
    "# Ascending order\n",
    "\n",
    "pokemon.sort_values()"
   ]
  },
  {
   "cell_type": "code",
   "execution_count": 5,
   "id": "human-group",
   "metadata": {},
   "outputs": [
    {
     "data": {
      "text/plain": [
       "459    Abomasnow\n",
       "62          Abra\n",
       "358        Absol\n",
       "616     Accelgor\n",
       "680    Aegislash\n",
       "Name: Pokemon, dtype: object"
      ]
     },
     "execution_count": 5,
     "metadata": {},
     "output_type": "execute_result"
    }
   ],
   "source": [
    "# method chaining\n",
    "\n",
    "pokemon.sort_values().head()"
   ]
  },
  {
   "cell_type": "code",
   "execution_count": 7,
   "id": "cultural-freedom",
   "metadata": {},
   "outputs": [
    {
     "data": {
      "text/plain": [
       "717     Zygarde\n",
       "633    Zweilous\n",
       "40        Zubat\n",
       "569       Zorua\n",
       "570     Zoroark\n",
       "Name: Pokemon, dtype: object"
      ]
     },
     "execution_count": 7,
     "metadata": {},
     "output_type": "execute_result"
    }
   ],
   "source": [
    "# Descending order\n",
    "\n",
    "pokemon.sort_values(ascending=False).head()"
   ]
  },
  {
   "cell_type": "code",
   "execution_count": 16,
   "id": "affected-angel",
   "metadata": {},
   "outputs": [],
   "source": [
    "stock = pd.read_csv('pandas/google_stock_price.csv',squeeze=True)"
   ]
  },
  {
   "cell_type": "code",
   "execution_count": 9,
   "id": "impossible-mileage",
   "metadata": {},
   "outputs": [
    {
     "data": {
      "text/plain": [
       "11    49.95\n",
       "9     50.07\n",
       "0     50.12\n",
       "10    50.70\n",
       "12    50.74\n",
       "Name: Stock Price, dtype: float64"
      ]
     },
     "execution_count": 9,
     "metadata": {},
     "output_type": "execute_result"
    }
   ],
   "source": [
    "stock.sort_values().head()"
   ]
  },
  {
   "cell_type": "code",
   "execution_count": 10,
   "id": "attended-washer",
   "metadata": {},
   "outputs": [
    {
     "data": {
      "text/plain": [
       "3011    782.22\n",
       "2859    776.60\n",
       "3009    773.18\n",
       "3007    772.88\n",
       "3010    771.61\n",
       "Name: Stock Price, dtype: float64"
      ]
     },
     "execution_count": 10,
     "metadata": {},
     "output_type": "execute_result"
    }
   ],
   "source": [
    "stock.sort_values(ascending=False).head()"
   ]
  },
  {
   "cell_type": "markdown",
   "id": "southern-limitation",
   "metadata": {},
   "source": [
    "#### The inplace parameter\n",
    "overwrite the original object/variable"
   ]
  },
  {
   "cell_type": "code",
   "execution_count": 11,
   "id": "dried-webcam",
   "metadata": {},
   "outputs": [],
   "source": [
    "# old way\n",
    "\n",
    "stock = stock.sort_values()"
   ]
  },
  {
   "cell_type": "code",
   "execution_count": 12,
   "id": "roman-departure",
   "metadata": {},
   "outputs": [
    {
     "data": {
      "text/plain": [
       "11    49.95\n",
       "9     50.07\n",
       "0     50.12\n",
       "10    50.70\n",
       "12    50.74\n",
       "Name: Stock Price, dtype: float64"
      ]
     },
     "execution_count": 12,
     "metadata": {},
     "output_type": "execute_result"
    }
   ],
   "source": [
    "stock.head()"
   ]
  },
  {
   "cell_type": "code",
   "execution_count": 17,
   "id": "capital-lawsuit",
   "metadata": {},
   "outputs": [],
   "source": [
    "# standard way\n",
    "\n",
    "stock.sort_values(ascending=False,inplace=True)"
   ]
  },
  {
   "cell_type": "code",
   "execution_count": 18,
   "id": "advanced-force",
   "metadata": {},
   "outputs": [
    {
     "data": {
      "text/plain": [
       "3011    782.22\n",
       "2859    776.60\n",
       "3009    773.18\n",
       "3007    772.88\n",
       "3010    771.61\n",
       "Name: Stock Price, dtype: float64"
      ]
     },
     "execution_count": 18,
     "metadata": {},
     "output_type": "execute_result"
    }
   ],
   "source": [
    "stock.head()"
   ]
  },
  {
   "cell_type": "markdown",
   "id": "pointed-blond",
   "metadata": {},
   "source": [
    "#### The .sort_index() method"
   ]
  },
  {
   "cell_type": "code",
   "execution_count": 19,
   "id": "stuck-federation",
   "metadata": {},
   "outputs": [],
   "source": [
    "pokemon = pd.read_csv('pandas/pokemon.csv',usecols=['Pokemon'],squeeze =True)\n",
    "stock = pd.read_csv('pandas/google_stock_price.csv',squeeze=True)"
   ]
  },
  {
   "cell_type": "code",
   "execution_count": 20,
   "id": "central-laser",
   "metadata": {},
   "outputs": [],
   "source": [
    "pokemon.sort_values(ascending=False,inplace=True)"
   ]
  },
  {
   "cell_type": "code",
   "execution_count": 21,
   "id": "congressional-elite",
   "metadata": {},
   "outputs": [
    {
     "data": {
      "text/plain": [
       "717     Zygarde\n",
       "633    Zweilous\n",
       "40        Zubat\n",
       "569       Zorua\n",
       "570     Zoroark\n",
       "Name: Pokemon, dtype: object"
      ]
     },
     "execution_count": 21,
     "metadata": {},
     "output_type": "execute_result"
    }
   ],
   "source": [
    "pokemon.head()"
   ]
  },
  {
   "cell_type": "code",
   "execution_count": 23,
   "id": "amended-setup",
   "metadata": {},
   "outputs": [],
   "source": [
    "pokemon.sort_index(inplace=True)"
   ]
  },
  {
   "cell_type": "code",
   "execution_count": 24,
   "id": "wrapped-natural",
   "metadata": {},
   "outputs": [
    {
     "data": {
      "text/plain": [
       "0     Bulbasaur\n",
       "1       Ivysaur\n",
       "2      Venusaur\n",
       "3    Charmander\n",
       "4    Charmeleon\n",
       "Name: Pokemon, dtype: object"
      ]
     },
     "execution_count": 24,
     "metadata": {},
     "output_type": "execute_result"
    }
   ],
   "source": [
    "pokemon.head()"
   ]
  },
  {
   "cell_type": "code",
   "execution_count": 25,
   "id": "statewide-least",
   "metadata": {},
   "outputs": [],
   "source": [
    "flavors = [\"Spicy Sweet Chili\", \"Cool Ranch\", \"Nacho Cheese\", \"Salsa Verde\"]\n",
    "doritos = pd.Series(flavors)\n",
    "doritos.sort_values(ascending = False,inplace = True)"
   ]
  },
  {
   "cell_type": "code",
   "execution_count": 26,
   "id": "federal-shark",
   "metadata": {},
   "outputs": [
    {
     "data": {
      "text/plain": [
       "0    Spicy Sweet Chili\n",
       "3          Salsa Verde\n",
       "2         Nacho Cheese\n",
       "1           Cool Ranch\n",
       "dtype: object"
      ]
     },
     "execution_count": 26,
     "metadata": {},
     "output_type": "execute_result"
    }
   ],
   "source": [
    "doritos"
   ]
  },
  {
   "cell_type": "code",
   "execution_count": 27,
   "id": "dietary-tomato",
   "metadata": {},
   "outputs": [],
   "source": [
    "doritos.sort_values(ascending = True,inplace = True)"
   ]
  },
  {
   "cell_type": "code",
   "execution_count": 28,
   "id": "ongoing-scope",
   "metadata": {},
   "outputs": [
    {
     "data": {
      "text/plain": [
       "1           Cool Ranch\n",
       "2         Nacho Cheese\n",
       "3          Salsa Verde\n",
       "0    Spicy Sweet Chili\n",
       "dtype: object"
      ]
     },
     "execution_count": 28,
     "metadata": {},
     "output_type": "execute_result"
    }
   ],
   "source": [
    "doritos"
   ]
  },
  {
   "cell_type": "markdown",
   "id": "similar-pepper",
   "metadata": {},
   "source": [
    "#### Python's in keywords"
   ]
  },
  {
   "cell_type": "code",
   "execution_count": 30,
   "id": "purple-compression",
   "metadata": {},
   "outputs": [],
   "source": [
    "pokemon = pd.read_csv('pandas/pokemon.csv',usecols=['Pokemon'],squeeze =True)"
   ]
  },
  {
   "cell_type": "code",
   "execution_count": 34,
   "id": "physical-closure",
   "metadata": {},
   "outputs": [
    {
     "data": {
      "text/plain": [
       "True"
      ]
     },
     "execution_count": 34,
     "metadata": {},
     "output_type": "execute_result"
    }
   ],
   "source": [
    "\"Bulbasaur\" in pokemon.values"
   ]
  },
  {
   "cell_type": "code",
   "execution_count": 35,
   "id": "sharing-marks",
   "metadata": {},
   "outputs": [
    {
     "data": {
      "text/plain": [
       "False"
      ]
     },
     "execution_count": 35,
     "metadata": {},
     "output_type": "execute_result"
    }
   ],
   "source": [
    "\"abc\" in pokemon.values"
   ]
  },
  {
   "cell_type": "markdown",
   "id": "found-prompt",
   "metadata": {},
   "source": [
    "#### Extract with index value"
   ]
  },
  {
   "cell_type": "code",
   "execution_count": 36,
   "id": "national-growth",
   "metadata": {},
   "outputs": [
    {
     "data": {
      "text/plain": [
       "1       Ivysaur\n",
       "2      Venusaur\n",
       "3    Charmander\n",
       "Name: Pokemon, dtype: object"
      ]
     },
     "execution_count": 36,
     "metadata": {},
     "output_type": "execute_result"
    }
   ],
   "source": [
    "pokemon[1:4]"
   ]
  },
  {
   "cell_type": "code",
   "execution_count": 37,
   "id": "corrected-principal",
   "metadata": {},
   "outputs": [
    {
     "data": {
      "text/plain": [
       "'Voltorb'"
      ]
     },
     "execution_count": 37,
     "metadata": {},
     "output_type": "execute_result"
    }
   ],
   "source": [
    "pokemon[99]"
   ]
  },
  {
   "cell_type": "markdown",
   "id": "african-myrtle",
   "metadata": {},
   "source": [
    "#### Extract value by index label"
   ]
  },
  {
   "cell_type": "code",
   "execution_count": 38,
   "id": "adult-wages",
   "metadata": {},
   "outputs": [],
   "source": [
    "pokemon = pd.read_csv('pandas/pokemon.csv')"
   ]
  },
  {
   "cell_type": "code",
   "execution_count": 39,
   "id": "curious-acceptance",
   "metadata": {},
   "outputs": [
    {
     "data": {
      "text/html": [
       "<div>\n",
       "<style scoped>\n",
       "    .dataframe tbody tr th:only-of-type {\n",
       "        vertical-align: middle;\n",
       "    }\n",
       "\n",
       "    .dataframe tbody tr th {\n",
       "        vertical-align: top;\n",
       "    }\n",
       "\n",
       "    .dataframe thead th {\n",
       "        text-align: right;\n",
       "    }\n",
       "</style>\n",
       "<table border=\"1\" class=\"dataframe\">\n",
       "  <thead>\n",
       "    <tr style=\"text-align: right;\">\n",
       "      <th></th>\n",
       "      <th>Pokemon</th>\n",
       "      <th>Type</th>\n",
       "    </tr>\n",
       "  </thead>\n",
       "  <tbody>\n",
       "    <tr>\n",
       "      <th>0</th>\n",
       "      <td>Bulbasaur</td>\n",
       "      <td>Grass</td>\n",
       "    </tr>\n",
       "    <tr>\n",
       "      <th>1</th>\n",
       "      <td>Ivysaur</td>\n",
       "      <td>Grass</td>\n",
       "    </tr>\n",
       "    <tr>\n",
       "      <th>2</th>\n",
       "      <td>Venusaur</td>\n",
       "      <td>Grass</td>\n",
       "    </tr>\n",
       "    <tr>\n",
       "      <th>3</th>\n",
       "      <td>Charmander</td>\n",
       "      <td>Fire</td>\n",
       "    </tr>\n",
       "    <tr>\n",
       "      <th>4</th>\n",
       "      <td>Charmeleon</td>\n",
       "      <td>Fire</td>\n",
       "    </tr>\n",
       "  </tbody>\n",
       "</table>\n",
       "</div>"
      ],
      "text/plain": [
       "      Pokemon   Type\n",
       "0   Bulbasaur  Grass\n",
       "1     Ivysaur  Grass\n",
       "2    Venusaur  Grass\n",
       "3  Charmander   Fire\n",
       "4  Charmeleon   Fire"
      ]
     },
     "execution_count": 39,
     "metadata": {},
     "output_type": "execute_result"
    }
   ],
   "source": [
    "pokemon.head()"
   ]
  },
  {
   "cell_type": "code",
   "execution_count": 42,
   "id": "portable-transcription",
   "metadata": {},
   "outputs": [],
   "source": [
    "# making Pokemon as index \n",
    "\n",
    "pokemon = pd.read_csv('pandas/pokemon.csv',index_col=\"Pokemon\",squeeze=True)"
   ]
  },
  {
   "cell_type": "code",
   "execution_count": 43,
   "id": "united-cycle",
   "metadata": {},
   "outputs": [
    {
     "data": {
      "text/plain": [
       "Pokemon\n",
       "Bulbasaur     Grass\n",
       "Ivysaur       Grass\n",
       "Venusaur      Grass\n",
       "Charmander     Fire\n",
       "Charmeleon     Fire\n",
       "Name: Type, dtype: object"
      ]
     },
     "execution_count": 43,
     "metadata": {},
     "output_type": "execute_result"
    }
   ],
   "source": [
    "pokemon.head()"
   ]
  },
  {
   "cell_type": "code",
   "execution_count": 44,
   "id": "heated-uganda",
   "metadata": {},
   "outputs": [
    {
     "data": {
      "text/plain": [
       "'Grass'"
      ]
     },
     "execution_count": 44,
     "metadata": {},
     "output_type": "execute_result"
    }
   ],
   "source": [
    "pokemon['Bulbasaur']"
   ]
  },
  {
   "cell_type": "code",
   "execution_count": 45,
   "id": "small-columbia",
   "metadata": {},
   "outputs": [
    {
     "data": {
      "text/plain": [
       "Pokemon\n",
       "Bulbasaur    Grass\n",
       "Ivysaur      Grass\n",
       "Name: Type, dtype: object"
      ]
     },
     "execution_count": 45,
     "metadata": {},
     "output_type": "execute_result"
    }
   ],
   "source": [
    "pokemon[['Bulbasaur','Ivysaur']]"
   ]
  },
  {
   "cell_type": "code",
   "execution_count": 46,
   "id": "crude-shower",
   "metadata": {},
   "outputs": [
    {
     "data": {
      "text/plain": [
       "Pokemon\n",
       "Bulbasaur     Grass\n",
       "Ivysaur       Grass\n",
       "Venusaur      Grass\n",
       "Charmander     Fire\n",
       "Charmeleon     Fire\n",
       "Name: Type, dtype: object"
      ]
     },
     "execution_count": 46,
     "metadata": {},
     "output_type": "execute_result"
    }
   ],
   "source": [
    "pokemon['Bulbasaur':'Charmeleon']"
   ]
  },
  {
   "cell_type": "code",
   "execution_count": 47,
   "id": "political-bulgarian",
   "metadata": {},
   "outputs": [
    {
     "data": {
      "text/plain": [
       "Pokemon\n",
       "Bulbasaur     Grass\n",
       "Venusaur      Grass\n",
       "Charmeleon     Fire\n",
       "Name: Type, dtype: object"
      ]
     },
     "execution_count": 47,
     "metadata": {},
     "output_type": "execute_result"
    }
   ],
   "source": [
    "pokemon['Bulbasaur':'Charmeleon':2]"
   ]
  },
  {
   "cell_type": "markdown",
   "id": "korean-bowling",
   "metadata": {},
   "source": [
    "#### Exercise"
   ]
  },
  {
   "cell_type": "code",
   "execution_count": 48,
   "id": "sufficient-console",
   "metadata": {},
   "outputs": [],
   "source": [
    "guitars_dict = {\n",
    "    \"Fender Telecaster\": \"Baby Blue\",\n",
    "    \"Gibson Les Paul\": \"Sunburst\",\n",
    "    \"ESP Eclipse\": \"Dark Green\"\n",
    "}"
   ]
  },
  {
   "cell_type": "code",
   "execution_count": 49,
   "id": "considerable-action",
   "metadata": {},
   "outputs": [],
   "source": [
    "guitars = pd.Series(guitars_dict)"
   ]
  },
  {
   "cell_type": "code",
   "execution_count": 50,
   "id": "atmospheric-atmosphere",
   "metadata": {},
   "outputs": [
    {
     "data": {
      "text/plain": [
       "Fender Telecaster     Baby Blue\n",
       "Gibson Les Paul        Sunburst\n",
       "ESP Eclipse          Dark Green\n",
       "dtype: object"
      ]
     },
     "execution_count": 50,
     "metadata": {},
     "output_type": "execute_result"
    }
   ],
   "source": [
    "guitars"
   ]
  },
  {
   "cell_type": "code",
   "execution_count": 51,
   "id": "specified-mailman",
   "metadata": {},
   "outputs": [],
   "source": [
    "fender_color = guitars[0]"
   ]
  },
  {
   "cell_type": "code",
   "execution_count": 52,
   "id": "specified-egypt",
   "metadata": {},
   "outputs": [
    {
     "data": {
      "text/plain": [
       "'Baby Blue'"
      ]
     },
     "execution_count": 52,
     "metadata": {},
     "output_type": "execute_result"
    }
   ],
   "source": [
    "fender_color"
   ]
  },
  {
   "cell_type": "code",
   "execution_count": 55,
   "id": "covered-kansas",
   "metadata": {},
   "outputs": [],
   "source": [
    "gibson_color = guitars['Gibson Les Paul']"
   ]
  },
  {
   "cell_type": "code",
   "execution_count": 56,
   "id": "similar-logging",
   "metadata": {},
   "outputs": [
    {
     "data": {
      "text/plain": [
       "'Sunburst'"
      ]
     },
     "execution_count": 56,
     "metadata": {},
     "output_type": "execute_result"
    }
   ],
   "source": [
    "gibson_color"
   ]
  },
  {
   "cell_type": "markdown",
   "id": "aging-surprise",
   "metadata": {},
   "source": [
    "#### The .get() method of series"
   ]
  },
  {
   "cell_type": "code",
   "execution_count": 57,
   "id": "cross-neighbor",
   "metadata": {},
   "outputs": [],
   "source": [
    "pokemon = pd.read_csv('pandas/pokemon.csv',index_col=\"Pokemon\",squeeze=True)\n",
    "pokemon.sort_index(inplace=True)"
   ]
  },
  {
   "cell_type": "code",
   "execution_count": 58,
   "id": "single-street",
   "metadata": {},
   "outputs": [
    {
     "data": {
      "text/plain": [
       "'Grass'"
      ]
     },
     "execution_count": 58,
     "metadata": {},
     "output_type": "execute_result"
    }
   ],
   "source": [
    "pokemon.get(0)"
   ]
  },
  {
   "cell_type": "code",
   "execution_count": 59,
   "id": "proud-mayor",
   "metadata": {},
   "outputs": [],
   "source": [
    "pokemon.get(1000)"
   ]
  },
  {
   "cell_type": "code",
   "execution_count": 60,
   "id": "approximate-habitat",
   "metadata": {},
   "outputs": [
    {
     "data": {
      "text/plain": [
       "'Grass'"
      ]
     },
     "execution_count": 60,
     "metadata": {},
     "output_type": "execute_result"
    }
   ],
   "source": [
    "pokemon.get(\"Bulbasaur\")"
   ]
  },
  {
   "cell_type": "code",
   "execution_count": 61,
   "id": "enabling-perspective",
   "metadata": {},
   "outputs": [
    {
     "data": {
      "text/plain": [
       "'Not in pokemon list'"
      ]
     },
     "execution_count": 61,
     "metadata": {},
     "output_type": "execute_result"
    }
   ],
   "source": [
    "# changing the default value\n",
    "\n",
    "pokemon.get(1000,default=\"Not in pokemon list\")"
   ]
  },
  {
   "cell_type": "markdown",
   "id": "timely-measure",
   "metadata": {},
   "source": [
    "#### Math method"
   ]
  },
  {
   "cell_type": "code",
   "execution_count": 63,
   "id": "simple-division",
   "metadata": {},
   "outputs": [],
   "source": [
    "pokemon = pd.read_csv('pandas/pokemon.csv',usecols=['Pokemon'],squeeze =True)\n",
    "stock = pd.read_csv('pandas/google_stock_price.csv',squeeze=True)"
   ]
  },
  {
   "cell_type": "code",
   "execution_count": 64,
   "id": "mathematical-inspector",
   "metadata": {},
   "outputs": [
    {
     "data": {
      "text/plain": [
       "3012"
      ]
     },
     "execution_count": 64,
     "metadata": {},
     "output_type": "execute_result"
    }
   ],
   "source": [
    "# count function excludes the null/NaN values however len function includes Null/NaN values\n",
    "\n",
    "stock.count()"
   ]
  },
  {
   "cell_type": "code",
   "execution_count": 65,
   "id": "swiss-round",
   "metadata": {},
   "outputs": [
    {
     "data": {
      "text/plain": [
       "1006942.0"
      ]
     },
     "execution_count": 65,
     "metadata": {},
     "output_type": "execute_result"
    }
   ],
   "source": [
    "# sum method\n",
    "\n",
    "stock.sum()"
   ]
  },
  {
   "cell_type": "code",
   "execution_count": 66,
   "id": "generous-appearance",
   "metadata": {},
   "outputs": [
    {
     "data": {
      "text/plain": [
       "334.3100929614874"
      ]
     },
     "execution_count": 66,
     "metadata": {},
     "output_type": "execute_result"
    }
   ],
   "source": [
    "# mean method\n",
    "\n",
    "stock.mean()"
   ]
  },
  {
   "cell_type": "code",
   "execution_count": 67,
   "id": "funded-button",
   "metadata": {},
   "outputs": [
    {
     "data": {
      "text/plain": [
       "173.18720477113115"
      ]
     },
     "execution_count": 67,
     "metadata": {},
     "output_type": "execute_result"
    }
   ],
   "source": [
    "# Standard Deviations\n",
    "\n",
    "stock.std()"
   ]
  },
  {
   "cell_type": "code",
   "execution_count": 68,
   "id": "polish-grade",
   "metadata": {},
   "outputs": [
    {
     "name": "stdout",
     "output_type": "stream",
     "text": [
      "49.95\n",
      "782.22\n"
     ]
    }
   ],
   "source": [
    "# min and max function\n",
    "\n",
    "print(min(stock))\n",
    "print(max(stock))"
   ]
  },
  {
   "cell_type": "code",
   "execution_count": 69,
   "id": "necessary-energy",
   "metadata": {},
   "outputs": [
    {
     "data": {
      "text/plain": [
       "283.315"
      ]
     },
     "execution_count": 69,
     "metadata": {},
     "output_type": "execute_result"
    }
   ],
   "source": [
    "# median method\n",
    "\n",
    "stock.median()"
   ]
  },
  {
   "cell_type": "code",
   "execution_count": 70,
   "id": "composite-calcium",
   "metadata": {},
   "outputs": [
    {
     "data": {
      "text/plain": [
       "0    291.21\n",
       "dtype: float64"
      ]
     },
     "execution_count": 70,
     "metadata": {},
     "output_type": "execute_result"
    }
   ],
   "source": [
    "# Mode method\n",
    "\n",
    "stock.mode()"
   ]
  },
  {
   "cell_type": "code",
   "execution_count": 71,
   "id": "broken-offering",
   "metadata": {},
   "outputs": [
    {
     "data": {
      "text/plain": [
       "count    3012.000000\n",
       "mean      334.310093\n",
       "std       173.187205\n",
       "min        49.950000\n",
       "25%       218.045000\n",
       "50%       283.315000\n",
       "75%       443.000000\n",
       "max       782.220000\n",
       "Name: Stock Price, dtype: float64"
      ]
     },
     "execution_count": 71,
     "metadata": {},
     "output_type": "execute_result"
    }
   ],
   "source": [
    "# describe Method return all the statistical summary at once\n",
    "\n",
    "stock.describe()"
   ]
  },
  {
   "cell_type": "markdown",
   "id": "advanced-pleasure",
   "metadata": {},
   "source": [
    "#### The .idxmax and idxmin method "
   ]
  },
  {
   "cell_type": "code",
   "execution_count": 72,
   "id": "dutch-prisoner",
   "metadata": {},
   "outputs": [],
   "source": [
    "stock = pd.read_csv('pandas/google_stock_price.csv',squeeze=True)"
   ]
  },
  {
   "cell_type": "code",
   "execution_count": 73,
   "id": "magnetic-stranger",
   "metadata": {},
   "outputs": [
    {
     "data": {
      "text/plain": [
       "3011"
      ]
     },
     "execution_count": 73,
     "metadata": {},
     "output_type": "execute_result"
    }
   ],
   "source": [
    "stock.idxmax()"
   ]
  },
  {
   "cell_type": "code",
   "execution_count": 74,
   "id": "numerous-speaking",
   "metadata": {},
   "outputs": [
    {
     "data": {
      "text/plain": [
       "782.22"
      ]
     },
     "execution_count": 74,
     "metadata": {},
     "output_type": "execute_result"
    }
   ],
   "source": [
    "stock[3011]"
   ]
  },
  {
   "cell_type": "code",
   "execution_count": 75,
   "id": "eight-breed",
   "metadata": {},
   "outputs": [
    {
     "data": {
      "text/plain": [
       "11"
      ]
     },
     "execution_count": 75,
     "metadata": {},
     "output_type": "execute_result"
    }
   ],
   "source": [
    "stock.idxmin()"
   ]
  },
  {
   "cell_type": "code",
   "execution_count": 76,
   "id": "according-delivery",
   "metadata": {},
   "outputs": [
    {
     "data": {
      "text/plain": [
       "49.95"
      ]
     },
     "execution_count": 76,
     "metadata": {},
     "output_type": "execute_result"
    }
   ],
   "source": [
    "stock[11]"
   ]
  },
  {
   "cell_type": "code",
   "execution_count": 77,
   "id": "accurate-transcript",
   "metadata": {},
   "outputs": [
    {
     "data": {
      "text/plain": [
       "782.22"
      ]
     },
     "execution_count": 77,
     "metadata": {},
     "output_type": "execute_result"
    }
   ],
   "source": [
    "stock[stock.idxmax()]"
   ]
  },
  {
   "cell_type": "markdown",
   "id": "coastal-mills",
   "metadata": {},
   "source": [
    "#### The .value_counts method"
   ]
  },
  {
   "cell_type": "code",
   "execution_count": 84,
   "id": "international-panic",
   "metadata": {},
   "outputs": [],
   "source": [
    "pokemon = pd.read_csv('pandas/pokemon.csv',index_col=\"Pokemon\",squeeze=True)"
   ]
  },
  {
   "cell_type": "code",
   "execution_count": 85,
   "id": "genuine-architecture",
   "metadata": {},
   "outputs": [
    {
     "data": {
      "text/plain": [
       "Water       105\n",
       "Normal       93\n",
       "Grass        66\n",
       "Bug          63\n",
       "Psychic      47\n",
       "Fire         47\n",
       "Rock         41\n",
       "Electric     36\n",
       "Ground       30\n",
       "Dark         28\n",
       "Poison       28\n",
       "Fighting     25\n",
       "Dragon       24\n",
       "Ghost        23\n",
       "Ice          23\n",
       "Steel        22\n",
       "Fairy        17\n",
       "Flying        3\n",
       "Name: Type, dtype: int64"
      ]
     },
     "execution_count": 85,
     "metadata": {},
     "output_type": "execute_result"
    }
   ],
   "source": [
    "pokemon.value_counts()"
   ]
  },
  {
   "cell_type": "code",
   "execution_count": 87,
   "id": "pointed-filing",
   "metadata": {},
   "outputs": [
    {
     "data": {
      "text/plain": [
       "Flying        3\n",
       "Fairy        17\n",
       "Steel        22\n",
       "Ice          23\n",
       "Ghost        23\n",
       "Dragon       24\n",
       "Fighting     25\n",
       "Dark         28\n",
       "Poison       28\n",
       "Ground       30\n",
       "Electric     36\n",
       "Rock         41\n",
       "Psychic      47\n",
       "Fire         47\n",
       "Bug          63\n",
       "Grass        66\n",
       "Normal       93\n",
       "Water       105\n",
       "Name: Type, dtype: int64"
      ]
     },
     "execution_count": 87,
     "metadata": {},
     "output_type": "execute_result"
    }
   ],
   "source": [
    "pokemon.value_counts(ascending=True)"
   ]
  },
  {
   "cell_type": "markdown",
   "id": "driven-general",
   "metadata": {},
   "source": [
    "#### The .apply function"
   ]
  },
  {
   "cell_type": "code",
   "execution_count": 90,
   "id": "handled-credits",
   "metadata": {},
   "outputs": [],
   "source": [
    "def classify(numbers):\n",
    "    if numbers < 300:\n",
    "        return \"Okay\"\n",
    "    elif numbers >=300 and numbers <= 600:\n",
    "        return \"Satisfactory\"\n",
    "    else:\n",
    "        return \"Excellent\""
   ]
  },
  {
   "cell_type": "code",
   "execution_count": 91,
   "id": "usual-copper",
   "metadata": {},
   "outputs": [
    {
     "data": {
      "text/plain": [
       "0            Okay\n",
       "1            Okay\n",
       "2            Okay\n",
       "3            Okay\n",
       "4            Okay\n",
       "          ...    \n",
       "3007    Excellent\n",
       "3008    Excellent\n",
       "3009    Excellent\n",
       "3010    Excellent\n",
       "3011    Excellent\n",
       "Name: Stock Price, Length: 3012, dtype: object"
      ]
     },
     "execution_count": 91,
     "metadata": {},
     "output_type": "execute_result"
    }
   ],
   "source": [
    "# apply function takes this function and apply on all numbers one by one\n",
    "\n",
    "stock.apply(classify)"
   ]
  },
  {
   "cell_type": "code",
   "execution_count": 92,
   "id": "great-processor",
   "metadata": {},
   "outputs": [
    {
     "data": {
      "text/plain": [
       "0        51.12\n",
       "1        55.10\n",
       "2        55.65\n",
       "3        53.38\n",
       "4        53.95\n",
       "         ...  \n",
       "3007    773.88\n",
       "3008    772.07\n",
       "3009    774.18\n",
       "3010    772.61\n",
       "3011    783.22\n",
       "Name: Stock Price, Length: 3012, dtype: float64"
      ]
     },
     "execution_count": 92,
     "metadata": {},
     "output_type": "execute_result"
    }
   ],
   "source": [
    "stock.apply(lambda stock_price : stock_price + 1)"
   ]
  },
  {
   "cell_type": "code",
   "execution_count": 97,
   "id": "intended-following",
   "metadata": {},
   "outputs": [
    {
     "data": {
      "text/plain": [
       "0       Good\n",
       "1       Good\n",
       "2       Good\n",
       "3       Good\n",
       "4       Good\n",
       "        ... \n",
       "3007    Okay\n",
       "3008    Okay\n",
       "3009    Okay\n",
       "3010    Okay\n",
       "3011    Okay\n",
       "Name: Stock Price, Length: 3012, dtype: object"
      ]
     },
     "execution_count": 97,
     "metadata": {},
     "output_type": "execute_result"
    }
   ],
   "source": [
    "stock.apply(lambda stock_price : \"Okay\" if stock_price > 300 else \"Good\")"
   ]
  },
  {
   "cell_type": "markdown",
   "id": "rubber-student",
   "metadata": {},
   "source": [
    "#### The .map() function"
   ]
  },
  {
   "cell_type": "code",
   "execution_count": 103,
   "id": "median-surge",
   "metadata": {},
   "outputs": [
    {
     "data": {
      "text/plain": [
       "0    Bulbasaur\n",
       "1      Ivysaur\n",
       "2     Venusaur\n",
       "Name: Pokemon, dtype: object"
      ]
     },
     "execution_count": 103,
     "metadata": {},
     "output_type": "execute_result"
    }
   ],
   "source": [
    "pokemon_names = pd.read_csv(\"pandas/pokemon.csv\",usecols=[\"Pokemon\"],squeeze=True)\n",
    "pokemon_names.head(3)"
   ]
  },
  {
   "cell_type": "code",
   "execution_count": 106,
   "id": "amateur-imperial",
   "metadata": {},
   "outputs": [
    {
     "data": {
      "text/plain": [
       "Pokemon\n",
       "Bulbasaur    Grass\n",
       "Ivysaur      Grass\n",
       "Venusaur     Grass\n",
       "Name: Type, dtype: object"
      ]
     },
     "execution_count": 106,
     "metadata": {},
     "output_type": "execute_result"
    }
   ],
   "source": [
    "pokemon_types = pd.read_csv(\"pandas/pokemon.csv\",index_col=[\"Pokemon\"],squeeze=True)\n",
    "pokemon_types.head(3)"
   ]
  },
  {
   "cell_type": "code",
   "execution_count": 108,
   "id": "satellite-layout",
   "metadata": {},
   "outputs": [
    {
     "data": {
      "text/plain": [
       "0    Grass\n",
       "1    Grass\n",
       "2    Grass\n",
       "3     Fire\n",
       "4     Fire\n",
       "Name: Pokemon, dtype: object"
      ]
     },
     "execution_count": 108,
     "metadata": {},
     "output_type": "execute_result"
    }
   ],
   "source": [
    "(pokemon_names.map(pokemon_types)).head(5)"
   ]
  }
 ],
 "metadata": {
  "kernelspec": {
   "display_name": "Python 3",
   "language": "python",
   "name": "python3"
  },
  "language_info": {
   "codemirror_mode": {
    "name": "ipython",
    "version": 3
   },
   "file_extension": ".py",
   "mimetype": "text/x-python",
   "name": "python",
   "nbconvert_exporter": "python",
   "pygments_lexer": "ipython3",
   "version": "3.9.1"
  }
 },
 "nbformat": 4,
 "nbformat_minor": 5
}
