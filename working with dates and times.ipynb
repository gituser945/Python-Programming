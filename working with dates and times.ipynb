{
 "cells": [
  {
   "cell_type": "markdown",
   "id": "parallel-replication",
   "metadata": {},
   "source": [
    "### implementation of Date and time module"
   ]
  },
  {
   "cell_type": "code",
   "execution_count": 1,
   "id": "applied-strength",
   "metadata": {},
   "outputs": [],
   "source": [
    "# importing both libraries\n",
    "\n",
    "import pandas as pd\n",
    "import datetime as dt"
   ]
  },
  {
   "cell_type": "code",
   "execution_count": 2,
   "id": "interim-funds",
   "metadata": {},
   "outputs": [],
   "source": [
    "# creating basic date object\n",
    "\n",
    "someday = dt.date(2021,5,5)"
   ]
  },
  {
   "cell_type": "code",
   "execution_count": 5,
   "id": "arctic-presentation",
   "metadata": {},
   "outputs": [
    {
     "name": "stdout",
     "output_type": "stream",
     "text": [
      "5\n",
      "2021\n",
      "5\n"
     ]
    }
   ],
   "source": [
    "print(someday.day)\n",
    "print(someday.year)\n",
    "print(someday.month)"
   ]
  },
  {
   "cell_type": "code",
   "execution_count": 7,
   "id": "synthetic-haven",
   "metadata": {},
   "outputs": [],
   "source": [
    "# let's explore datetime object\n",
    "# it will return time as well if we donot provide time then it will default to midnight\n",
    "\n",
    "someday = dt.datetime(2021,1,21)"
   ]
  },
  {
   "cell_type": "code",
   "execution_count": 8,
   "id": "prepared-capability",
   "metadata": {},
   "outputs": [
    {
     "data": {
      "text/plain": [
       "datetime.datetime(2021, 1, 21, 0, 0)"
      ]
     },
     "execution_count": 8,
     "metadata": {},
     "output_type": "execute_result"
    }
   ],
   "source": [
    "someday"
   ]
  },
  {
   "cell_type": "code",
   "execution_count": 9,
   "id": "threatened-miller",
   "metadata": {},
   "outputs": [
    {
     "data": {
      "text/plain": [
       "'2021-01-21 00:00:00'"
      ]
     },
     "execution_count": 9,
     "metadata": {},
     "output_type": "execute_result"
    }
   ],
   "source": [
    "# if we want this into string format we can pass this inside str\n",
    "\n",
    "str(someday)"
   ]
  },
  {
   "cell_type": "markdown",
   "id": "integrated-medicare",
   "metadata": {},
   "source": [
    "### The pandas Timestamp object"
   ]
  },
  {
   "cell_type": "code",
   "execution_count": 11,
   "id": "dedicated-healing",
   "metadata": {},
   "outputs": [
    {
     "data": {
      "text/plain": [
       "Timestamp('2019-01-01 00:00:00')"
      ]
     },
     "execution_count": 11,
     "metadata": {},
     "output_type": "execute_result"
    }
   ],
   "source": [
    "pd.Timestamp('2019-01-01')"
   ]
  },
  {
   "cell_type": "code",
   "execution_count": 12,
   "id": "formed-change",
   "metadata": {},
   "outputs": [
    {
     "data": {
      "text/plain": [
       "Timestamp('2019-01-01 00:00:00')"
      ]
     },
     "execution_count": 12,
     "metadata": {},
     "output_type": "execute_result"
    }
   ],
   "source": [
    "pd.Timestamp('2019/01/01')"
   ]
  },
  {
   "cell_type": "code",
   "execution_count": 14,
   "id": "interested-thunder",
   "metadata": {},
   "outputs": [
    {
     "data": {
      "text/plain": [
       "Timestamp('2019-01-01 00:00:00')"
      ]
     },
     "execution_count": 14,
     "metadata": {},
     "output_type": "execute_result"
    }
   ],
   "source": [
    "pd.Timestamp('2019,01,01')"
   ]
  },
  {
   "cell_type": "code",
   "execution_count": 15,
   "id": "opponent-fiction",
   "metadata": {},
   "outputs": [
    {
     "data": {
      "text/plain": [
       "Timestamp('2015-01-01 00:00:00')"
      ]
     },
     "execution_count": 15,
     "metadata": {},
     "output_type": "execute_result"
    }
   ],
   "source": [
    "pd.Timestamp('01/01/2015')"
   ]
  },
  {
   "cell_type": "markdown",
   "id": "challenging-twins",
   "metadata": {},
   "source": [
    "### The pandas DateTimeIndex object"
   ]
  },
  {
   "cell_type": "code",
   "execution_count": 16,
   "id": "mounted-desperate",
   "metadata": {},
   "outputs": [
    {
     "data": {
      "text/plain": [
       "DatetimeIndex(['2021-09-02', '2009-09-02', '2070-01-01'], dtype='datetime64[ns]', freq=None)"
      ]
     },
     "execution_count": 16,
     "metadata": {},
     "output_type": "execute_result"
    }
   ],
   "source": [
    "dates = [\"2021-09-02\",\"2009-09-02\",\"2070-01-01\"]\n",
    "pd.DatetimeIndex(dates)"
   ]
  },
  {
   "cell_type": "markdown",
   "id": "informal-distribution",
   "metadata": {},
   "source": [
    "### The `pd.to_datetime()` method"
   ]
  },
  {
   "cell_type": "code",
   "execution_count": 17,
   "id": "alike-locator",
   "metadata": {},
   "outputs": [
    {
     "data": {
      "text/plain": [
       "Timestamp('2019-01-01 00:00:00')"
      ]
     },
     "execution_count": 17,
     "metadata": {},
     "output_type": "execute_result"
    }
   ],
   "source": [
    "pd.to_datetime('2019-01-01')"
   ]
  },
  {
   "cell_type": "code",
   "execution_count": 19,
   "id": "black-values",
   "metadata": {},
   "outputs": [],
   "source": [
    "# let's first create pandas series of date and time\n",
    "\n",
    "dates = pd.Series(['2019-01-09','2021','2014/04/01','July 4th, 1996'])"
   ]
  },
  {
   "cell_type": "code",
   "execution_count": 20,
   "id": "essential-placement",
   "metadata": {},
   "outputs": [
    {
     "data": {
      "text/plain": [
       "0   2019-01-09\n",
       "1   2021-01-01\n",
       "2   2014-04-01\n",
       "3   1996-07-04\n",
       "dtype: datetime64[ns]"
      ]
     },
     "execution_count": 20,
     "metadata": {},
     "output_type": "execute_result"
    }
   ],
   "source": [
    "pd.to_datetime(dates)"
   ]
  },
  {
   "cell_type": "code",
   "execution_count": 21,
   "id": "still-sister",
   "metadata": {},
   "outputs": [],
   "source": [
    "# let's try to pass normal string inside dates and then try to convert\n",
    "\n",
    "dates = pd.Series(['2019-01-09','Hello','2014/04/01','July 4th, 1996'])"
   ]
  },
  {
   "cell_type": "code",
   "execution_count": 22,
   "id": "prompt-honey",
   "metadata": {},
   "outputs": [
    {
     "data": {
      "text/plain": [
       "0   2019-01-09\n",
       "1          NaT\n",
       "2   2014-04-01\n",
       "3   1996-07-04\n",
       "dtype: datetime64[ns]"
      ]
     },
     "execution_count": 22,
     "metadata": {},
     "output_type": "execute_result"
    }
   ],
   "source": [
    "# if we set errors parameter to coerce then it will return NaT equivalent to NaN if the type is not date\n",
    "\n",
    "pd.to_datetime(dates , errors='coerce')"
   ]
  },
  {
   "cell_type": "markdown",
   "id": "described-letter",
   "metadata": {},
   "source": [
    "### Creating range of Dates with the pd.date_range() Method"
   ]
  },
  {
   "cell_type": "code",
   "execution_count": 23,
   "id": "prime-consciousness",
   "metadata": {},
   "outputs": [
    {
     "data": {
      "text/plain": [
       "DatetimeIndex(['2016-01-01', '2016-01-02', '2016-01-03', '2016-01-04',\n",
       "               '2016-01-05', '2016-01-06', '2016-01-07', '2016-01-08',\n",
       "               '2016-01-09', '2016-01-10'],\n",
       "              dtype='datetime64[ns]', freq='D')"
      ]
     },
     "execution_count": 23,
     "metadata": {},
     "output_type": "execute_result"
    }
   ],
   "source": [
    "# it will take start and end date and then it will return based on frequency so in this case we have given D which means\n",
    "# it is going to return on single day interval\n",
    "\n",
    "pd.date_range(start = '2016-01-01',end = '2016-01-10',freq='D')"
   ]
  },
  {
   "cell_type": "code",
   "execution_count": 25,
   "id": "powerful-video",
   "metadata": {},
   "outputs": [
    {
     "data": {
      "text/plain": [
       "DatetimeIndex(['2016-01-01', '2016-01-04', '2016-01-05', '2016-01-06',\n",
       "               '2016-01-07', '2016-01-08'],\n",
       "              dtype='datetime64[ns]', freq='B')"
      ]
     },
     "execution_count": 25,
     "metadata": {},
     "output_type": "execute_result"
    }
   ],
   "source": [
    "# If we want to get interval as business Days then we can use B into frequency\n",
    "# If you notice output it returned only weekdays and skipped weekends\n",
    "\n",
    "pd.date_range(start = '2016-01-01',end = '2016-01-10',freq='B')"
   ]
  },
  {
   "cell_type": "code",
   "execution_count": 26,
   "id": "announced-chinese",
   "metadata": {},
   "outputs": [
    {
     "data": {
      "text/plain": [
       "DatetimeIndex(['2016-01-03', '2016-01-10'], dtype='datetime64[ns]', freq='W-SUN')"
      ]
     },
     "execution_count": 26,
     "metadata": {},
     "output_type": "execute_result"
    }
   ],
   "source": [
    "# if we want to return only specific days from range\n",
    "# The below example return only SUNDAY from ranges\n",
    "\n",
    "pd.date_range(start = '2016-01-01',end = '2016-01-10',freq='W-SUN')"
   ]
  },
  {
   "cell_type": "code",
   "execution_count": 27,
   "id": "caring-metadata",
   "metadata": {},
   "outputs": [
    {
     "data": {
      "text/plain": [
       "DatetimeIndex(['2016-01-01 00:00:00', '2016-01-01 01:00:00',\n",
       "               '2016-01-01 02:00:00', '2016-01-01 03:00:00',\n",
       "               '2016-01-01 04:00:00', '2016-01-01 05:00:00',\n",
       "               '2016-01-01 06:00:00', '2016-01-01 07:00:00',\n",
       "               '2016-01-01 08:00:00', '2016-01-01 09:00:00',\n",
       "               ...\n",
       "               '2016-01-09 15:00:00', '2016-01-09 16:00:00',\n",
       "               '2016-01-09 17:00:00', '2016-01-09 18:00:00',\n",
       "               '2016-01-09 19:00:00', '2016-01-09 20:00:00',\n",
       "               '2016-01-09 21:00:00', '2016-01-09 22:00:00',\n",
       "               '2016-01-09 23:00:00', '2016-01-10 00:00:00'],\n",
       "              dtype='datetime64[ns]', length=217, freq='H')"
      ]
     },
     "execution_count": 27,
     "metadata": {},
     "output_type": "execute_result"
    }
   ],
   "source": [
    "pd.date_range(start = '2016-01-01',end = '2016-01-10',freq='H')"
   ]
  },
  {
   "cell_type": "code",
   "execution_count": 2,
   "id": "nuclear-underground",
   "metadata": {},
   "outputs": [
    {
     "data": {
      "text/plain": [
       "DatetimeIndex(['2019-01-01', '2019-01-02', '2019-01-03', '2019-01-04',\n",
       "               '2019-01-05', '2019-01-06', '2019-01-07', '2019-01-08',\n",
       "               '2019-01-09', '2019-01-10', '2019-01-11', '2019-01-12',\n",
       "               '2019-01-13', '2019-01-14', '2019-01-15', '2019-01-16',\n",
       "               '2019-01-17', '2019-01-18', '2019-01-19', '2019-01-20'],\n",
       "              dtype='datetime64[ns]', freq='D')"
      ]
     },
     "execution_count": 2,
     "metadata": {},
     "output_type": "execute_result"
    }
   ],
   "source": [
    "# to get dates based on periods \n",
    "# the below code will return 20 days from 2019-01-01\n",
    "\n",
    "pd.date_range(start = \"2019-01-01\",periods=20,freq='D')"
   ]
  },
  {
   "cell_type": "code",
   "execution_count": 3,
   "id": "armed-street",
   "metadata": {},
   "outputs": [
    {
     "data": {
      "text/plain": [
       "DatetimeIndex(['2019-01-01', '2019-01-02', '2019-01-03', '2019-01-04',\n",
       "               '2019-01-07', '2019-01-08', '2019-01-09', '2019-01-10',\n",
       "               '2019-01-11', '2019-01-14', '2019-01-15', '2019-01-16',\n",
       "               '2019-01-17', '2019-01-18', '2019-01-21', '2019-01-22',\n",
       "               '2019-01-23', '2019-01-24', '2019-01-25', '2019-01-28'],\n",
       "              dtype='datetime64[ns]', freq='B')"
      ]
     },
     "execution_count": 3,
     "metadata": {},
     "output_type": "execute_result"
    }
   ],
   "source": [
    "# if we want 20 business days then \n",
    "\n",
    "pd.date_range(start = \"2019-01-01\",periods=20,freq='B')"
   ]
  },
  {
   "cell_type": "code",
   "execution_count": 4,
   "id": "statutory-bacon",
   "metadata": {},
   "outputs": [
    {
     "data": {
      "text/plain": [
       "DatetimeIndex(['2019-01-01', '2019-02-01', '2019-03-01', '2019-04-01',\n",
       "               '2019-05-01', '2019-06-01', '2019-07-01', '2019-08-01',\n",
       "               '2019-09-01', '2019-10-01', '2019-11-01', '2019-12-01',\n",
       "               '2020-01-01', '2020-02-01', '2020-03-01', '2020-04-01',\n",
       "               '2020-05-01', '2020-06-01', '2020-07-01', '2020-08-01'],\n",
       "              dtype='datetime64[ns]', freq='MS')"
      ]
     },
     "execution_count": 4,
     "metadata": {},
     "output_type": "execute_result"
    }
   ],
   "source": [
    "# if we want 20 Months then \n",
    "\n",
    "pd.date_range(start = \"2019-01-01\",periods=20,freq='MS')"
   ]
  },
  {
   "cell_type": "code",
   "execution_count": 5,
   "id": "fifteen-editing",
   "metadata": {},
   "outputs": [
    {
     "data": {
      "text/plain": [
       "DatetimeIndex(['2019-01-01 00:00:00', '2019-01-01 01:00:00',\n",
       "               '2019-01-01 02:00:00', '2019-01-01 03:00:00',\n",
       "               '2019-01-01 04:00:00', '2019-01-01 05:00:00',\n",
       "               '2019-01-01 06:00:00', '2019-01-01 07:00:00',\n",
       "               '2019-01-01 08:00:00', '2019-01-01 09:00:00',\n",
       "               '2019-01-01 10:00:00', '2019-01-01 11:00:00',\n",
       "               '2019-01-01 12:00:00', '2019-01-01 13:00:00',\n",
       "               '2019-01-01 14:00:00', '2019-01-01 15:00:00',\n",
       "               '2019-01-01 16:00:00', '2019-01-01 17:00:00',\n",
       "               '2019-01-01 18:00:00', '2019-01-01 19:00:00'],\n",
       "              dtype='datetime64[ns]', freq='H')"
      ]
     },
     "execution_count": 5,
     "metadata": {},
     "output_type": "execute_result"
    }
   ],
   "source": [
    "# if we want 20 hours then \n",
    "\n",
    "pd.date_range(start = \"2019-01-01\",periods=20,freq='H')"
   ]
  },
  {
   "cell_type": "code",
   "execution_count": 6,
   "id": "atlantic-moral",
   "metadata": {},
   "outputs": [
    {
     "data": {
      "text/plain": [
       "DatetimeIndex(['2017-06-01', '2017-07-01', '2017-08-01', '2017-09-01',\n",
       "               '2017-10-01', '2017-11-01', '2017-12-01', '2018-01-01',\n",
       "               '2018-02-01', '2018-03-01', '2018-04-01', '2018-05-01',\n",
       "               '2018-06-01', '2018-07-01', '2018-08-01', '2018-09-01',\n",
       "               '2018-10-01', '2018-11-01', '2018-12-01', '2019-01-01'],\n",
       "              dtype='datetime64[ns]', freq='MS')"
      ]
     },
     "execution_count": 6,
     "metadata": {},
     "output_type": "execute_result"
    }
   ],
   "source": [
    "# If we want to go in reverse \n",
    "\n",
    "pd.date_range(end = \"2019-01-01\",periods=20,freq='MS')"
   ]
  },
  {
   "cell_type": "markdown",
   "id": "floral-aside",
   "metadata": {},
   "source": [
    "### The .dt accessor"
   ]
  },
  {
   "cell_type": "code",
   "execution_count": 7,
   "id": "secondary-airport",
   "metadata": {},
   "outputs": [],
   "source": [
    "bunch_of_dates = pd.date_range(start = '2010-01-01',end = '2020-01-01',freq='24D')"
   ]
  },
  {
   "cell_type": "code",
   "execution_count": 8,
   "id": "subjective-jewelry",
   "metadata": {},
   "outputs": [],
   "source": [
    "s = pd.Series(bunch_of_dates)"
   ]
  },
  {
   "cell_type": "code",
   "execution_count": 9,
   "id": "buried-plaza",
   "metadata": {},
   "outputs": [
    {
     "data": {
      "text/plain": [
       "0       1\n",
       "1      25\n",
       "2      18\n",
       "3      14\n",
       "4       7\n",
       "       ..\n",
       "148    23\n",
       "149    17\n",
       "150    10\n",
       "151     4\n",
       "152    28\n",
       "Length: 153, dtype: int64"
      ]
     },
     "execution_count": 9,
     "metadata": {},
     "output_type": "execute_result"
    }
   ],
   "source": [
    "# if we want to access dates from series we need to add suffix .dt acessor\n",
    "s.dt.day"
   ]
  },
  {
   "cell_type": "code",
   "execution_count": 15,
   "id": "disturbed-validation",
   "metadata": {},
   "outputs": [
    {
     "data": {
      "text/plain": [
       "0      False\n",
       "1      False\n",
       "2      False\n",
       "3      False\n",
       "4      False\n",
       "       ...  \n",
       "148    False\n",
       "149    False\n",
       "150    False\n",
       "151    False\n",
       "152    False\n",
       "Length: 153, dtype: bool"
      ]
     },
     "execution_count": 15,
     "metadata": {},
     "output_type": "execute_result"
    }
   ],
   "source": [
    "s.dt.is_leap_year"
   ]
  },
  {
   "cell_type": "code",
   "execution_count": null,
   "id": "suspended-moscow",
   "metadata": {},
   "outputs": [],
   "source": []
  }
 ],
 "metadata": {
  "kernelspec": {
   "display_name": "Python 3",
   "language": "python",
   "name": "python3"
  },
  "language_info": {
   "codemirror_mode": {
    "name": "ipython",
    "version": 3
   },
   "file_extension": ".py",
   "mimetype": "text/x-python",
   "name": "python",
   "nbconvert_exporter": "python",
   "pygments_lexer": "ipython3",
   "version": "3.9.1"
  }
 },
 "nbformat": 4,
 "nbformat_minor": 5
}
