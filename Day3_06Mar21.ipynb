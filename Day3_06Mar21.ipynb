{
 "cells": [
  {
   "cell_type": "markdown",
   "metadata": {},
   "source": [
    "### Class 3 -- Python Programming -- 6th Mar 2021"
   ]
  },
  {
   "cell_type": "markdown",
   "metadata": {},
   "source": [
    "if statements continued:"
   ]
  },
  {
   "cell_type": "code",
   "execution_count": 1,
   "metadata": {},
   "outputs": [
    {
     "name": "stdout",
     "output_type": "stream",
     "text": [
      "This is a vald statement\n"
     ]
    }
   ],
   "source": [
    "# if statement for multiple condition\n",
    "# AND Condition\n",
    "\n",
    "a = 10\n",
    "b = 20\n",
    "\n",
    "if a == 10 and b == 20:\n",
    "    print('This is a vald statement')"
   ]
  },
  {
   "cell_type": "code",
   "execution_count": 2,
   "metadata": {},
   "outputs": [
    {
     "name": "stdout",
     "output_type": "stream",
     "text": [
      "Invalid condition\n"
     ]
    }
   ],
   "source": [
    "# if statement with invalid conditions\n",
    "# AND Condition\n",
    "\n",
    "a = 10\n",
    "b = 20\n",
    "\n",
    "if a == 10 and b > 20:\n",
    "    print('This is a vald statement')\n",
    "else:\n",
    "    print('Invalid condition')"
   ]
  },
  {
   "cell_type": "code",
   "execution_count": 3,
   "metadata": {},
   "outputs": [
    {
     "name": "stdout",
     "output_type": "stream",
     "text": [
      "Inside elif\n"
     ]
    }
   ],
   "source": [
    "# if statement with elif\n",
    "# AND Condition\n",
    "\n",
    "a = 10\n",
    "b = 20\n",
    "\n",
    "if a == 10 and b > 20:\n",
    "    print('This is valid one')\n",
    "elif a ==10 and b < 25:\n",
    "    print('Inside elif')\n",
    "else:\n",
    "    print('invalid')"
   ]
  },
  {
   "cell_type": "code",
   "execution_count": 9,
   "metadata": {},
   "outputs": [
    {
     "name": "stdin",
     "output_type": "stream",
     "text": [
      "Enter first name : Nikhil\n",
      "Enter last name : Kumar\n"
     ]
    },
    {
     "name": "stdout",
     "output_type": "stream",
     "text": [
      "Correct\n"
     ]
    }
   ],
   "source": [
    "# test example\n",
    "\n",
    "inp1 = input('Enter first name :')\n",
    "inp2 = input('Enter last name :')\n",
    "\n",
    "if inp1 == 'Nikhil' and inp2 == 'Kumar':\n",
    "    print('Correct')\n",
    "else:\n",
    "    print('Incorrect')"
   ]
  },
  {
   "cell_type": "code",
   "execution_count": 4,
   "metadata": {},
   "outputs": [
    {
     "name": "stdout",
     "output_type": "stream",
     "text": [
      "This is speed\n",
      "This is speed\n",
      "This is speed\n",
      "This is speed\n"
     ]
    }
   ],
   "source": [
    "# while statement\n",
    "\n",
    "initial_speed = 0\n",
    "final_speed = 100\n",
    "count = 1\n",
    "\n",
    "while initial_speed <= final_speed:\n",
    "    print('This is speed')\n",
    "    count = count + 1\n",
    "    if count == 5:\n",
    "        break"
   ]
  },
  {
   "cell_type": "code",
   "execution_count": 5,
   "metadata": {},
   "outputs": [
    {
     "name": "stdout",
     "output_type": "stream",
     "text": [
      "1\n",
      "2\n",
      "3\n",
      "4\n"
     ]
    }
   ],
   "source": [
    "i = 1\n",
    "j = 5\n",
    "\n",
    "while i < j:\n",
    "    print(i)\n",
    "    i += 1"
   ]
  },
  {
   "cell_type": "code",
   "execution_count": null,
   "metadata": {},
   "outputs": [],
   "source": []
  }
 ],
 "metadata": {
  "kernelspec": {
   "display_name": "Python 3",
   "language": "python",
   "name": "python3"
  },
  "language_info": {
   "codemirror_mode": {
    "name": "ipython",
    "version": 3
   },
   "file_extension": ".py",
   "mimetype": "text/x-python",
   "name": "python",
   "nbconvert_exporter": "python",
   "pygments_lexer": "ipython3",
   "version": "3.8.5"
  }
 },
 "nbformat": 4,
 "nbformat_minor": 4
}
