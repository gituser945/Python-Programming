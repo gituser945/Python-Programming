{
 "cells": [
  {
   "cell_type": "code",
   "execution_count": 1,
   "id": "lightweight-house",
   "metadata": {},
   "outputs": [],
   "source": [
    "# importing library pandas\n",
    "\n",
    "import pandas as pd # pd is alias and cab be anything but it's a standard way\n",
    "import numpy as np # numpy stands for numerical python "
   ]
  },
  {
   "cell_type": "code",
   "execution_count": 2,
   "id": "wrong-russia",
   "metadata": {},
   "outputs": [
    {
     "data": {
      "text/plain": [
       "'1.2.3'"
      ]
     },
     "execution_count": 2,
     "metadata": {},
     "output_type": "execute_result"
    }
   ],
   "source": [
    "# checking pandas version\n",
    "\n",
    "pd.__version__"
   ]
  },
  {
   "cell_type": "markdown",
   "id": "geological-april",
   "metadata": {},
   "source": [
    "#### Series\n",
    "\n",
    "`series` is an one dimentional array and it is a collection of ordered pair of elements.\n",
    "<br> It basically contains any kind of datatype either `string`,`integer`,`floating point` etc but it should be consistent through out the entire series means a `integer` series contains only integer elements."
   ]
  },
  {
   "cell_type": "code",
   "execution_count": 3,
   "id": "primary-warrior",
   "metadata": {},
   "outputs": [
    {
     "data": {
      "text/plain": [
       "0        chocolate\n",
       "1          vanilla\n",
       "2       strawberry\n",
       "3    butter scotch\n",
       "dtype: object"
      ]
     },
     "execution_count": 3,
     "metadata": {},
     "output_type": "execute_result"
    }
   ],
   "source": [
    "# creating first series\n",
    "# string/object series\n",
    "\n",
    "ice_cream = ['chocolate','vanilla','strawberry','butter scotch']\n",
    "pd.Series(ice_cream)"
   ]
  },
  {
   "cell_type": "code",
   "execution_count": 4,
   "id": "painful-sister",
   "metadata": {},
   "outputs": [
    {
     "data": {
      "text/plain": [
       "0     2\n",
       "1     4\n",
       "2     6\n",
       "3     8\n",
       "4    10\n",
       "dtype: int64"
      ]
     },
     "execution_count": 4,
     "metadata": {},
     "output_type": "execute_result"
    }
   ],
   "source": [
    "# creating integer series\n",
    "\n",
    "lottery = [2,4,6,8,10]\n",
    "pd.Series(lottery)"
   ]
  },
  {
   "cell_type": "code",
   "execution_count": 5,
   "id": "peripheral-chemical",
   "metadata": {},
   "outputs": [
    {
     "data": {
      "text/plain": [
       "0     True\n",
       "1    False\n",
       "2     True\n",
       "3     True\n",
       "dtype: bool"
      ]
     },
     "execution_count": 5,
     "metadata": {},
     "output_type": "execute_result"
    }
   ],
   "source": [
    "# creating bool series\n",
    "\n",
    "registration = [True,False,True,True]\n",
    "pd.Series(registration)"
   ]
  },
  {
   "cell_type": "code",
   "execution_count": 6,
   "id": "industrial-circus",
   "metadata": {},
   "outputs": [
    {
     "data": {
      "text/plain": [
       "cat         Sometimes dangerous\n",
       "Dog            Always dangerous\n",
       "Elephant              Bigg Bull\n",
       "dtype: object"
      ]
     },
     "execution_count": 6,
     "metadata": {},
     "output_type": "execute_result"
    }
   ],
   "source": [
    "# creating dictionary series\n",
    "\n",
    "animal = {\n",
    "    \"cat\" : \"Sometimes dangerous\",\n",
    "    \"Dog\" : \"Always dangerous\",\n",
    "    \"Elephant\" : \"Bigg Bull\"\n",
    "}\n",
    "\n",
    "pd.Series(animal)"
   ]
  },
  {
   "cell_type": "code",
   "execution_count": 7,
   "id": "ignored-beverage",
   "metadata": {},
   "outputs": [],
   "source": [
    "# Attributes return any kind of information about object\n",
    "# it doesn't manipulate object.\n",
    "# while accessing attributes we do not require paranthesis () unlike when we call methods.\n",
    "\n",
    "# attributes example\n",
    "\n",
    "countries_list = ['Spain','Germany','Italy']\n",
    "\n",
    "countries = pd.Series(countries_list)"
   ]
  },
  {
   "cell_type": "code",
   "execution_count": 8,
   "id": "promising-championship",
   "metadata": {},
   "outputs": [
    {
     "data": {
      "text/plain": [
       "array(['Spain', 'Germany', 'Italy'], dtype=object)"
      ]
     },
     "execution_count": 8,
     "metadata": {},
     "output_type": "execute_result"
    }
   ],
   "source": [
    "# accessing using attributes\n",
    "\n",
    "countries.values"
   ]
  },
  {
   "cell_type": "code",
   "execution_count": 9,
   "id": "removed-recycling",
   "metadata": {},
   "outputs": [],
   "source": [
    "# method function\n",
    "\n",
    "price = [1,2,3,4,5]\n",
    "\n",
    "price = pd.Series(price)"
   ]
  },
  {
   "cell_type": "code",
   "execution_count": 12,
   "id": "center-acoustic",
   "metadata": {},
   "outputs": [
    {
     "data": {
      "text/plain": [
       "15"
      ]
     },
     "execution_count": 12,
     "metadata": {},
     "output_type": "execute_result"
    }
   ],
   "source": [
    "# sum of series\n",
    "\n",
    "price.sum()"
   ]
  },
  {
   "cell_type": "code",
   "execution_count": 14,
   "id": "individual-authorization",
   "metadata": {},
   "outputs": [
    {
     "data": {
      "text/plain": [
       "3.0"
      ]
     },
     "execution_count": 14,
     "metadata": {},
     "output_type": "execute_result"
    }
   ],
   "source": [
    "# mean of series\n",
    "\n",
    "price.mean()"
   ]
  },
  {
   "cell_type": "code",
   "execution_count": 15,
   "id": "beautiful-florence",
   "metadata": {},
   "outputs": [
    {
     "data": {
      "text/plain": [
       "1.5811388300841898"
      ]
     },
     "execution_count": 15,
     "metadata": {},
     "output_type": "execute_result"
    }
   ],
   "source": [
    "# standard deviation of series\n",
    "\n",
    "price.std()"
   ]
  },
  {
   "cell_type": "code",
   "execution_count": 18,
   "id": "median-saver",
   "metadata": {},
   "outputs": [
    {
     "data": {
      "text/plain": [
       "Monday           apple\n",
       "Tuesday         Banana\n",
       "Wednesday    pineapple\n",
       "dtype: object"
      ]
     },
     "execution_count": 18,
     "metadata": {},
     "output_type": "execute_result"
    }
   ],
   "source": [
    "# Parameters and arguments\n",
    "\n",
    "fruits = ['apple','Banana','pineapple']\n",
    "weekdays = ['Monday','Tuesday','Wednesday']\n",
    "\n",
    "pd.Series(fruits,weekdays)"
   ]
  },
  {
   "cell_type": "code",
   "execution_count": null,
   "id": "shaped-recycling",
   "metadata": {},
   "outputs": [],
   "source": []
  }
 ],
 "metadata": {
  "kernelspec": {
   "display_name": "Python 3",
   "language": "python",
   "name": "python3"
  },
  "language_info": {
   "codemirror_mode": {
    "name": "ipython",
    "version": 3
   },
   "file_extension": ".py",
   "mimetype": "text/x-python",
   "name": "python",
   "nbconvert_exporter": "python",
   "pygments_lexer": "ipython3",
   "version": "3.9.1"
  }
 },
 "nbformat": 4,
 "nbformat_minor": 5
}
