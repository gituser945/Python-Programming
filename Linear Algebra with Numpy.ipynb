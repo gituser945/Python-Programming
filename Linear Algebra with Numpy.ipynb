{
 "cells": [
  {
   "cell_type": "markdown",
   "id": "enabling-aquarium",
   "metadata": {},
   "source": [
    "# Linear algebra in Python with NumPy"
   ]
  },
  {
   "cell_type": "markdown",
   "id": "sufficient-cursor",
   "metadata": {},
   "source": [
    "In this lab, you will have the opportunity to remember some basic concepts about linear algebra and how to use them in Python.\n",
    "\n",
    "Numpy is one of the most used libraries in Python for arrays manipulation. It adds to Python a set of functions that allows us to operate on large multidimensional arrays with just a few lines. So forget about writing nested loops for adding matrices! With NumPy, this is as simple as adding numbers.\n",
    "\n",
    "Let us import the `numpy` library and assign the alias `np` for it. We will follow this convention in almost every notebook in this course, and you'll see this in many resources outside this course as well."
   ]
  },
  {
   "cell_type": "code",
   "execution_count": 1,
   "id": "cosmetic-christianity",
   "metadata": {},
   "outputs": [],
   "source": [
    "# importing numpy library\n",
    "\n",
    "import numpy as np"
   ]
  },
  {
   "cell_type": "code",
   "execution_count": 3,
   "id": "downtown-radio",
   "metadata": {},
   "outputs": [],
   "source": [
    "# defining list and numpy array\n",
    "\n",
    "alist = [1,2,3,4,5]\n",
    "narray = np.array([1,2,3,4,5])"
   ]
  },
  {
   "cell_type": "code",
   "execution_count": 4,
   "id": "killing-hometown",
   "metadata": {},
   "outputs": [
    {
     "name": "stdout",
     "output_type": "stream",
     "text": [
      "[1, 2, 3, 4, 5]\n",
      "<class 'list'>\n",
      "[1 2 3 4 5]\n",
      "<class 'numpy.ndarray'>\n"
     ]
    }
   ],
   "source": [
    "# printing values and type of both list and array\n",
    "\n",
    "print(alist)\n",
    "print(type(alist))\n",
    "\n",
    "print(narray)\n",
    "print(type(narray))"
   ]
  },
  {
   "cell_type": "markdown",
   "id": "crazy-september",
   "metadata": {},
   "source": [
    "## Algebraic operators on NumPy arrays vs. Python lists\n",
    "\n",
    "One of the common beginner mistakes is to mix up the concepts of NumPy arrays and Python lists. Just observe the next example, where we add two objects of the two mentioned types. Note that the '+' operator on NumPy arrays perform an element-wise addition, while the same operation on Python lists results in a list concatenation. Be careful while coding. Knowing this can save many headaches."
   ]
  },
  {
   "cell_type": "code",
   "execution_count": 5,
   "id": "alive-technician",
   "metadata": {},
   "outputs": [
    {
     "name": "stdout",
     "output_type": "stream",
     "text": [
      "[ 2  4  6  8 10]\n",
      "[1, 2, 3, 4, 5, 1, 2, 3, 4, 5]\n"
     ]
    }
   ],
   "source": [
    "# + operation on numpy array\n",
    "\n",
    "print(narray + narray)\n",
    "\n",
    "# + operation on python list\n",
    "\n",
    "print(alist + alist)"
   ]
  },
  {
   "cell_type": "markdown",
   "id": "lasting-adrian",
   "metadata": {},
   "source": [
    "It is the same as with the product operator, `*`. In the first case, we scale the vector, while in the second case, we concatenate three times the same list."
   ]
  },
  {
   "cell_type": "code",
   "execution_count": 6,
   "id": "convertible-smoke",
   "metadata": {},
   "outputs": [
    {
     "name": "stdout",
     "output_type": "stream",
     "text": [
      "[ 2  4  6  8 10]\n",
      "[1, 2, 3, 4, 5, 1, 2, 3, 4, 5]\n"
     ]
    }
   ],
   "source": [
    "# * operation on numpy array\n",
    "\n",
    "print(narray * 2)\n",
    "\n",
    "# * operation on python list\n",
    "\n",
    "print(alist * 2)"
   ]
  },
  {
   "cell_type": "markdown",
   "id": "otherwise-stretch",
   "metadata": {},
   "source": [
    "## Matrix or Array of Arrays\n",
    "\n",
    "In linear algebra, a matrix is a structure composed of n rows by m columns. That means each row must have the same number of columns. With NumPy, we have two ways to create a matrix:\n",
    "* Creating an array of arrays using `np.array` (recommended). \n",
    "* Creating a matrix using `np.matrix` (still available but might be removed soon).\n",
    "\n",
    "NumPy arrays or lists can be used to initialize a matrix, but the resulting matrix will be composed of NumPy arrays only."
   ]
  },
  {
   "cell_type": "code",
   "execution_count": 10,
   "id": "impossible-integrity",
   "metadata": {},
   "outputs": [
    {
     "name": "stdout",
     "output_type": "stream",
     "text": [
      "[[1 2 3 4 5]\n",
      " [1 2 3 4 5]\n",
      " [1 2 3 4 5]]\n",
      "[[1 2 3 4 5]\n",
      " [1 2 3 4 5]\n",
      " [1 2 3 4 5]]\n",
      "[[1 2 3 4 5]\n",
      " [1 1 1 1 1]\n",
      " [1 2 3 4 5]]\n"
     ]
    }
   ],
   "source": [
    "npmatrix1 = np.array([narray,narray,narray])\n",
    "npmatrix2 = np.array([alist,alist,alist])\n",
    "npmatrix3 = np.array([narray,[1,1,1,1,1],narray])\n",
    "\n",
    "print(npmatrix1)\n",
    "print(npmatrix2)\n",
    "print(npmatrix3)"
   ]
  },
  {
   "cell_type": "code",
   "execution_count": 12,
   "id": "ruled-option",
   "metadata": {},
   "outputs": [
    {
     "name": "stdout",
     "output_type": "stream",
     "text": [
      "[[1 2]\n",
      " [3 4]]\n",
      "[[2 4]\n",
      " [6 8]]\n"
     ]
    }
   ],
   "source": [
    "# example 1\n",
    "\n",
    "okmatrix = np.array([[1,2],[3,4]])\n",
    "print(okmatrix)\n",
    "print(okmatrix * 2)"
   ]
  },
  {
   "cell_type": "code",
   "execution_count": 14,
   "id": "sound-wells",
   "metadata": {},
   "outputs": [
    {
     "name": "stdout",
     "output_type": "stream",
     "text": [
      "[list([1, 2]) list([3, 4]) list([1, 2, 3])]\n",
      "[list([1, 2, 1, 2]) list([3, 4, 3, 4]) list([1, 2, 3, 1, 2, 3])]\n"
     ]
    }
   ],
   "source": [
    "# example 2 \n",
    "\n",
    "import warnings\n",
    "warnings.filterwarnings(\"ignore\")\n",
    "\n",
    "badmatrix = np.array([[1,2],[3,4],[1,2,3]])\n",
    "print(badmatrix)\n",
    "print(badmatrix * 2)"
   ]
  },
  {
   "cell_type": "markdown",
   "id": "structural-sleeve",
   "metadata": {},
   "source": [
    "## Scaling and translating matrices\n",
    "\n",
    "Now that you know how to build correct NumPy arrays and matrices, let us see how easy it is to operate with them in Python using the regular algebraic operators like + and -. \n",
    "\n",
    "Operations can be performed between arrays and arrays or between arrays and scalars."
   ]
  },
  {
   "cell_type": "code",
   "execution_count": 15,
   "id": "noble-macro",
   "metadata": {},
   "outputs": [
    {
     "name": "stdout",
     "output_type": "stream",
     "text": [
      "[[3 5]\n",
      " [7 9]]\n"
     ]
    }
   ],
   "source": [
    "# scaling by 2 and translate 1 unit\n",
    "\n",
    "result = okmatrix * 2 + 1\n",
    "print(result)"
   ]
  },
  {
   "cell_type": "code",
   "execution_count": 16,
   "id": "functional-jefferson",
   "metadata": {},
   "outputs": [
    {
     "name": "stdout",
     "output_type": "stream",
     "text": [
      "[[2 4]\n",
      " [6 8]]\n",
      "[[0 0]\n",
      " [0 0]]\n"
     ]
    }
   ],
   "source": [
    "# addition \n",
    "\n",
    "result1 = okmatrix + okmatrix\n",
    "print(result1)\n",
    "\n",
    "# subtraction\n",
    "\n",
    "result2 = okmatrix - okmatrix\n",
    "print(result2)"
   ]
  },
  {
   "cell_type": "markdown",
   "id": "objective-essence",
   "metadata": {},
   "source": [
    "The product operator `*` when used on arrays or matrices indicates element-wise multiplications.\n",
    "Do not confuse it with the dot product."
   ]
  },
  {
   "cell_type": "code",
   "execution_count": 17,
   "id": "executive-gilbert",
   "metadata": {},
   "outputs": [
    {
     "name": "stdout",
     "output_type": "stream",
     "text": [
      "[[ 1  4]\n",
      " [ 9 16]]\n"
     ]
    }
   ],
   "source": [
    "result = okmatrix * okmatrix\n",
    "print(result)"
   ]
  },
  {
   "cell_type": "markdown",
   "id": "injured-plenty",
   "metadata": {},
   "source": [
    "## Transpose a matrix\n",
    "\n",
    "In linear algebra, the transpose of a matrix is an operator that flips a matrix over its diagonal, i.e., the transpose operator switches the row and column indices of the matrix producing another matrix. If the original matrix dimension is n by m, the resulting transposed matrix will be m by n.\n",
    "\n",
    "**T** denotes the transpose operations with NumPy matrices."
   ]
  },
  {
   "cell_type": "code",
   "execution_count": 18,
   "id": "painful-trout",
   "metadata": {},
   "outputs": [
    {
     "name": "stdout",
     "output_type": "stream",
     "text": [
      "---Before transpose---\n",
      "[[1 2]\n",
      " [3 4]\n",
      " [5 6]]\n",
      "---After transpose---\n",
      "[[1 3 5]\n",
      " [2 4 6]]\n"
     ]
    }
   ],
   "source": [
    "tmatrix = np.array([[1,2],[3,4],[5,6]])\n",
    "\n",
    "print('---Before transpose---')\n",
    "print(tmatrix)\n",
    "print('---After transpose---')\n",
    "print(tmatrix.T)"
   ]
  },
  {
   "cell_type": "markdown",
   "id": "suffering-broadcast",
   "metadata": {},
   "source": [
    "However, note that the transpose operation does not affect 1D arrays."
   ]
  },
  {
   "cell_type": "code",
   "execution_count": 19,
   "id": "coordinated-roller",
   "metadata": {},
   "outputs": [
    {
     "name": "stdout",
     "output_type": "stream",
     "text": [
      "---Before transpose---\n",
      "[1 2 3 4]\n",
      "---After transpose---\n",
      "[1 2 3 4]\n"
     ]
    }
   ],
   "source": [
    "tmatrix = np.array([1,2,3,4])\n",
    "\n",
    "print('---Before transpose---')\n",
    "print(tmatrix)\n",
    "print('---After transpose---')\n",
    "print(tmatrix.T)"
   ]
  },
  {
   "cell_type": "code",
   "execution_count": 20,
   "id": "voluntary-carry",
   "metadata": {},
   "outputs": [
    {
     "name": "stdout",
     "output_type": "stream",
     "text": [
      "---Before transpose---\n",
      "[[1 2 3 4]]\n",
      "---After transpose---\n",
      "[[1]\n",
      " [2]\n",
      " [3]\n",
      " [4]]\n"
     ]
    }
   ],
   "source": [
    "tmatrix = np.array([[1,2,3,4]])\n",
    "\n",
    "print('---Before transpose---')\n",
    "print(tmatrix)\n",
    "print('---After transpose---')\n",
    "print(tmatrix.T)"
   ]
  },
  {
   "cell_type": "markdown",
   "id": "synthetic-belly",
   "metadata": {},
   "source": [
    "## Get the norm of a nparray or matrix\n",
    "\n",
    "In linear algebra, the norm of an n-dimensional vector $\\vec a$   is defined as:\n",
    "\n",
    "$$ norm(\\vec a) = ||\\vec a|| = \\sqrt {\\sum_{i=1}^{n} a_i ^ 2}$$\n",
    "\n",
    "Calculating the norm of vector or even of a matrix is a general operation when dealing with data. Numpy has a set of functions for linear algebra in the subpackage **linalg**, including the **norm** function. Let us see how to get the norm a given array or matrix:"
   ]
  },
  {
   "cell_type": "code",
   "execution_count": 22,
   "id": "western-stake",
   "metadata": {},
   "outputs": [
    {
     "name": "stdout",
     "output_type": "stream",
     "text": [
      "5.477225575051661\n",
      "5.477225575051661\n"
     ]
    }
   ],
   "source": [
    "narray1 = np.array([1,2,3,4])\n",
    "narray1 = np.linalg.norm(narray1)\n",
    "\n",
    "narray2 = np.array([[1,2],[3,4]])\n",
    "narray2 = np.linalg.norm(narray2)\n",
    "\n",
    "print(narray1)\n",
    "print(narray2)"
   ]
  },
  {
   "cell_type": "markdown",
   "id": "dietary-tribute",
   "metadata": {},
   "source": [
    "Note that without any other parameter, the norm function treats the matrix as being just an array of numbers.\n",
    "However, it is possible to get the norm by rows or by columns. The **axis** parameter controls the form of the operation: \n",
    "* **axis=0** means get the norm of each column\n",
    "* **axis=1** means get the norm of each row. "
   ]
  },
  {
   "cell_type": "code",
   "execution_count": 39,
   "id": "cognitive-aging",
   "metadata": {},
   "outputs": [
    {
     "name": "stdout",
     "output_type": "stream",
     "text": [
      "[3.74165739 3.74165739]\n",
      "[1.41421356 2.82842712 4.24264069]\n"
     ]
    }
   ],
   "source": [
    "narray = np.array([[1,1],[2,2],[3,3]])\n",
    "\n",
    "narray_col = np.linalg.norm(narray,axis = 0)\n",
    "narray_row = np.linalg.norm(narray,axis = 1)\n",
    "\n",
    "print(narray_col)\n",
    "print(narray_row)"
   ]
  },
  {
   "cell_type": "markdown",
   "id": "identical-model",
   "metadata": {},
   "source": [
    "## The dot product between arrays: All the flavors\n",
    "\n",
    "The dot product or scalar product or inner product between two vectors $\\vec a$ and $\\vec b$ of the same size is defined as:\n",
    "$$\\vec a \\cdot \\vec b = \\sum_{i=1}^{n} a_i b_i$$\n",
    "\n",
    "The dot product takes two vectors and returns a single number."
   ]
  },
  {
   "cell_type": "code",
   "execution_count": 26,
   "id": "noble-actress",
   "metadata": {},
   "outputs": [
    {
     "name": "stdout",
     "output_type": "stream",
     "text": [
      "70\n",
      "70\n",
      "70\n",
      "70\n"
     ]
    }
   ],
   "source": [
    "narray1 = np.array([1,2,3,4])\n",
    "narray2 = np.array([5,6,7,8])\n",
    "\n",
    "way1 = np.dot(narray1,narray2)\n",
    "print(way1)\n",
    "\n",
    "way2 = np.sum(narray1 * narray2)\n",
    "print(way2)\n",
    "\n",
    "way3 = narray1 @ narray2\n",
    "print(way3)\n",
    "\n",
    "way4 = 0\n",
    "for a,b in zip(narray1,narray2):\n",
    "    way4 += a*b\n",
    "    \n",
    "print(way4)"
   ]
  },
  {
   "cell_type": "markdown",
   "id": "unknown-acrobat",
   "metadata": {},
   "source": [
    "**benefit of using np.dot, since it is the only method that accepts arrays and lists without problems**"
   ]
  },
  {
   "cell_type": "code",
   "execution_count": 27,
   "id": "alike-tribute",
   "metadata": {},
   "outputs": [
    {
     "name": "stdout",
     "output_type": "stream",
     "text": [
      "11 = 11\n"
     ]
    }
   ],
   "source": [
    "narray1 = np.dot(np.array([1,2]),np.array([3,4]))\n",
    "narray2 = np.dot([1,2],[3,4])\n",
    "\n",
    "print(narray1,\"=\",narray2)"
   ]
  },
  {
   "cell_type": "markdown",
   "id": "minor-notion",
   "metadata": {},
   "source": [
    "Finally, note that the norm is the square root of the dot product of the vector with itself. That gives many options to write that function:\n",
    "\n",
    "$$ norm(\\vec a) = ||\\vec a|| = \\sqrt {\\sum_{i=1}^{n} a_i ^ 2} = \\sqrt {a \\cdot a}$$\n"
   ]
  },
  {
   "cell_type": "markdown",
   "id": "committed-bench",
   "metadata": {},
   "source": [
    "## Sums by rows or columns\n",
    "\n",
    "Another general operation performed on matrices is the sum by rows or columns.\n",
    "Just as we did for the function norm, the **axis** parameter controls the form of the operation:\n",
    "* **axis=0** means to sum the elements of each column together. \n",
    "* **axis=1** means to sum the elements of each row together."
   ]
  },
  {
   "cell_type": "code",
   "execution_count": 42,
   "id": "noble-liability",
   "metadata": {},
   "outputs": [
    {
     "data": {
      "text/plain": [
       "array([[1, 2],\n",
       "       [4, 5],\n",
       "       [6, 7]])"
      ]
     },
     "execution_count": 42,
     "metadata": {},
     "output_type": "execute_result"
    }
   ],
   "source": [
    "narray1 = np.array([[1,2],[4,5],[6,7]])\n",
    "narray1"
   ]
  },
  {
   "cell_type": "code",
   "execution_count": 44,
   "id": "finite-cooper",
   "metadata": {},
   "outputs": [
    {
     "name": "stdout",
     "output_type": "stream",
     "text": [
      "[11 14]\n",
      "[ 3  9 13]\n"
     ]
    }
   ],
   "source": [
    "sumBycol = np.sum(narray1,axis=0)\n",
    "sumByrow = np.sum(narray1,axis=1)\n",
    "print(sumBycol)\n",
    "print(sumByrow)"
   ]
  },
  {
   "cell_type": "markdown",
   "id": "pacific-museum",
   "metadata": {},
   "source": [
    "## Get the mean by rows or columns\n",
    "\n",
    "As with the sums, one can get the **mean** by rows or columns using the **axis** parameter. Just remember that the mean is the sum of the elements divided by the length of the vector\n",
    "$$ mean(\\vec a) = \\frac {{\\sum_{i=1}^{n} a_i }}{n}$$"
   ]
  },
  {
   "cell_type": "code",
   "execution_count": 46,
   "id": "official-press",
   "metadata": {},
   "outputs": [
    {
     "name": "stdout",
     "output_type": "stream",
     "text": [
      "Array Matrix [[1 2]\n",
      " [3 4]\n",
      " [5 6]]\n",
      "mean 3.5\n",
      "Mean by column [3. 4.]\n",
      "Mean by row [1.5 3.5 5.5]\n"
     ]
    }
   ],
   "source": [
    "narray = np.array([[1,2],[3,4],[5,6]])\n",
    "\n",
    "mean = np.mean(narray)\n",
    "meanBycol = np.mean(narray,axis = 0)\n",
    "meanByrow = np.mean(narray,axis = 1)\n",
    "\n",
    "print('Array Matrix',narray)\n",
    "print('mean',mean)\n",
    "print('Mean by column',meanBycol)\n",
    "print('Mean by row',meanByrow)"
   ]
  },
  {
   "cell_type": "markdown",
   "id": "animal-attempt",
   "metadata": {},
   "source": [
    "## Center the columns of a matrix\n",
    "\n",
    "Centering the attributes of a data matrix is another essential preprocessing step. Centering a matrix means to remove the column mean to each element inside the column. The sum by columns of a centered matrix is always 0.\n",
    "\n",
    "With NumPy, this process is as simple as this:"
   ]
  },
  {
   "cell_type": "code",
   "execution_count": 48,
   "id": "binding-azerbaijan",
   "metadata": {},
   "outputs": [
    {
     "name": "stdout",
     "output_type": "stream",
     "text": [
      "--Original Matrix--\n",
      "[[1 2]\n",
      " [3 4]\n",
      " [5 6]]\n",
      "--Centered Matrix--\n",
      "[[-2. -2.]\n",
      " [ 0.  0.]\n",
      " [ 2.  2.]]\n",
      "New mean by column\n",
      "[0. 0.]\n"
     ]
    }
   ],
   "source": [
    "narray = np.array([[1,2],[3,4],[5,6]])\n",
    "\n",
    "narrayCentered = narray - np.mean(narray,axis = 0) # remove mean from each column\n",
    "\n",
    "print(\"--Original Matrix--\")\n",
    "print(narray)\n",
    "\n",
    "print(\"--Centered Matrix--\")\n",
    "print(narrayCentered)\n",
    "\n",
    "print('New mean by column')\n",
    "print(narrayCentered.mean(axis=0))"
   ]
  },
  {
   "cell_type": "markdown",
   "id": "defensive-router",
   "metadata": {},
   "source": [
    "**Warning:** This process does not apply for row centering. In such cases, consider transposing the matrix, centering by columns, and then transpose back the result. \n",
    "\n",
    "See the example below:"
   ]
  },
  {
   "cell_type": "code",
   "execution_count": 49,
   "id": "backed-dryer",
   "metadata": {},
   "outputs": [
    {
     "name": "stdout",
     "output_type": "stream",
     "text": [
      "Original matrix\n",
      "[[1 3]\n",
      " [2 4]\n",
      " [3 5]]\n",
      "Centered by columns matrix\n",
      "[[-1.  1.]\n",
      " [-1.  1.]\n",
      " [-1.  1.]]\n",
      "New mean by rows\n",
      "[0. 0. 0.]\n"
     ]
    }
   ],
   "source": [
    "nparray2 = np.array([[1, 3], [2, 4], [3, 5]]) # Define a 3 x 2 matrix. \n",
    "\n",
    "nparrayCentered = nparray2.T - np.mean(nparray2, axis=1) # Remove the mean for each row\n",
    "nparrayCentered = nparrayCentered.T # Transpose back the result\n",
    "\n",
    "print('Original matrix')\n",
    "print(nparray2)\n",
    "print('Centered by columns matrix')\n",
    "print(nparrayCentered)\n",
    "\n",
    "print('New mean by rows')\n",
    "print(nparrayCentered.mean(axis=1))"
   ]
  },
  {
   "cell_type": "markdown",
   "id": "unsigned-telling",
   "metadata": {},
   "source": [
    "Note that some operations can be performed using static functions like `np.sum()` or `np.mean()`, or by using the inner functions of the array"
   ]
  },
  {
   "cell_type": "code",
   "execution_count": 51,
   "id": "entertaining-effort",
   "metadata": {},
   "outputs": [
    {
     "name": "stdout",
     "output_type": "stream",
     "text": [
      "2.5\n",
      "2.5\n"
     ]
    }
   ],
   "source": [
    "narray = np.array([[1,2],[3,4]])\n",
    "\n",
    "print(np.mean(narray))\n",
    "print(narray.mean())"
   ]
  },
  {
   "cell_type": "markdown",
   "id": "brief-access",
   "metadata": {},
   "source": [
    "**Even if they are equivalent,recommend is static way always.**"
   ]
  }
 ],
 "metadata": {
  "kernelspec": {
   "display_name": "Python 3",
   "language": "python",
   "name": "python3"
  },
  "language_info": {
   "codemirror_mode": {
    "name": "ipython",
    "version": 3
   },
   "file_extension": ".py",
   "mimetype": "text/x-python",
   "name": "python",
   "nbconvert_exporter": "python",
   "pygments_lexer": "ipython3",
   "version": "3.9.1"
  }
 },
 "nbformat": 4,
 "nbformat_minor": 5
}
