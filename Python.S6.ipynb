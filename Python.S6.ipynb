{
 "cells": [
  {
   "cell_type": "markdown",
   "metadata": {},
   "source": [
    "#### Python Files\n",
    "We use open() function to open any file in python"
   ]
  },
  {
   "cell_type": "code",
   "execution_count": 3,
   "metadata": {},
   "outputs": [
    {
     "data": {
      "text/plain": [
       "'/Users/nick'"
      ]
     },
     "execution_count": 3,
     "metadata": {},
     "output_type": "execute_result"
    }
   ],
   "source": [
    "pwd() # to check current working directory"
   ]
  },
  {
   "cell_type": "code",
   "execution_count": 27,
   "metadata": {},
   "outputs": [],
   "source": [
    "# opening a file\n",
    "\n",
    "file = open('Test.txt')"
   ]
  },
  {
   "cell_type": "code",
   "execution_count": 25,
   "metadata": {},
   "outputs": [
    {
     "data": {
      "text/plain": [
       "'dsfosdjosdfjojdfojfaojdfofjdf'"
      ]
     },
     "execution_count": 25,
     "metadata": {},
     "output_type": "execute_result"
    }
   ],
   "source": [
    "# Reading the content of file\n",
    "\n",
    "file.read()"
   ]
  },
  {
   "cell_type": "code",
   "execution_count": 35,
   "metadata": {},
   "outputs": [
    {
     "data": {
      "text/plain": [
       "5"
      ]
     },
     "execution_count": 35,
     "metadata": {},
     "output_type": "execute_result"
    }
   ],
   "source": [
    "# seek() function is used to bring the pointer to the 0th index to read the file from beginning\n",
    "\n",
    "file.seek(0) # setting pointer to 0th index\n",
    "file.seek(5) # setting pointer to 5th index"
   ]
  },
  {
   "cell_type": "code",
   "execution_count": 30,
   "metadata": {},
   "outputs": [
    {
     "data": {
      "text/plain": [
       "['dsfosdjosdfjojdfojfaojdfofjdf']"
      ]
     },
     "execution_count": 30,
     "metadata": {},
     "output_type": "execute_result"
    }
   ],
   "source": [
    "# readline returns the list of lines from files\n",
    "\n",
    "file.readlines()"
   ]
  },
  {
   "cell_type": "markdown",
   "metadata": {},
   "source": [
    "writing to a file"
   ]
  },
  {
   "cell_type": "code",
   "execution_count": 31,
   "metadata": {},
   "outputs": [],
   "source": [
    "# we use w+ in open() function to open a file in writing mode\n",
    "\n",
    "file = open('Test.txt','w+')"
   ]
  },
  {
   "cell_type": "code",
   "execution_count": 33,
   "metadata": {},
   "outputs": [
    {
     "data": {
      "text/plain": [
       "16"
      ]
     },
     "execution_count": 33,
     "metadata": {},
     "output_type": "execute_result"
    }
   ],
   "source": [
    "# writing to a file\n",
    "\n",
    "file.write('This is new line')"
   ]
  },
  {
   "cell_type": "code",
   "execution_count": 36,
   "metadata": {},
   "outputs": [
    {
     "data": {
      "text/plain": [
       "'is new line'"
      ]
     },
     "execution_count": 36,
     "metadata": {},
     "output_type": "execute_result"
    }
   ],
   "source": [
    "file.read()"
   ]
  },
  {
   "cell_type": "markdown",
   "metadata": {},
   "source": [
    "#### String IO operations"
   ]
  },
  {
   "cell_type": "code",
   "execution_count": 3,
   "metadata": {},
   "outputs": [
    {
     "data": {
      "text/plain": [
       "'I am Nick'"
      ]
     },
     "execution_count": 3,
     "metadata": {},
     "output_type": "execute_result"
    }
   ],
   "source": [
    "# StringIO function is used when any string is stored as in-memory for computers by using stringIO we can make that object\n",
    "# as file object.\n",
    "\n",
    "s = 'I am Nick'\n",
    "s"
   ]
  },
  {
   "cell_type": "code",
   "execution_count": 5,
   "metadata": {},
   "outputs": [],
   "source": [
    "from io import StringIO"
   ]
  },
  {
   "cell_type": "code",
   "execution_count": 8,
   "metadata": {},
   "outputs": [
    {
     "data": {
      "text/plain": [
       "'This is a custom message'"
      ]
     },
     "execution_count": 8,
     "metadata": {},
     "output_type": "execute_result"
    }
   ],
   "source": [
    "# message\n",
    "\n",
    "message = 'This is a custom message'\n",
    "file = StringIO(message) # after applying StringIO function the message body act as a file\n",
    "file.read()"
   ]
  },
  {
   "cell_type": "markdown",
   "metadata": {},
   "source": [
    "### Exception Handling"
   ]
  },
  {
   "cell_type": "markdown",
   "metadata": {},
   "source": [
    "Exception handling is basically used in any programming language to handle unwanted error from code."
   ]
  },
  {
   "cell_type": "code",
   "execution_count": 9,
   "metadata": {},
   "outputs": [
    {
     "name": "stdout",
     "output_type": "stream",
     "text": [
      "File written successfully\n"
     ]
    }
   ],
   "source": [
    "try : # all codes whome we think can give error we put that statements inside try block\n",
    "    file = open('Test.txt','w')\n",
    "    file.write('This is new line')\n",
    "except IOError: # if our try block give error then the system will not terminte the code insted it'll handle it\n",
    "    print('Could not find files into system')\n",
    "else: # else will execute if our code executes without any error\n",
    "    print('File written successfully')\n",
    "    file.close()"
   ]
  },
  {
   "cell_type": "code",
   "execution_count": 11,
   "metadata": {},
   "outputs": [
    {
     "name": "stdout",
     "output_type": "stream",
     "text": [
      "Could not find files into system\n"
     ]
    }
   ],
   "source": [
    "try : # all codes whome we think can give error we put that statements inside try block\n",
    "    file = open('Test.txt','r') # opening file in read mode then we are trying to write into file.\n",
    "    file.write('This is new line')\n",
    "except IOError: # if our try block give error then the system will not terminte the code insted it'll handle it\n",
    "    print('Could not find files into system')\n",
    "else: # else will execute if our code executes without any error\n",
    "    print('File written successfully')\n",
    "    file.close()\n",
    "\n",
    "# if we do not have idea what kind if exception is going to come we can write only except : instead of mentioning type\n",
    "# of exception names"
   ]
  },
  {
   "cell_type": "markdown",
   "metadata": {},
   "source": [
    "If we have a set of statements or code that we want it to execute at any cost then we put such statements/codes inside finally block of try"
   ]
  },
  {
   "cell_type": "code",
   "execution_count": 13,
   "metadata": {},
   "outputs": [
    {
     "name": "stdout",
     "output_type": "stream",
     "text": [
      "Divide by Zero\n",
      "Finally executed\n"
     ]
    }
   ],
   "source": [
    "try:\n",
    "    divide = 5/0\n",
    "    print(divide)\n",
    "except:\n",
    "    print('Divide by Zero')\n",
    "finally:\n",
    "    print('Finally executed')"
   ]
  },
  {
   "cell_type": "code",
   "execution_count": 16,
   "metadata": {},
   "outputs": [
    {
     "name": "stdin",
     "output_type": "stream",
     "text": [
      "Enter a number :  4\n"
     ]
    },
    {
     "name": "stdout",
     "output_type": "stream",
     "text": [
      "Now you are correct\n",
      "4\n"
     ]
    }
   ],
   "source": [
    "try:\n",
    "    user = input('Enter a number : ')\n",
    "    user = int(user)\n",
    "except:\n",
    "    print('oops seems like you have not entered a number!')\n",
    "else:\n",
    "    print('Now you are correct')\n",
    "    print(user)"
   ]
  },
  {
   "cell_type": "code",
   "execution_count": null,
   "metadata": {},
   "outputs": [],
   "source": [
    "while True:\n",
    "    try :\n",
    "        user = input('Enter a number')\n",
    "        user = int(user)\n",
    "    except:\n",
    "        print('That is not integer')\n",
    "        continue\n",
    "    else:\n",
    "        print('This time you are right')\n",
    "        print(user)\n",
    "        break"
   ]
  },
  {
   "cell_type": "markdown",
   "metadata": {},
   "source": [
    "### Database Connictivity in python"
   ]
  },
  {
   "cell_type": "code",
   "execution_count": 1,
   "metadata": {},
   "outputs": [],
   "source": [
    "import sqlite3"
   ]
  },
  {
   "cell_type": "code",
   "execution_count": null,
   "metadata": {},
   "outputs": [],
   "source": []
  }
 ],
 "metadata": {
  "kernelspec": {
   "display_name": "Python 3",
   "language": "python",
   "name": "python3"
  },
  "language_info": {
   "codemirror_mode": {
    "name": "ipython",
    "version": 3
   },
   "file_extension": ".py",
   "mimetype": "text/x-python",
   "name": "python",
   "nbconvert_exporter": "python",
   "pygments_lexer": "ipython3",
   "version": "3.8.5"
  }
 },
 "nbformat": 4,
 "nbformat_minor": 4
}
