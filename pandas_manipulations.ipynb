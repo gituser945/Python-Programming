{
 "cells": [
  {
   "cell_type": "markdown",
   "id": "caring-immune",
   "metadata": {},
   "source": [
    "## Data Analytics using pandas"
   ]
  },
  {
   "cell_type": "code",
   "execution_count": 1,
   "id": "printable-sierra",
   "metadata": {},
   "outputs": [],
   "source": [
    "# importing library\n",
    "\n",
    "import pandas as pd"
   ]
  },
  {
   "cell_type": "code",
   "execution_count": 60,
   "id": "adolescent-hours",
   "metadata": {},
   "outputs": [],
   "source": [
    "# importing music file\n",
    "\n",
    "music = pd.read_csv('music.csv')"
   ]
  },
  {
   "cell_type": "markdown",
   "id": "purple-reliance",
   "metadata": {},
   "source": [
    "### Basics Filtering"
   ]
  },
  {
   "cell_type": "code",
   "execution_count": 61,
   "id": "spare-problem",
   "metadata": {},
   "outputs": [
    {
     "data": {
      "text/html": [
       "<div>\n",
       "<style scoped>\n",
       "    .dataframe tbody tr th:only-of-type {\n",
       "        vertical-align: middle;\n",
       "    }\n",
       "\n",
       "    .dataframe tbody tr th {\n",
       "        vertical-align: top;\n",
       "    }\n",
       "\n",
       "    .dataframe thead th {\n",
       "        text-align: right;\n",
       "    }\n",
       "</style>\n",
       "<table border=\"1\" class=\"dataframe\">\n",
       "  <thead>\n",
       "    <tr style=\"text-align: right;\">\n",
       "      <th></th>\n",
       "      <th>artist</th>\n",
       "      <th>country</th>\n",
       "      <th>plays</th>\n",
       "      <th>genre</th>\n",
       "    </tr>\n",
       "  </thead>\n",
       "  <tbody>\n",
       "    <tr>\n",
       "      <th>0</th>\n",
       "      <td>The Beatles</td>\n",
       "      <td>UK</td>\n",
       "      <td>150</td>\n",
       "      <td>rock</td>\n",
       "    </tr>\n",
       "    <tr>\n",
       "      <th>1</th>\n",
       "      <td>Pink Floyd</td>\n",
       "      <td>UK</td>\n",
       "      <td>10000</td>\n",
       "      <td>rock</td>\n",
       "    </tr>\n",
       "  </tbody>\n",
       "</table>\n",
       "</div>"
      ],
      "text/plain": [
       "        artist country  plays genre\n",
       "0  The Beatles      UK    150  rock\n",
       "1   Pink Floyd      UK  10000  rock"
      ]
     },
     "execution_count": 61,
     "metadata": {},
     "output_type": "execute_result"
    }
   ],
   "source": [
    "# filter music who's artist is from UK\n",
    "\n",
    "uk_artist = music[music['country'] == 'UK']\n",
    "uk_artist"
   ]
  },
  {
   "cell_type": "code",
   "execution_count": 62,
   "id": "sunset-volleyball",
   "metadata": {},
   "outputs": [
    {
     "data": {
      "text/html": [
       "<div>\n",
       "<style scoped>\n",
       "    .dataframe tbody tr th:only-of-type {\n",
       "        vertical-align: middle;\n",
       "    }\n",
       "\n",
       "    .dataframe tbody tr th {\n",
       "        vertical-align: top;\n",
       "    }\n",
       "\n",
       "    .dataframe thead th {\n",
       "        text-align: right;\n",
       "    }\n",
       "</style>\n",
       "<table border=\"1\" class=\"dataframe\">\n",
       "  <thead>\n",
       "    <tr style=\"text-align: right;\">\n",
       "      <th></th>\n",
       "      <th>artist</th>\n",
       "      <th>country</th>\n",
       "      <th>plays</th>\n",
       "      <th>genre</th>\n",
       "    </tr>\n",
       "  </thead>\n",
       "  <tbody>\n",
       "    <tr>\n",
       "      <th>0</th>\n",
       "      <td>The Beatles</td>\n",
       "      <td>UK</td>\n",
       "      <td>150</td>\n",
       "      <td>rock</td>\n",
       "    </tr>\n",
       "    <tr>\n",
       "      <th>1</th>\n",
       "      <td>Pink Floyd</td>\n",
       "      <td>UK</td>\n",
       "      <td>10000</td>\n",
       "      <td>rock</td>\n",
       "    </tr>\n",
       "  </tbody>\n",
       "</table>\n",
       "</div>"
      ],
      "text/plain": [
       "        artist country  plays genre\n",
       "0  The Beatles      UK    150  rock\n",
       "1   Pink Floyd      UK  10000  rock"
      ]
     },
     "execution_count": 62,
     "metadata": {},
     "output_type": "execute_result"
    }
   ],
   "source": [
    "# another way\n",
    "\n",
    "music[music.country == 'UK']"
   ]
  },
  {
   "cell_type": "markdown",
   "id": "complex-poverty",
   "metadata": {},
   "source": [
    "### Multiple filters"
   ]
  },
  {
   "cell_type": "markdown",
   "id": "bulgarian-giving",
   "metadata": {},
   "source": [
    "We want to filter the “music” DataFrame to select only the rock genre who have 200 plays or more."
   ]
  },
  {
   "cell_type": "code",
   "execution_count": 63,
   "id": "departmental-restoration",
   "metadata": {},
   "outputs": [
    {
     "data": {
      "text/html": [
       "<div>\n",
       "<style scoped>\n",
       "    .dataframe tbody tr th:only-of-type {\n",
       "        vertical-align: middle;\n",
       "    }\n",
       "\n",
       "    .dataframe tbody tr th {\n",
       "        vertical-align: top;\n",
       "    }\n",
       "\n",
       "    .dataframe thead th {\n",
       "        text-align: right;\n",
       "    }\n",
       "</style>\n",
       "<table border=\"1\" class=\"dataframe\">\n",
       "  <thead>\n",
       "    <tr style=\"text-align: right;\">\n",
       "      <th></th>\n",
       "      <th>artist</th>\n",
       "      <th>country</th>\n",
       "      <th>plays</th>\n",
       "      <th>genre</th>\n",
       "    </tr>\n",
       "  </thead>\n",
       "  <tbody>\n",
       "    <tr>\n",
       "      <th>1</th>\n",
       "      <td>Pink Floyd</td>\n",
       "      <td>UK</td>\n",
       "      <td>10000</td>\n",
       "      <td>rock</td>\n",
       "    </tr>\n",
       "    <tr>\n",
       "      <th>3</th>\n",
       "      <td>Cairokee</td>\n",
       "      <td>Egypt</td>\n",
       "      <td>200</td>\n",
       "      <td>rock</td>\n",
       "    </tr>\n",
       "    <tr>\n",
       "      <th>4</th>\n",
       "      <td>ACDC</td>\n",
       "      <td>US</td>\n",
       "      <td>250</td>\n",
       "      <td>rock</td>\n",
       "    </tr>\n",
       "    <tr>\n",
       "      <th>5</th>\n",
       "      <td>The Doors</td>\n",
       "      <td>US</td>\n",
       "      <td>1000</td>\n",
       "      <td>rock</td>\n",
       "    </tr>\n",
       "    <tr>\n",
       "      <th>6</th>\n",
       "      <td>Poets of The Fall</td>\n",
       "      <td>Finland</td>\n",
       "      <td>250</td>\n",
       "      <td>rock</td>\n",
       "    </tr>\n",
       "  </tbody>\n",
       "</table>\n",
       "</div>"
      ],
      "text/plain": [
       "              artist  country  plays genre\n",
       "1         Pink Floyd       UK  10000  rock\n",
       "3           Cairokee    Egypt    200  rock\n",
       "4               ACDC       US    250  rock\n",
       "5          The Doors       US   1000  rock\n",
       "6  Poets of The Fall  Finland    250  rock"
      ]
     },
     "execution_count": 63,
     "metadata": {},
     "output_type": "execute_result"
    }
   ],
   "source": [
    "rock_200 = music[(music['genre'] == 'rock') & (music['plays'] >= 200)]\n",
    "rock_200"
   ]
  },
  {
   "cell_type": "code",
   "execution_count": 64,
   "id": "therapeutic-perfume",
   "metadata": {},
   "outputs": [
    {
     "data": {
      "text/html": [
       "<div>\n",
       "<style scoped>\n",
       "    .dataframe tbody tr th:only-of-type {\n",
       "        vertical-align: middle;\n",
       "    }\n",
       "\n",
       "    .dataframe tbody tr th {\n",
       "        vertical-align: top;\n",
       "    }\n",
       "\n",
       "    .dataframe thead th {\n",
       "        text-align: right;\n",
       "    }\n",
       "</style>\n",
       "<table border=\"1\" class=\"dataframe\">\n",
       "  <thead>\n",
       "    <tr style=\"text-align: right;\">\n",
       "      <th></th>\n",
       "      <th>artist</th>\n",
       "      <th>country</th>\n",
       "      <th>plays</th>\n",
       "      <th>genre</th>\n",
       "    </tr>\n",
       "  </thead>\n",
       "  <tbody>\n",
       "    <tr>\n",
       "      <th>4</th>\n",
       "      <td>ACDC</td>\n",
       "      <td>US</td>\n",
       "      <td>250</td>\n",
       "      <td>rock</td>\n",
       "    </tr>\n",
       "    <tr>\n",
       "      <th>6</th>\n",
       "      <td>Poets of The Fall</td>\n",
       "      <td>Finland</td>\n",
       "      <td>250</td>\n",
       "      <td>rock</td>\n",
       "    </tr>\n",
       "  </tbody>\n",
       "</table>\n",
       "</div>"
      ],
      "text/plain": [
       "              artist  country  plays genre\n",
       "4               ACDC       US    250  rock\n",
       "6  Poets of The Fall  Finland    250  rock"
      ]
     },
     "execution_count": 64,
     "metadata": {},
     "output_type": "execute_result"
    }
   ],
   "source": [
    "rock_200_250 = music[(music['genre'] == 'rock') & (music['plays'] > 200) & (music['plays'] <= 500)]\n",
    "rock_200_250"
   ]
  },
  {
   "cell_type": "markdown",
   "id": "separate-street",
   "metadata": {},
   "source": [
    "### Negation"
   ]
  },
  {
   "cell_type": "markdown",
   "id": "economic-march",
   "metadata": {},
   "source": [
    "you are trying to filter artists outside the UK"
   ]
  },
  {
   "cell_type": "code",
   "execution_count": 65,
   "id": "crazy-positive",
   "metadata": {},
   "outputs": [
    {
     "data": {
      "text/html": [
       "<div>\n",
       "<style scoped>\n",
       "    .dataframe tbody tr th:only-of-type {\n",
       "        vertical-align: middle;\n",
       "    }\n",
       "\n",
       "    .dataframe tbody tr th {\n",
       "        vertical-align: top;\n",
       "    }\n",
       "\n",
       "    .dataframe thead th {\n",
       "        text-align: right;\n",
       "    }\n",
       "</style>\n",
       "<table border=\"1\" class=\"dataframe\">\n",
       "  <thead>\n",
       "    <tr style=\"text-align: right;\">\n",
       "      <th></th>\n",
       "      <th>artist</th>\n",
       "      <th>country</th>\n",
       "      <th>plays</th>\n",
       "      <th>genre</th>\n",
       "    </tr>\n",
       "  </thead>\n",
       "  <tbody>\n",
       "    <tr>\n",
       "      <th>2</th>\n",
       "      <td>Metallica</td>\n",
       "      <td>US</td>\n",
       "      <td>500</td>\n",
       "      <td>metal</td>\n",
       "    </tr>\n",
       "    <tr>\n",
       "      <th>3</th>\n",
       "      <td>Cairokee</td>\n",
       "      <td>Egypt</td>\n",
       "      <td>200</td>\n",
       "      <td>rock</td>\n",
       "    </tr>\n",
       "    <tr>\n",
       "      <th>4</th>\n",
       "      <td>ACDC</td>\n",
       "      <td>US</td>\n",
       "      <td>250</td>\n",
       "      <td>rock</td>\n",
       "    </tr>\n",
       "    <tr>\n",
       "      <th>5</th>\n",
       "      <td>The Doors</td>\n",
       "      <td>US</td>\n",
       "      <td>1000</td>\n",
       "      <td>rock</td>\n",
       "    </tr>\n",
       "    <tr>\n",
       "      <th>6</th>\n",
       "      <td>Poets of The Fall</td>\n",
       "      <td>Finland</td>\n",
       "      <td>250</td>\n",
       "      <td>rock</td>\n",
       "    </tr>\n",
       "  </tbody>\n",
       "</table>\n",
       "</div>"
      ],
      "text/plain": [
       "              artist  country  plays  genre\n",
       "2          Metallica       US    500  metal\n",
       "3           Cairokee    Egypt    200   rock\n",
       "4               ACDC       US    250   rock\n",
       "5          The Doors       US   1000   rock\n",
       "6  Poets of The Fall  Finland    250   rock"
      ]
     },
     "execution_count": 65,
     "metadata": {},
     "output_type": "execute_result"
    }
   ],
   "source": [
    "# one way\n",
    "\n",
    "outside_uk = music[~(music['country'] == 'UK')]\n",
    "outside_uk"
   ]
  },
  {
   "cell_type": "code",
   "execution_count": 66,
   "id": "working-cross",
   "metadata": {},
   "outputs": [
    {
     "data": {
      "text/html": [
       "<div>\n",
       "<style scoped>\n",
       "    .dataframe tbody tr th:only-of-type {\n",
       "        vertical-align: middle;\n",
       "    }\n",
       "\n",
       "    .dataframe tbody tr th {\n",
       "        vertical-align: top;\n",
       "    }\n",
       "\n",
       "    .dataframe thead th {\n",
       "        text-align: right;\n",
       "    }\n",
       "</style>\n",
       "<table border=\"1\" class=\"dataframe\">\n",
       "  <thead>\n",
       "    <tr style=\"text-align: right;\">\n",
       "      <th></th>\n",
       "      <th>artist</th>\n",
       "      <th>country</th>\n",
       "      <th>plays</th>\n",
       "      <th>genre</th>\n",
       "    </tr>\n",
       "  </thead>\n",
       "  <tbody>\n",
       "    <tr>\n",
       "      <th>2</th>\n",
       "      <td>Metallica</td>\n",
       "      <td>US</td>\n",
       "      <td>500</td>\n",
       "      <td>metal</td>\n",
       "    </tr>\n",
       "    <tr>\n",
       "      <th>3</th>\n",
       "      <td>Cairokee</td>\n",
       "      <td>Egypt</td>\n",
       "      <td>200</td>\n",
       "      <td>rock</td>\n",
       "    </tr>\n",
       "    <tr>\n",
       "      <th>4</th>\n",
       "      <td>ACDC</td>\n",
       "      <td>US</td>\n",
       "      <td>250</td>\n",
       "      <td>rock</td>\n",
       "    </tr>\n",
       "    <tr>\n",
       "      <th>5</th>\n",
       "      <td>The Doors</td>\n",
       "      <td>US</td>\n",
       "      <td>1000</td>\n",
       "      <td>rock</td>\n",
       "    </tr>\n",
       "    <tr>\n",
       "      <th>6</th>\n",
       "      <td>Poets of The Fall</td>\n",
       "      <td>Finland</td>\n",
       "      <td>250</td>\n",
       "      <td>rock</td>\n",
       "    </tr>\n",
       "  </tbody>\n",
       "</table>\n",
       "</div>"
      ],
      "text/plain": [
       "              artist  country  plays  genre\n",
       "2          Metallica       US    500  metal\n",
       "3           Cairokee    Egypt    200   rock\n",
       "4               ACDC       US    250   rock\n",
       "5          The Doors       US   1000   rock\n",
       "6  Poets of The Fall  Finland    250   rock"
      ]
     },
     "execution_count": 66,
     "metadata": {},
     "output_type": "execute_result"
    }
   ],
   "source": [
    "# another way\n",
    "\n",
    "outside_uk = music[music['country'] != 'UK']\n",
    "outside_uk"
   ]
  },
  {
   "cell_type": "markdown",
   "id": "assigned-basin",
   "metadata": {},
   "source": [
    "## Challenge: Multiple Filters"
   ]
  },
  {
   "cell_type": "markdown",
   "id": "premium-phenomenon",
   "metadata": {},
   "source": [
    "Problem definition#\n",
    "A music label wants to evaluate the success of its artists in the past month. However, it is unfair to evaluate based on play count across different countries. The music label would like to view at the same time:\n",
    "\n",
    "Artists outside the UK who have > 100 plays\n",
    "Artists inside the UK who have > 200 plays"
   ]
  },
  {
   "cell_type": "code",
   "execution_count": 67,
   "id": "aboriginal-undergraduate",
   "metadata": {},
   "outputs": [
    {
     "data": {
      "text/plain": [
       "1           Pink Floyd\n",
       "2            Metallica\n",
       "3             Cairokee\n",
       "4                 ACDC\n",
       "5            The Doors\n",
       "6    Poets of The Fall\n",
       "Name: artist, dtype: object"
      ]
     },
     "execution_count": 67,
     "metadata": {},
     "output_type": "execute_result"
    }
   ],
   "source": [
    "out = music[(~(music['country'] == 'UK') & (music['plays'] >100)) | ((music['country'] == 'UK') & (music['plays'] > 200))]\n",
    "out['artist']"
   ]
  },
  {
   "cell_type": "markdown",
   "id": "molecular-analyst",
   "metadata": {},
   "source": [
    "### Filtering by a List/String Filters"
   ]
  },
  {
   "cell_type": "markdown",
   "id": "initial-illinois",
   "metadata": {},
   "source": [
    "In this example, you want to filter artists who originate from either the US or the UK"
   ]
  },
  {
   "cell_type": "code",
   "execution_count": 68,
   "id": "built-cutting",
   "metadata": {},
   "outputs": [
    {
     "data": {
      "text/html": [
       "<div>\n",
       "<style scoped>\n",
       "    .dataframe tbody tr th:only-of-type {\n",
       "        vertical-align: middle;\n",
       "    }\n",
       "\n",
       "    .dataframe tbody tr th {\n",
       "        vertical-align: top;\n",
       "    }\n",
       "\n",
       "    .dataframe thead th {\n",
       "        text-align: right;\n",
       "    }\n",
       "</style>\n",
       "<table border=\"1\" class=\"dataframe\">\n",
       "  <thead>\n",
       "    <tr style=\"text-align: right;\">\n",
       "      <th></th>\n",
       "      <th>artist</th>\n",
       "      <th>country</th>\n",
       "      <th>plays</th>\n",
       "      <th>genre</th>\n",
       "    </tr>\n",
       "  </thead>\n",
       "  <tbody>\n",
       "    <tr>\n",
       "      <th>0</th>\n",
       "      <td>The Beatles</td>\n",
       "      <td>UK</td>\n",
       "      <td>150</td>\n",
       "      <td>rock</td>\n",
       "    </tr>\n",
       "    <tr>\n",
       "      <th>1</th>\n",
       "      <td>Pink Floyd</td>\n",
       "      <td>UK</td>\n",
       "      <td>10000</td>\n",
       "      <td>rock</td>\n",
       "    </tr>\n",
       "    <tr>\n",
       "      <th>2</th>\n",
       "      <td>Metallica</td>\n",
       "      <td>US</td>\n",
       "      <td>500</td>\n",
       "      <td>metal</td>\n",
       "    </tr>\n",
       "    <tr>\n",
       "      <th>4</th>\n",
       "      <td>ACDC</td>\n",
       "      <td>US</td>\n",
       "      <td>250</td>\n",
       "      <td>rock</td>\n",
       "    </tr>\n",
       "    <tr>\n",
       "      <th>5</th>\n",
       "      <td>The Doors</td>\n",
       "      <td>US</td>\n",
       "      <td>1000</td>\n",
       "      <td>rock</td>\n",
       "    </tr>\n",
       "  </tbody>\n",
       "</table>\n",
       "</div>"
      ],
      "text/plain": [
       "        artist country  plays  genre\n",
       "0  The Beatles      UK    150   rock\n",
       "1   Pink Floyd      UK  10000   rock\n",
       "2    Metallica      US    500  metal\n",
       "4         ACDC      US    250   rock\n",
       "5    The Doors      US   1000   rock"
      ]
     },
     "execution_count": 68,
     "metadata": {},
     "output_type": "execute_result"
    }
   ],
   "source": [
    "country_list = list(['US','UK'])\n",
    "out = music[music['country'].isin(country_list)]\n",
    "out"
   ]
  },
  {
   "cell_type": "markdown",
   "id": "better-baseline",
   "metadata": {},
   "source": [
    "Example: Filtering artists whose name starts with `The`"
   ]
  },
  {
   "cell_type": "code",
   "execution_count": 69,
   "id": "computational-anaheim",
   "metadata": {},
   "outputs": [
    {
     "data": {
      "text/html": [
       "<div>\n",
       "<style scoped>\n",
       "    .dataframe tbody tr th:only-of-type {\n",
       "        vertical-align: middle;\n",
       "    }\n",
       "\n",
       "    .dataframe tbody tr th {\n",
       "        vertical-align: top;\n",
       "    }\n",
       "\n",
       "    .dataframe thead th {\n",
       "        text-align: right;\n",
       "    }\n",
       "</style>\n",
       "<table border=\"1\" class=\"dataframe\">\n",
       "  <thead>\n",
       "    <tr style=\"text-align: right;\">\n",
       "      <th></th>\n",
       "      <th>artist</th>\n",
       "      <th>country</th>\n",
       "      <th>plays</th>\n",
       "      <th>genre</th>\n",
       "    </tr>\n",
       "  </thead>\n",
       "  <tbody>\n",
       "    <tr>\n",
       "      <th>0</th>\n",
       "      <td>The Beatles</td>\n",
       "      <td>UK</td>\n",
       "      <td>150</td>\n",
       "      <td>rock</td>\n",
       "    </tr>\n",
       "    <tr>\n",
       "      <th>5</th>\n",
       "      <td>The Doors</td>\n",
       "      <td>US</td>\n",
       "      <td>1000</td>\n",
       "      <td>rock</td>\n",
       "    </tr>\n",
       "  </tbody>\n",
       "</table>\n",
       "</div>"
      ],
      "text/plain": [
       "        artist country  plays genre\n",
       "0  The Beatles      UK    150  rock\n",
       "5    The Doors      US   1000  rock"
      ]
     },
     "execution_count": 69,
     "metadata": {},
     "output_type": "execute_result"
    }
   ],
   "source": [
    "out = music[music['artist'].str.startswith('The')]\n",
    "out"
   ]
  },
  {
   "cell_type": "code",
   "execution_count": 70,
   "id": "subject-fitting",
   "metadata": {},
   "outputs": [
    {
     "data": {
      "text/html": [
       "<div>\n",
       "<style scoped>\n",
       "    .dataframe tbody tr th:only-of-type {\n",
       "        vertical-align: middle;\n",
       "    }\n",
       "\n",
       "    .dataframe tbody tr th {\n",
       "        vertical-align: top;\n",
       "    }\n",
       "\n",
       "    .dataframe thead th {\n",
       "        text-align: right;\n",
       "    }\n",
       "</style>\n",
       "<table border=\"1\" class=\"dataframe\">\n",
       "  <thead>\n",
       "    <tr style=\"text-align: right;\">\n",
       "      <th></th>\n",
       "      <th>artist</th>\n",
       "      <th>country</th>\n",
       "      <th>plays</th>\n",
       "      <th>genre</th>\n",
       "    </tr>\n",
       "  </thead>\n",
       "  <tbody>\n",
       "    <tr>\n",
       "      <th>2</th>\n",
       "      <td>Metallica</td>\n",
       "      <td>US</td>\n",
       "      <td>500</td>\n",
       "      <td>metal</td>\n",
       "    </tr>\n",
       "  </tbody>\n",
       "</table>\n",
       "</div>"
      ],
      "text/plain": [
       "      artist country  plays  genre\n",
       "2  Metallica      US    500  metal"
      ]
     },
     "execution_count": 70,
     "metadata": {},
     "output_type": "execute_result"
    }
   ],
   "source": [
    "music[music['artist'].str.contains('Met')]"
   ]
  },
  {
   "cell_type": "markdown",
   "id": "desperate-glasgow",
   "metadata": {},
   "source": [
    "Your music data analyst is getting more curious; they want to know a list of all artists from the UK or Finland whose name contains the word The."
   ]
  },
  {
   "cell_type": "code",
   "execution_count": 71,
   "id": "sealed-stephen",
   "metadata": {},
   "outputs": [
    {
     "data": {
      "text/html": [
       "<div>\n",
       "<style scoped>\n",
       "    .dataframe tbody tr th:only-of-type {\n",
       "        vertical-align: middle;\n",
       "    }\n",
       "\n",
       "    .dataframe tbody tr th {\n",
       "        vertical-align: top;\n",
       "    }\n",
       "\n",
       "    .dataframe thead th {\n",
       "        text-align: right;\n",
       "    }\n",
       "</style>\n",
       "<table border=\"1\" class=\"dataframe\">\n",
       "  <thead>\n",
       "    <tr style=\"text-align: right;\">\n",
       "      <th></th>\n",
       "      <th>artist</th>\n",
       "      <th>country</th>\n",
       "      <th>plays</th>\n",
       "      <th>genre</th>\n",
       "    </tr>\n",
       "  </thead>\n",
       "  <tbody>\n",
       "    <tr>\n",
       "      <th>0</th>\n",
       "      <td>The Beatles</td>\n",
       "      <td>UK</td>\n",
       "      <td>150</td>\n",
       "      <td>rock</td>\n",
       "    </tr>\n",
       "    <tr>\n",
       "      <th>5</th>\n",
       "      <td>The Doors</td>\n",
       "      <td>US</td>\n",
       "      <td>1000</td>\n",
       "      <td>rock</td>\n",
       "    </tr>\n",
       "    <tr>\n",
       "      <th>6</th>\n",
       "      <td>Poets of The Fall</td>\n",
       "      <td>Finland</td>\n",
       "      <td>250</td>\n",
       "      <td>rock</td>\n",
       "    </tr>\n",
       "  </tbody>\n",
       "</table>\n",
       "</div>"
      ],
      "text/plain": [
       "              artist  country  plays genre\n",
       "0        The Beatles       UK    150  rock\n",
       "5          The Doors       US   1000  rock\n",
       "6  Poets of The Fall  Finland    250  rock"
      ]
     },
     "execution_count": 71,
     "metadata": {},
     "output_type": "execute_result"
    }
   ],
   "source": [
    "artist_list = list(['UK','Finland'])\n",
    "out = music[(music['artist'].isin(artist_list)) | (music['artist'].str.contains('The'))]\n",
    "out"
   ]
  },
  {
   "cell_type": "markdown",
   "id": "brazilian-reform",
   "metadata": {},
   "source": [
    "### Problem Definition\n",
    "<br> Your music analyst is getting more selective about the countries of origin of artists. They want to exclude artists from the UK or Finland, with the exception of still returning artists who have >= 10000 plays."
   ]
  },
  {
   "cell_type": "code",
   "execution_count": 84,
   "id": "closed-talent",
   "metadata": {},
   "outputs": [
    {
     "data": {
      "text/plain": [
       "['Pink Floyd', 'Metallica', 'Cairokee', 'ACDC', 'The Doors']"
      ]
     },
     "execution_count": 84,
     "metadata": {},
     "output_type": "execute_result"
    }
   ],
   "source": [
    "country_list = ['UK','Finland']\n",
    "out = music[~(music['country'].isin(country_list)) | (music['plays'] >= 10000)]\n",
    "list(out['artist'].values)"
   ]
  },
  {
   "cell_type": "code",
   "execution_count": 78,
   "id": "fabulous-newfoundland",
   "metadata": {},
   "outputs": [
    {
     "data": {
      "text/html": [
       "<div>\n",
       "<style scoped>\n",
       "    .dataframe tbody tr th:only-of-type {\n",
       "        vertical-align: middle;\n",
       "    }\n",
       "\n",
       "    .dataframe tbody tr th {\n",
       "        vertical-align: top;\n",
       "    }\n",
       "\n",
       "    .dataframe thead th {\n",
       "        text-align: right;\n",
       "    }\n",
       "</style>\n",
       "<table border=\"1\" class=\"dataframe\">\n",
       "  <thead>\n",
       "    <tr style=\"text-align: right;\">\n",
       "      <th></th>\n",
       "      <th>artist</th>\n",
       "      <th>country</th>\n",
       "      <th>plays</th>\n",
       "      <th>genre</th>\n",
       "    </tr>\n",
       "  </thead>\n",
       "  <tbody>\n",
       "    <tr>\n",
       "      <th>0</th>\n",
       "      <td>The Beatles</td>\n",
       "      <td>UK</td>\n",
       "      <td>150</td>\n",
       "      <td>rock</td>\n",
       "    </tr>\n",
       "    <tr>\n",
       "      <th>1</th>\n",
       "      <td>Pink Floyd</td>\n",
       "      <td>UK</td>\n",
       "      <td>10000</td>\n",
       "      <td>rock</td>\n",
       "    </tr>\n",
       "    <tr>\n",
       "      <th>2</th>\n",
       "      <td>Metallica</td>\n",
       "      <td>US</td>\n",
       "      <td>500</td>\n",
       "      <td>metal</td>\n",
       "    </tr>\n",
       "    <tr>\n",
       "      <th>3</th>\n",
       "      <td>Cairokee</td>\n",
       "      <td>Egypt</td>\n",
       "      <td>200</td>\n",
       "      <td>rock</td>\n",
       "    </tr>\n",
       "    <tr>\n",
       "      <th>4</th>\n",
       "      <td>ACDC</td>\n",
       "      <td>US</td>\n",
       "      <td>250</td>\n",
       "      <td>rock</td>\n",
       "    </tr>\n",
       "    <tr>\n",
       "      <th>5</th>\n",
       "      <td>The Doors</td>\n",
       "      <td>US</td>\n",
       "      <td>1000</td>\n",
       "      <td>rock</td>\n",
       "    </tr>\n",
       "    <tr>\n",
       "      <th>6</th>\n",
       "      <td>Poets of The Fall</td>\n",
       "      <td>Finland</td>\n",
       "      <td>250</td>\n",
       "      <td>rock</td>\n",
       "    </tr>\n",
       "  </tbody>\n",
       "</table>\n",
       "</div>"
      ],
      "text/plain": [
       "              artist  country  plays  genre\n",
       "0        The Beatles       UK    150   rock\n",
       "1         Pink Floyd       UK  10000   rock\n",
       "2          Metallica       US    500  metal\n",
       "3           Cairokee    Egypt    200   rock\n",
       "4               ACDC       US    250   rock\n",
       "5          The Doors       US   1000   rock\n",
       "6  Poets of The Fall  Finland    250   rock"
      ]
     },
     "execution_count": 78,
     "metadata": {},
     "output_type": "execute_result"
    }
   ],
   "source": [
    "music"
   ]
  },
  {
   "cell_type": "code",
   "execution_count": null,
   "id": "local-differential",
   "metadata": {},
   "outputs": [],
   "source": []
  }
 ],
 "metadata": {
  "kernelspec": {
   "display_name": "Python 3",
   "language": "python",
   "name": "python3"
  },
  "language_info": {
   "codemirror_mode": {
    "name": "ipython",
    "version": 3
   },
   "file_extension": ".py",
   "mimetype": "text/x-python",
   "name": "python",
   "nbconvert_exporter": "python",
   "pygments_lexer": "ipython3",
   "version": "3.9.1"
  }
 },
 "nbformat": 4,
 "nbformat_minor": 5
}
