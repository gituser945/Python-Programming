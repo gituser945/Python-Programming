{
 "cells": [
  {
   "cell_type": "markdown",
   "id": "conscious-shift",
   "metadata": {},
   "source": [
    "## Data Analytics using pandas"
   ]
  },
  {
   "cell_type": "code",
   "execution_count": 114,
   "id": "organized-vacation",
   "metadata": {},
   "outputs": [],
   "source": [
    "# importing library\n",
    "\n",
    "import pandas as pd"
   ]
  },
  {
   "cell_type": "code",
   "execution_count": 115,
   "id": "apparent-perspective",
   "metadata": {},
   "outputs": [],
   "source": [
    "# importing music file\n",
    "\n",
    "music = pd.read_csv('music.csv')"
   ]
  },
  {
   "cell_type": "markdown",
   "id": "lasting-tours",
   "metadata": {},
   "source": [
    "### Basics Filtering"
   ]
  },
  {
   "cell_type": "code",
   "execution_count": 116,
   "id": "contemporary-helena",
   "metadata": {},
   "outputs": [
    {
     "data": {
      "text/html": [
       "<div>\n",
       "<style scoped>\n",
       "    .dataframe tbody tr th:only-of-type {\n",
       "        vertical-align: middle;\n",
       "    }\n",
       "\n",
       "    .dataframe tbody tr th {\n",
       "        vertical-align: top;\n",
       "    }\n",
       "\n",
       "    .dataframe thead th {\n",
       "        text-align: right;\n",
       "    }\n",
       "</style>\n",
       "<table border=\"1\" class=\"dataframe\">\n",
       "  <thead>\n",
       "    <tr style=\"text-align: right;\">\n",
       "      <th></th>\n",
       "      <th>artist</th>\n",
       "      <th>country</th>\n",
       "      <th>plays</th>\n",
       "      <th>genre</th>\n",
       "      <th>fans</th>\n",
       "    </tr>\n",
       "  </thead>\n",
       "  <tbody>\n",
       "    <tr>\n",
       "      <th>0</th>\n",
       "      <td>The Beatles</td>\n",
       "      <td>UK</td>\n",
       "      <td>150</td>\n",
       "      <td>rock</td>\n",
       "      <td>50</td>\n",
       "    </tr>\n",
       "    <tr>\n",
       "      <th>1</th>\n",
       "      <td>Pink Floyd</td>\n",
       "      <td>UK</td>\n",
       "      <td>10000</td>\n",
       "      <td>rock</td>\n",
       "      <td>1500</td>\n",
       "    </tr>\n",
       "    <tr>\n",
       "      <th>8</th>\n",
       "      <td>Iron Maiden</td>\n",
       "      <td>UK</td>\n",
       "      <td>20000</td>\n",
       "      <td>metal</td>\n",
       "      <td>3500</td>\n",
       "    </tr>\n",
       "    <tr>\n",
       "      <th>9</th>\n",
       "      <td>Judas Priest</td>\n",
       "      <td>UK</td>\n",
       "      <td>5000</td>\n",
       "      <td>metal</td>\n",
       "      <td>1000</td>\n",
       "    </tr>\n",
       "  </tbody>\n",
       "</table>\n",
       "</div>"
      ],
      "text/plain": [
       "         artist country  plays  genre  fans\n",
       "0   The Beatles      UK    150   rock    50\n",
       "1    Pink Floyd      UK  10000   rock  1500\n",
       "8   Iron Maiden      UK  20000  metal  3500\n",
       "9  Judas Priest      UK   5000  metal  1000"
      ]
     },
     "execution_count": 116,
     "metadata": {},
     "output_type": "execute_result"
    }
   ],
   "source": [
    "# filter music who's artist is from UK\n",
    "\n",
    "uk_artist = music[music['country'] == 'UK']\n",
    "uk_artist"
   ]
  },
  {
   "cell_type": "code",
   "execution_count": 117,
   "id": "ordinary-constraint",
   "metadata": {},
   "outputs": [
    {
     "data": {
      "text/html": [
       "<div>\n",
       "<style scoped>\n",
       "    .dataframe tbody tr th:only-of-type {\n",
       "        vertical-align: middle;\n",
       "    }\n",
       "\n",
       "    .dataframe tbody tr th {\n",
       "        vertical-align: top;\n",
       "    }\n",
       "\n",
       "    .dataframe thead th {\n",
       "        text-align: right;\n",
       "    }\n",
       "</style>\n",
       "<table border=\"1\" class=\"dataframe\">\n",
       "  <thead>\n",
       "    <tr style=\"text-align: right;\">\n",
       "      <th></th>\n",
       "      <th>artist</th>\n",
       "      <th>country</th>\n",
       "      <th>plays</th>\n",
       "      <th>genre</th>\n",
       "      <th>fans</th>\n",
       "    </tr>\n",
       "  </thead>\n",
       "  <tbody>\n",
       "    <tr>\n",
       "      <th>0</th>\n",
       "      <td>The Beatles</td>\n",
       "      <td>UK</td>\n",
       "      <td>150</td>\n",
       "      <td>rock</td>\n",
       "      <td>50</td>\n",
       "    </tr>\n",
       "    <tr>\n",
       "      <th>1</th>\n",
       "      <td>Pink Floyd</td>\n",
       "      <td>UK</td>\n",
       "      <td>10000</td>\n",
       "      <td>rock</td>\n",
       "      <td>1500</td>\n",
       "    </tr>\n",
       "    <tr>\n",
       "      <th>8</th>\n",
       "      <td>Iron Maiden</td>\n",
       "      <td>UK</td>\n",
       "      <td>20000</td>\n",
       "      <td>metal</td>\n",
       "      <td>3500</td>\n",
       "    </tr>\n",
       "    <tr>\n",
       "      <th>9</th>\n",
       "      <td>Judas Priest</td>\n",
       "      <td>UK</td>\n",
       "      <td>5000</td>\n",
       "      <td>metal</td>\n",
       "      <td>1000</td>\n",
       "    </tr>\n",
       "  </tbody>\n",
       "</table>\n",
       "</div>"
      ],
      "text/plain": [
       "         artist country  plays  genre  fans\n",
       "0   The Beatles      UK    150   rock    50\n",
       "1    Pink Floyd      UK  10000   rock  1500\n",
       "8   Iron Maiden      UK  20000  metal  3500\n",
       "9  Judas Priest      UK   5000  metal  1000"
      ]
     },
     "execution_count": 117,
     "metadata": {},
     "output_type": "execute_result"
    }
   ],
   "source": [
    "# another way\n",
    "\n",
    "music[music.country == 'UK']"
   ]
  },
  {
   "cell_type": "markdown",
   "id": "announced-modeling",
   "metadata": {},
   "source": [
    "### Multiple filters"
   ]
  },
  {
   "cell_type": "markdown",
   "id": "quantitative-berry",
   "metadata": {},
   "source": [
    "We want to filter the “music” DataFrame to select only the rock genre who have 200 plays or more."
   ]
  },
  {
   "cell_type": "code",
   "execution_count": 118,
   "id": "single-builder",
   "metadata": {},
   "outputs": [
    {
     "data": {
      "text/html": [
       "<div>\n",
       "<style scoped>\n",
       "    .dataframe tbody tr th:only-of-type {\n",
       "        vertical-align: middle;\n",
       "    }\n",
       "\n",
       "    .dataframe tbody tr th {\n",
       "        vertical-align: top;\n",
       "    }\n",
       "\n",
       "    .dataframe thead th {\n",
       "        text-align: right;\n",
       "    }\n",
       "</style>\n",
       "<table border=\"1\" class=\"dataframe\">\n",
       "  <thead>\n",
       "    <tr style=\"text-align: right;\">\n",
       "      <th></th>\n",
       "      <th>artist</th>\n",
       "      <th>country</th>\n",
       "      <th>plays</th>\n",
       "      <th>genre</th>\n",
       "      <th>fans</th>\n",
       "    </tr>\n",
       "  </thead>\n",
       "  <tbody>\n",
       "    <tr>\n",
       "      <th>1</th>\n",
       "      <td>Pink Floyd</td>\n",
       "      <td>UK</td>\n",
       "      <td>10000</td>\n",
       "      <td>rock</td>\n",
       "      <td>1500</td>\n",
       "    </tr>\n",
       "    <tr>\n",
       "      <th>3</th>\n",
       "      <td>Cairokee</td>\n",
       "      <td>Egypt</td>\n",
       "      <td>200</td>\n",
       "      <td>rock</td>\n",
       "      <td>10</td>\n",
       "    </tr>\n",
       "    <tr>\n",
       "      <th>4</th>\n",
       "      <td>ACDC</td>\n",
       "      <td>US</td>\n",
       "      <td>250</td>\n",
       "      <td>rock</td>\n",
       "      <td>20</td>\n",
       "    </tr>\n",
       "    <tr>\n",
       "      <th>5</th>\n",
       "      <td>The Doors</td>\n",
       "      <td>US</td>\n",
       "      <td>1000</td>\n",
       "      <td>rock</td>\n",
       "      <td>80</td>\n",
       "    </tr>\n",
       "    <tr>\n",
       "      <th>6</th>\n",
       "      <td>Poets of The Fall</td>\n",
       "      <td>Finland</td>\n",
       "      <td>250</td>\n",
       "      <td>rock</td>\n",
       "      <td>10</td>\n",
       "    </tr>\n",
       "  </tbody>\n",
       "</table>\n",
       "</div>"
      ],
      "text/plain": [
       "              artist  country  plays genre  fans\n",
       "1         Pink Floyd       UK  10000  rock  1500\n",
       "3           Cairokee    Egypt    200  rock    10\n",
       "4               ACDC       US    250  rock    20\n",
       "5          The Doors       US   1000  rock    80\n",
       "6  Poets of The Fall  Finland    250  rock    10"
      ]
     },
     "execution_count": 118,
     "metadata": {},
     "output_type": "execute_result"
    }
   ],
   "source": [
    "rock_200 = music[(music['genre'] == 'rock') & (music['plays'] >= 200)]\n",
    "rock_200"
   ]
  },
  {
   "cell_type": "code",
   "execution_count": 119,
   "id": "parallel-syndicate",
   "metadata": {},
   "outputs": [
    {
     "data": {
      "text/html": [
       "<div>\n",
       "<style scoped>\n",
       "    .dataframe tbody tr th:only-of-type {\n",
       "        vertical-align: middle;\n",
       "    }\n",
       "\n",
       "    .dataframe tbody tr th {\n",
       "        vertical-align: top;\n",
       "    }\n",
       "\n",
       "    .dataframe thead th {\n",
       "        text-align: right;\n",
       "    }\n",
       "</style>\n",
       "<table border=\"1\" class=\"dataframe\">\n",
       "  <thead>\n",
       "    <tr style=\"text-align: right;\">\n",
       "      <th></th>\n",
       "      <th>artist</th>\n",
       "      <th>country</th>\n",
       "      <th>plays</th>\n",
       "      <th>genre</th>\n",
       "      <th>fans</th>\n",
       "    </tr>\n",
       "  </thead>\n",
       "  <tbody>\n",
       "    <tr>\n",
       "      <th>4</th>\n",
       "      <td>ACDC</td>\n",
       "      <td>US</td>\n",
       "      <td>250</td>\n",
       "      <td>rock</td>\n",
       "      <td>20</td>\n",
       "    </tr>\n",
       "    <tr>\n",
       "      <th>6</th>\n",
       "      <td>Poets of The Fall</td>\n",
       "      <td>Finland</td>\n",
       "      <td>250</td>\n",
       "      <td>rock</td>\n",
       "      <td>10</td>\n",
       "    </tr>\n",
       "  </tbody>\n",
       "</table>\n",
       "</div>"
      ],
      "text/plain": [
       "              artist  country  plays genre  fans\n",
       "4               ACDC       US    250  rock    20\n",
       "6  Poets of The Fall  Finland    250  rock    10"
      ]
     },
     "execution_count": 119,
     "metadata": {},
     "output_type": "execute_result"
    }
   ],
   "source": [
    "rock_200_250 = music[(music['genre'] == 'rock') & (music['plays'] > 200) & (music['plays'] <= 500)]\n",
    "rock_200_250"
   ]
  },
  {
   "cell_type": "markdown",
   "id": "confident-louisville",
   "metadata": {},
   "source": [
    "### Negation"
   ]
  },
  {
   "cell_type": "markdown",
   "id": "foster-internship",
   "metadata": {},
   "source": [
    "you are trying to filter artists outside the UK"
   ]
  },
  {
   "cell_type": "code",
   "execution_count": 120,
   "id": "found-process",
   "metadata": {},
   "outputs": [
    {
     "data": {
      "text/html": [
       "<div>\n",
       "<style scoped>\n",
       "    .dataframe tbody tr th:only-of-type {\n",
       "        vertical-align: middle;\n",
       "    }\n",
       "\n",
       "    .dataframe tbody tr th {\n",
       "        vertical-align: top;\n",
       "    }\n",
       "\n",
       "    .dataframe thead th {\n",
       "        text-align: right;\n",
       "    }\n",
       "</style>\n",
       "<table border=\"1\" class=\"dataframe\">\n",
       "  <thead>\n",
       "    <tr style=\"text-align: right;\">\n",
       "      <th></th>\n",
       "      <th>artist</th>\n",
       "      <th>country</th>\n",
       "      <th>plays</th>\n",
       "      <th>genre</th>\n",
       "      <th>fans</th>\n",
       "    </tr>\n",
       "  </thead>\n",
       "  <tbody>\n",
       "    <tr>\n",
       "      <th>2</th>\n",
       "      <td>Metallica</td>\n",
       "      <td>US</td>\n",
       "      <td>500</td>\n",
       "      <td>metal</td>\n",
       "      <td>50</td>\n",
       "    </tr>\n",
       "    <tr>\n",
       "      <th>3</th>\n",
       "      <td>Cairokee</td>\n",
       "      <td>Egypt</td>\n",
       "      <td>200</td>\n",
       "      <td>rock</td>\n",
       "      <td>10</td>\n",
       "    </tr>\n",
       "    <tr>\n",
       "      <th>4</th>\n",
       "      <td>ACDC</td>\n",
       "      <td>US</td>\n",
       "      <td>250</td>\n",
       "      <td>rock</td>\n",
       "      <td>20</td>\n",
       "    </tr>\n",
       "    <tr>\n",
       "      <th>5</th>\n",
       "      <td>The Doors</td>\n",
       "      <td>US</td>\n",
       "      <td>1000</td>\n",
       "      <td>rock</td>\n",
       "      <td>80</td>\n",
       "    </tr>\n",
       "    <tr>\n",
       "      <th>6</th>\n",
       "      <td>Poets of The Fall</td>\n",
       "      <td>Finland</td>\n",
       "      <td>250</td>\n",
       "      <td>rock</td>\n",
       "      <td>10</td>\n",
       "    </tr>\n",
       "    <tr>\n",
       "      <th>7</th>\n",
       "      <td>Megadeth</td>\n",
       "      <td>US</td>\n",
       "      <td>300</td>\n",
       "      <td>metal</td>\n",
       "      <td>20</td>\n",
       "    </tr>\n",
       "  </tbody>\n",
       "</table>\n",
       "</div>"
      ],
      "text/plain": [
       "              artist  country  plays  genre  fans\n",
       "2          Metallica       US    500  metal    50\n",
       "3           Cairokee    Egypt    200   rock    10\n",
       "4               ACDC       US    250   rock    20\n",
       "5          The Doors       US   1000   rock    80\n",
       "6  Poets of The Fall  Finland    250   rock    10\n",
       "7           Megadeth       US    300  metal    20"
      ]
     },
     "execution_count": 120,
     "metadata": {},
     "output_type": "execute_result"
    }
   ],
   "source": [
    "# one way\n",
    "\n",
    "outside_uk = music[~(music['country'] == 'UK')]\n",
    "outside_uk"
   ]
  },
  {
   "cell_type": "code",
   "execution_count": 121,
   "id": "chubby-hammer",
   "metadata": {},
   "outputs": [
    {
     "data": {
      "text/html": [
       "<div>\n",
       "<style scoped>\n",
       "    .dataframe tbody tr th:only-of-type {\n",
       "        vertical-align: middle;\n",
       "    }\n",
       "\n",
       "    .dataframe tbody tr th {\n",
       "        vertical-align: top;\n",
       "    }\n",
       "\n",
       "    .dataframe thead th {\n",
       "        text-align: right;\n",
       "    }\n",
       "</style>\n",
       "<table border=\"1\" class=\"dataframe\">\n",
       "  <thead>\n",
       "    <tr style=\"text-align: right;\">\n",
       "      <th></th>\n",
       "      <th>artist</th>\n",
       "      <th>country</th>\n",
       "      <th>plays</th>\n",
       "      <th>genre</th>\n",
       "      <th>fans</th>\n",
       "    </tr>\n",
       "  </thead>\n",
       "  <tbody>\n",
       "    <tr>\n",
       "      <th>2</th>\n",
       "      <td>Metallica</td>\n",
       "      <td>US</td>\n",
       "      <td>500</td>\n",
       "      <td>metal</td>\n",
       "      <td>50</td>\n",
       "    </tr>\n",
       "    <tr>\n",
       "      <th>3</th>\n",
       "      <td>Cairokee</td>\n",
       "      <td>Egypt</td>\n",
       "      <td>200</td>\n",
       "      <td>rock</td>\n",
       "      <td>10</td>\n",
       "    </tr>\n",
       "    <tr>\n",
       "      <th>4</th>\n",
       "      <td>ACDC</td>\n",
       "      <td>US</td>\n",
       "      <td>250</td>\n",
       "      <td>rock</td>\n",
       "      <td>20</td>\n",
       "    </tr>\n",
       "    <tr>\n",
       "      <th>5</th>\n",
       "      <td>The Doors</td>\n",
       "      <td>US</td>\n",
       "      <td>1000</td>\n",
       "      <td>rock</td>\n",
       "      <td>80</td>\n",
       "    </tr>\n",
       "    <tr>\n",
       "      <th>6</th>\n",
       "      <td>Poets of The Fall</td>\n",
       "      <td>Finland</td>\n",
       "      <td>250</td>\n",
       "      <td>rock</td>\n",
       "      <td>10</td>\n",
       "    </tr>\n",
       "    <tr>\n",
       "      <th>7</th>\n",
       "      <td>Megadeth</td>\n",
       "      <td>US</td>\n",
       "      <td>300</td>\n",
       "      <td>metal</td>\n",
       "      <td>20</td>\n",
       "    </tr>\n",
       "  </tbody>\n",
       "</table>\n",
       "</div>"
      ],
      "text/plain": [
       "              artist  country  plays  genre  fans\n",
       "2          Metallica       US    500  metal    50\n",
       "3           Cairokee    Egypt    200   rock    10\n",
       "4               ACDC       US    250   rock    20\n",
       "5          The Doors       US   1000   rock    80\n",
       "6  Poets of The Fall  Finland    250   rock    10\n",
       "7           Megadeth       US    300  metal    20"
      ]
     },
     "execution_count": 121,
     "metadata": {},
     "output_type": "execute_result"
    }
   ],
   "source": [
    "# another way\n",
    "\n",
    "outside_uk = music[music['country'] != 'UK']\n",
    "outside_uk"
   ]
  },
  {
   "cell_type": "markdown",
   "id": "handy-idaho",
   "metadata": {},
   "source": [
    "## Challenge: Multiple Filters"
   ]
  },
  {
   "cell_type": "markdown",
   "id": "transparent-duration",
   "metadata": {},
   "source": [
    "Problem definition#\n",
    "A music label wants to evaluate the success of its artists in the past month. However, it is unfair to evaluate based on play count across different countries. The music label would like to view at the same time:\n",
    "\n",
    "Artists outside the UK who have > 100 plays\n",
    "Artists inside the UK who have > 200 plays"
   ]
  },
  {
   "cell_type": "code",
   "execution_count": 122,
   "id": "auburn-process",
   "metadata": {},
   "outputs": [
    {
     "data": {
      "text/plain": [
       "1           Pink Floyd\n",
       "2            Metallica\n",
       "3             Cairokee\n",
       "4                 ACDC\n",
       "5            The Doors\n",
       "6    Poets of The Fall\n",
       "7             Megadeth\n",
       "8          Iron Maiden\n",
       "9         Judas Priest\n",
       "Name: artist, dtype: object"
      ]
     },
     "execution_count": 122,
     "metadata": {},
     "output_type": "execute_result"
    }
   ],
   "source": [
    "out = music[(~(music['country'] == 'UK') & (music['plays'] >100)) | ((music['country'] == 'UK') & (music['plays'] > 200))]\n",
    "out['artist']"
   ]
  },
  {
   "cell_type": "markdown",
   "id": "awful-dubai",
   "metadata": {},
   "source": [
    "### Filtering by a List/String Filters"
   ]
  },
  {
   "cell_type": "markdown",
   "id": "alpine-filter",
   "metadata": {},
   "source": [
    "In this example, you want to filter artists who originate from either the US or the UK"
   ]
  },
  {
   "cell_type": "code",
   "execution_count": 123,
   "id": "miniature-armenia",
   "metadata": {},
   "outputs": [
    {
     "data": {
      "text/html": [
       "<div>\n",
       "<style scoped>\n",
       "    .dataframe tbody tr th:only-of-type {\n",
       "        vertical-align: middle;\n",
       "    }\n",
       "\n",
       "    .dataframe tbody tr th {\n",
       "        vertical-align: top;\n",
       "    }\n",
       "\n",
       "    .dataframe thead th {\n",
       "        text-align: right;\n",
       "    }\n",
       "</style>\n",
       "<table border=\"1\" class=\"dataframe\">\n",
       "  <thead>\n",
       "    <tr style=\"text-align: right;\">\n",
       "      <th></th>\n",
       "      <th>artist</th>\n",
       "      <th>country</th>\n",
       "      <th>plays</th>\n",
       "      <th>genre</th>\n",
       "      <th>fans</th>\n",
       "    </tr>\n",
       "  </thead>\n",
       "  <tbody>\n",
       "    <tr>\n",
       "      <th>0</th>\n",
       "      <td>The Beatles</td>\n",
       "      <td>UK</td>\n",
       "      <td>150</td>\n",
       "      <td>rock</td>\n",
       "      <td>50</td>\n",
       "    </tr>\n",
       "    <tr>\n",
       "      <th>1</th>\n",
       "      <td>Pink Floyd</td>\n",
       "      <td>UK</td>\n",
       "      <td>10000</td>\n",
       "      <td>rock</td>\n",
       "      <td>1500</td>\n",
       "    </tr>\n",
       "    <tr>\n",
       "      <th>2</th>\n",
       "      <td>Metallica</td>\n",
       "      <td>US</td>\n",
       "      <td>500</td>\n",
       "      <td>metal</td>\n",
       "      <td>50</td>\n",
       "    </tr>\n",
       "    <tr>\n",
       "      <th>4</th>\n",
       "      <td>ACDC</td>\n",
       "      <td>US</td>\n",
       "      <td>250</td>\n",
       "      <td>rock</td>\n",
       "      <td>20</td>\n",
       "    </tr>\n",
       "    <tr>\n",
       "      <th>5</th>\n",
       "      <td>The Doors</td>\n",
       "      <td>US</td>\n",
       "      <td>1000</td>\n",
       "      <td>rock</td>\n",
       "      <td>80</td>\n",
       "    </tr>\n",
       "    <tr>\n",
       "      <th>7</th>\n",
       "      <td>Megadeth</td>\n",
       "      <td>US</td>\n",
       "      <td>300</td>\n",
       "      <td>metal</td>\n",
       "      <td>20</td>\n",
       "    </tr>\n",
       "    <tr>\n",
       "      <th>8</th>\n",
       "      <td>Iron Maiden</td>\n",
       "      <td>UK</td>\n",
       "      <td>20000</td>\n",
       "      <td>metal</td>\n",
       "      <td>3500</td>\n",
       "    </tr>\n",
       "    <tr>\n",
       "      <th>9</th>\n",
       "      <td>Judas Priest</td>\n",
       "      <td>UK</td>\n",
       "      <td>5000</td>\n",
       "      <td>metal</td>\n",
       "      <td>1000</td>\n",
       "    </tr>\n",
       "  </tbody>\n",
       "</table>\n",
       "</div>"
      ],
      "text/plain": [
       "         artist country  plays  genre  fans\n",
       "0   The Beatles      UK    150   rock    50\n",
       "1    Pink Floyd      UK  10000   rock  1500\n",
       "2     Metallica      US    500  metal    50\n",
       "4          ACDC      US    250   rock    20\n",
       "5     The Doors      US   1000   rock    80\n",
       "7      Megadeth      US    300  metal    20\n",
       "8   Iron Maiden      UK  20000  metal  3500\n",
       "9  Judas Priest      UK   5000  metal  1000"
      ]
     },
     "execution_count": 123,
     "metadata": {},
     "output_type": "execute_result"
    }
   ],
   "source": [
    "country_list = list(['US','UK'])\n",
    "out = music[music['country'].isin(country_list)]\n",
    "out"
   ]
  },
  {
   "cell_type": "markdown",
   "id": "terminal-vehicle",
   "metadata": {},
   "source": [
    "Example: Filtering artists whose name starts with `The`"
   ]
  },
  {
   "cell_type": "code",
   "execution_count": 124,
   "id": "wired-character",
   "metadata": {},
   "outputs": [
    {
     "data": {
      "text/html": [
       "<div>\n",
       "<style scoped>\n",
       "    .dataframe tbody tr th:only-of-type {\n",
       "        vertical-align: middle;\n",
       "    }\n",
       "\n",
       "    .dataframe tbody tr th {\n",
       "        vertical-align: top;\n",
       "    }\n",
       "\n",
       "    .dataframe thead th {\n",
       "        text-align: right;\n",
       "    }\n",
       "</style>\n",
       "<table border=\"1\" class=\"dataframe\">\n",
       "  <thead>\n",
       "    <tr style=\"text-align: right;\">\n",
       "      <th></th>\n",
       "      <th>artist</th>\n",
       "      <th>country</th>\n",
       "      <th>plays</th>\n",
       "      <th>genre</th>\n",
       "      <th>fans</th>\n",
       "    </tr>\n",
       "  </thead>\n",
       "  <tbody>\n",
       "    <tr>\n",
       "      <th>0</th>\n",
       "      <td>The Beatles</td>\n",
       "      <td>UK</td>\n",
       "      <td>150</td>\n",
       "      <td>rock</td>\n",
       "      <td>50</td>\n",
       "    </tr>\n",
       "    <tr>\n",
       "      <th>5</th>\n",
       "      <td>The Doors</td>\n",
       "      <td>US</td>\n",
       "      <td>1000</td>\n",
       "      <td>rock</td>\n",
       "      <td>80</td>\n",
       "    </tr>\n",
       "  </tbody>\n",
       "</table>\n",
       "</div>"
      ],
      "text/plain": [
       "        artist country  plays genre  fans\n",
       "0  The Beatles      UK    150  rock    50\n",
       "5    The Doors      US   1000  rock    80"
      ]
     },
     "execution_count": 124,
     "metadata": {},
     "output_type": "execute_result"
    }
   ],
   "source": [
    "out = music[music['artist'].str.startswith('The')]\n",
    "out"
   ]
  },
  {
   "cell_type": "code",
   "execution_count": 125,
   "id": "endangered-uganda",
   "metadata": {},
   "outputs": [
    {
     "data": {
      "text/html": [
       "<div>\n",
       "<style scoped>\n",
       "    .dataframe tbody tr th:only-of-type {\n",
       "        vertical-align: middle;\n",
       "    }\n",
       "\n",
       "    .dataframe tbody tr th {\n",
       "        vertical-align: top;\n",
       "    }\n",
       "\n",
       "    .dataframe thead th {\n",
       "        text-align: right;\n",
       "    }\n",
       "</style>\n",
       "<table border=\"1\" class=\"dataframe\">\n",
       "  <thead>\n",
       "    <tr style=\"text-align: right;\">\n",
       "      <th></th>\n",
       "      <th>artist</th>\n",
       "      <th>country</th>\n",
       "      <th>plays</th>\n",
       "      <th>genre</th>\n",
       "      <th>fans</th>\n",
       "    </tr>\n",
       "  </thead>\n",
       "  <tbody>\n",
       "    <tr>\n",
       "      <th>2</th>\n",
       "      <td>Metallica</td>\n",
       "      <td>US</td>\n",
       "      <td>500</td>\n",
       "      <td>metal</td>\n",
       "      <td>50</td>\n",
       "    </tr>\n",
       "  </tbody>\n",
       "</table>\n",
       "</div>"
      ],
      "text/plain": [
       "      artist country  plays  genre  fans\n",
       "2  Metallica      US    500  metal    50"
      ]
     },
     "execution_count": 125,
     "metadata": {},
     "output_type": "execute_result"
    }
   ],
   "source": [
    "music[music['artist'].str.contains('Met')]"
   ]
  },
  {
   "cell_type": "markdown",
   "id": "adjusted-oriental",
   "metadata": {},
   "source": [
    "Your music data analyst is getting more curious; they want to know a list of all artists from the UK or Finland whose name contains the word The."
   ]
  },
  {
   "cell_type": "code",
   "execution_count": 126,
   "id": "hindu-abraham",
   "metadata": {},
   "outputs": [
    {
     "data": {
      "text/html": [
       "<div>\n",
       "<style scoped>\n",
       "    .dataframe tbody tr th:only-of-type {\n",
       "        vertical-align: middle;\n",
       "    }\n",
       "\n",
       "    .dataframe tbody tr th {\n",
       "        vertical-align: top;\n",
       "    }\n",
       "\n",
       "    .dataframe thead th {\n",
       "        text-align: right;\n",
       "    }\n",
       "</style>\n",
       "<table border=\"1\" class=\"dataframe\">\n",
       "  <thead>\n",
       "    <tr style=\"text-align: right;\">\n",
       "      <th></th>\n",
       "      <th>artist</th>\n",
       "      <th>country</th>\n",
       "      <th>plays</th>\n",
       "      <th>genre</th>\n",
       "      <th>fans</th>\n",
       "    </tr>\n",
       "  </thead>\n",
       "  <tbody>\n",
       "    <tr>\n",
       "      <th>0</th>\n",
       "      <td>The Beatles</td>\n",
       "      <td>UK</td>\n",
       "      <td>150</td>\n",
       "      <td>rock</td>\n",
       "      <td>50</td>\n",
       "    </tr>\n",
       "    <tr>\n",
       "      <th>5</th>\n",
       "      <td>The Doors</td>\n",
       "      <td>US</td>\n",
       "      <td>1000</td>\n",
       "      <td>rock</td>\n",
       "      <td>80</td>\n",
       "    </tr>\n",
       "    <tr>\n",
       "      <th>6</th>\n",
       "      <td>Poets of The Fall</td>\n",
       "      <td>Finland</td>\n",
       "      <td>250</td>\n",
       "      <td>rock</td>\n",
       "      <td>10</td>\n",
       "    </tr>\n",
       "  </tbody>\n",
       "</table>\n",
       "</div>"
      ],
      "text/plain": [
       "              artist  country  plays genre  fans\n",
       "0        The Beatles       UK    150  rock    50\n",
       "5          The Doors       US   1000  rock    80\n",
       "6  Poets of The Fall  Finland    250  rock    10"
      ]
     },
     "execution_count": 126,
     "metadata": {},
     "output_type": "execute_result"
    }
   ],
   "source": [
    "artist_list = list(['UK','Finland'])\n",
    "out = music[(music['artist'].isin(artist_list)) | (music['artist'].str.contains('The'))]\n",
    "out"
   ]
  },
  {
   "cell_type": "markdown",
   "id": "fiscal-martial",
   "metadata": {},
   "source": [
    "### Problem Definition\n",
    "<br> Your music analyst is getting more selective about the countries of origin of artists. They want to exclude artists from the UK or Finland, with the exception of still returning artists who have >= 10000 plays."
   ]
  },
  {
   "cell_type": "code",
   "execution_count": 127,
   "id": "horizontal-train",
   "metadata": {},
   "outputs": [
    {
     "data": {
      "text/plain": [
       "['Pink Floyd',\n",
       " 'Metallica',\n",
       " 'Cairokee',\n",
       " 'ACDC',\n",
       " 'The Doors',\n",
       " 'Megadeth',\n",
       " 'Iron Maiden']"
      ]
     },
     "execution_count": 127,
     "metadata": {},
     "output_type": "execute_result"
    }
   ],
   "source": [
    "country_list = ['UK','Finland']\n",
    "out = music[~(music['country'].isin(country_list)) | (music['plays'] >= 10000)]\n",
    "list(out['artist'].values)"
   ]
  },
  {
   "cell_type": "markdown",
   "id": "several-serum",
   "metadata": {},
   "source": [
    "## Grouping"
   ]
  },
  {
   "cell_type": "markdown",
   "id": "forbidden-collective",
   "metadata": {},
   "source": [
    "#### Problem definition<br>\n",
    "Your music analyst is interested in finding the sum of plays of artists by country. Can you return the total number of plays for each country?"
   ]
  },
  {
   "cell_type": "code",
   "execution_count": 129,
   "id": "authorized-tourist",
   "metadata": {},
   "outputs": [],
   "source": [
    "out = music.groupby('country').sum('plays').to_dict()"
   ]
  },
  {
   "cell_type": "code",
   "execution_count": 130,
   "id": "floppy-subcommittee",
   "metadata": {},
   "outputs": [
    {
     "data": {
      "text/plain": [
       "{'plays': {'Egypt': 200, 'Finland': 250, 'UK': 35150, 'US': 2050},\n",
       " 'fans': {'Egypt': 10, 'Finland': 10, 'UK': 6050, 'US': 170}}"
      ]
     },
     "execution_count": 130,
     "metadata": {},
     "output_type": "execute_result"
    }
   ],
   "source": [
    "out"
   ]
  },
  {
   "cell_type": "markdown",
   "id": "sacred-restaurant",
   "metadata": {},
   "source": [
    "### Problem definition\n",
    "Your music analyst has realized that it’s unfair to view the total number of plays per country without counting in the effect of genres. Can you return the total number of plays per each country/genre combination?"
   ]
  },
  {
   "cell_type": "code",
   "execution_count": 131,
   "id": "gothic-barcelona",
   "metadata": {},
   "outputs": [],
   "source": [
    "out = music.groupby(['country','genre']).plays.sum().to_dict()"
   ]
  },
  {
   "cell_type": "code",
   "execution_count": 132,
   "id": "spanish-portal",
   "metadata": {},
   "outputs": [
    {
     "data": {
      "text/plain": [
       "{('Egypt', 'rock'): 200,\n",
       " ('Finland', 'rock'): 250,\n",
       " ('UK', 'metal'): 25000,\n",
       " ('UK', 'rock'): 10150,\n",
       " ('US', 'metal'): 800,\n",
       " ('US', 'rock'): 1250}"
      ]
     },
     "execution_count": 132,
     "metadata": {},
     "output_type": "execute_result"
    }
   ],
   "source": [
    "out"
   ]
  },
  {
   "cell_type": "markdown",
   "id": "diagnostic-brunswick",
   "metadata": {},
   "source": [
    "### Problem definition\n",
    "Your music analyst is trying to find which countries’ artists have a combined number of plays greater than 1000. Can you return a list of such country names?"
   ]
  },
  {
   "cell_type": "code",
   "execution_count": 155,
   "id": "overall-alliance",
   "metadata": {},
   "outputs": [
    {
     "data": {
      "text/plain": [
       "['UK', 'US']"
      ]
     },
     "execution_count": 155,
     "metadata": {},
     "output_type": "execute_result"
    }
   ],
   "source": [
    "out = music.groupby('country').plays.sum()\n",
    "out = out[out > 1000]\n",
    "list(out.index)"
   ]
  },
  {
   "cell_type": "markdown",
   "id": "miniature-brown",
   "metadata": {},
   "source": [
    "### Problem definition\n",
    "Your music analyst would like to know the ratio of plays/fans (plays per fan) to see how dedicated listeners are to artists. This comes with a twist: it should be done per nation, not per artist.\n",
    "\n"
   ]
  },
  {
   "cell_type": "code",
   "execution_count": 162,
   "id": "rotary-bleeding",
   "metadata": {},
   "outputs": [],
   "source": [
    "out = music.groupby('country').apply(lambda x : x.plays.sum()/x.fans.sum()).to_dict()"
   ]
  },
  {
   "cell_type": "code",
   "execution_count": 163,
   "id": "junior-abortion",
   "metadata": {},
   "outputs": [
    {
     "data": {
      "text/plain": [
       "{'Egypt': 20.0,\n",
       " 'Finland': 25.0,\n",
       " 'UK': 5.809917355371901,\n",
       " 'US': 12.058823529411764}"
      ]
     },
     "execution_count": 163,
     "metadata": {},
     "output_type": "execute_result"
    }
   ],
   "source": [
    "out"
   ]
  },
  {
   "cell_type": "markdown",
   "id": "committed-toner",
   "metadata": {},
   "source": [
    "### Problem definition\n",
    "Your music analyst is interested in knowing multiple statistics at once, grouped by country.These are as follows:\n",
    "\n",
    "Sum of plays<br>\n",
    "Average of plays<br>\n",
    "Maximum fans from all artists in the country"
   ]
  },
  {
   "cell_type": "code",
   "execution_count": 177,
   "id": "respiratory-edition",
   "metadata": {},
   "outputs": [],
   "source": [
    "out = music.groupby('country').agg({'plays':['sum','mean'],'fans':['max']})"
   ]
  },
  {
   "cell_type": "code",
   "execution_count": 178,
   "id": "cosmetic-webster",
   "metadata": {},
   "outputs": [],
   "source": [
    "out.columns = ['_'.join(col) for col in out.columns.values]"
   ]
  },
  {
   "cell_type": "code",
   "execution_count": 182,
   "id": "finished-circulation",
   "metadata": {},
   "outputs": [
    {
     "data": {
      "text/plain": [
       "{'Egypt': {'plays_sum': 200, 'plays_mean': 200.0, 'fans_max': 10},\n",
       " 'Finland': {'plays_sum': 250, 'plays_mean': 250.0, 'fans_max': 10},\n",
       " 'UK': {'plays_sum': 35150, 'plays_mean': 8787.5, 'fans_max': 3500},\n",
       " 'US': {'plays_sum': 2050, 'plays_mean': 512.5, 'fans_max': 80}}"
      ]
     },
     "execution_count": 182,
     "metadata": {},
     "output_type": "execute_result"
    }
   ],
   "source": [
    "out.to_dict(orient='index')"
   ]
  }
 ],
 "metadata": {
  "kernelspec": {
   "display_name": "Python 3",
   "language": "python",
   "name": "python3"
  },
  "language_info": {
   "codemirror_mode": {
    "name": "ipython",
    "version": 3
   },
   "file_extension": ".py",
   "mimetype": "text/x-python",
   "name": "python",
   "nbconvert_exporter": "python",
   "pygments_lexer": "ipython3",
   "version": "3.9.1"
  }
 },
 "nbformat": 4,
 "nbformat_minor": 5
}
