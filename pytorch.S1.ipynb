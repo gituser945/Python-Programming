{
 "cells": [
  {
   "cell_type": "markdown",
   "id": "british-emphasis",
   "metadata": {},
   "source": [
    "### Pytorch Library"
   ]
  },
  {
   "cell_type": "code",
   "execution_count": 55,
   "id": "distributed-monkey",
   "metadata": {},
   "outputs": [],
   "source": [
    "# import pytorch library\n",
    "\n",
    "import torch\n",
    "import numpy as np"
   ]
  },
  {
   "cell_type": "code",
   "execution_count": 11,
   "id": "alert-colon",
   "metadata": {},
   "outputs": [
    {
     "name": "stdout",
     "output_type": "stream",
     "text": [
      "tensor([[ 0.0000e+00, -3.6893e+19,  0.0000e+00],\n",
      "        [-3.6893e+19,  2.5223e-44,  0.0000e+00],\n",
      "        [ 0.0000e+00,  0.0000e+00,  0.0000e+00],\n",
      "        [ 0.0000e+00,  0.0000e+00,  0.0000e+00],\n",
      "        [ 0.0000e+00,  0.0000e+00,  0.0000e+00],\n",
      "        [ 0.0000e+00,  0.0000e+00,  0.0000e+00]])\n"
     ]
    }
   ],
   "source": [
    "# creating empty array\n",
    "# it basically create array with random numbers\n",
    "\n",
    "a = torch.empty(6,3)\n",
    "print(a)"
   ]
  },
  {
   "cell_type": "code",
   "execution_count": 14,
   "id": "corresponding-macro",
   "metadata": {},
   "outputs": [
    {
     "name": "stdout",
     "output_type": "stream",
     "text": [
      "tensor([[0.9357, 0.4601, 0.0195],\n",
      "        [0.9641, 0.5555, 0.9601],\n",
      "        [0.2265, 0.6279, 0.1191],\n",
      "        [0.6178, 0.7214, 0.9466]])\n"
     ]
    }
   ],
   "source": [
    "# creating rand arrays\n",
    "\n",
    "a = torch.rand(4,3)\n",
    "print(a)"
   ]
  },
  {
   "cell_type": "code",
   "execution_count": 15,
   "id": "numerous-modem",
   "metadata": {},
   "outputs": [
    {
     "name": "stdout",
     "output_type": "stream",
     "text": [
      "tensor([[0, 0, 0],\n",
      "        [0, 0, 0],\n",
      "        [0, 0, 0],\n",
      "        [0, 0, 0]])\n"
     ]
    }
   ],
   "source": [
    "# creating zeros matrix with datatype specified\n",
    "\n",
    "a = torch.zeros(4,3,dtype = torch.long)\n",
    "print(a)"
   ]
  },
  {
   "cell_type": "code",
   "execution_count": 20,
   "id": "hairy-figure",
   "metadata": {},
   "outputs": [
    {
     "name": "stdout",
     "output_type": "stream",
     "text": [
      "tensor([7.1000, 8.0000])\n"
     ]
    }
   ],
   "source": [
    "# creating tensors with list\n",
    "\n",
    "a = torch.tensor([7.1,8])\n",
    "print(a)"
   ]
  },
  {
   "cell_type": "code",
   "execution_count": 21,
   "id": "constitutional-elements",
   "metadata": {},
   "outputs": [
    {
     "name": "stdout",
     "output_type": "stream",
     "text": [
      "tensor([[1., 1., 1.],\n",
      "        [1., 1., 1.],\n",
      "        [1., 1., 1.],\n",
      "        [1., 1., 1.],\n",
      "        [1., 1., 1.],\n",
      "        [1., 1., 1.]], dtype=torch.float64)\n"
     ]
    }
   ],
   "source": [
    "# overwriting a value\n",
    "\n",
    "a = a.new_ones(6,3,dtype = torch.double)\n",
    "print(a)"
   ]
  },
  {
   "cell_type": "code",
   "execution_count": 26,
   "id": "exact-imagination",
   "metadata": {},
   "outputs": [
    {
     "name": "stdout",
     "output_type": "stream",
     "text": [
      "tensor([[ 0.3122,  0.2380,  1.1753],\n",
      "        [-0.3858,  0.9215, -0.1780],\n",
      "        [ 0.5977,  0.2612, -0.7625],\n",
      "        [-0.8310,  1.1696,  0.3349],\n",
      "        [-0.6224, -0.7436, -0.1002],\n",
      "        [ 0.4978, -1.0044,  0.9828]])\n"
     ]
    }
   ],
   "source": [
    "# creating matrix with random number and acquiring shape from torch object using randn_like\n",
    "\n",
    "a = torch.randn_like(a,dtype = torch.float)\n",
    "print(a)"
   ]
  },
  {
   "cell_type": "code",
   "execution_count": 27,
   "id": "british-metadata",
   "metadata": {},
   "outputs": [
    {
     "data": {
      "text/plain": [
       "torch.Size([6, 3])"
      ]
     },
     "execution_count": 27,
     "metadata": {},
     "output_type": "execute_result"
    }
   ],
   "source": [
    "# to check the size of object\n",
    "\n",
    "a.size()"
   ]
  },
  {
   "cell_type": "code",
   "execution_count": 29,
   "id": "innovative-small",
   "metadata": {},
   "outputs": [
    {
     "name": "stdout",
     "output_type": "stream",
     "text": [
      "tensor([[ 1.0918,  0.6621,  1.4203],\n",
      "        [ 0.1121,  1.4387,  0.0219],\n",
      "        [ 0.6129,  0.4747, -0.5200],\n",
      "        [-0.1644,  1.8636,  0.7736],\n",
      "        [-0.6221, -0.3173,  0.5999],\n",
      "        [ 0.5917, -0.5212,  1.5851]])\n"
     ]
    }
   ],
   "source": [
    "# Maths operation\n",
    "\n",
    "b = torch.rand(6,3)\n",
    "print(a + b)"
   ]
  },
  {
   "cell_type": "code",
   "execution_count": 30,
   "id": "wanted-chess",
   "metadata": {},
   "outputs": [
    {
     "data": {
      "text/plain": [
       "tensor([[ 1.0918,  0.6621,  1.4203],\n",
       "        [ 0.1121,  1.4387,  0.0219],\n",
       "        [ 0.6129,  0.4747, -0.5200],\n",
       "        [-0.1644,  1.8636,  0.7736],\n",
       "        [-0.6221, -0.3173,  0.5999],\n",
       "        [ 0.5917, -0.5212,  1.5851]])"
      ]
     },
     "execution_count": 30,
     "metadata": {},
     "output_type": "execute_result"
    }
   ],
   "source": [
    "# Another way to add\n",
    "\n",
    "torch.add(a,b)"
   ]
  },
  {
   "cell_type": "code",
   "execution_count": 31,
   "id": "infrared-worcester",
   "metadata": {},
   "outputs": [
    {
     "name": "stdout",
     "output_type": "stream",
     "text": [
      "tensor([[ 1.0918,  0.6621,  1.4203],\n",
      "        [ 0.1121,  1.4387,  0.0219],\n",
      "        [ 0.6129,  0.4747, -0.5200],\n",
      "        [-0.1644,  1.8636,  0.7736],\n",
      "        [-0.6221, -0.3173,  0.5999],\n",
      "        [ 0.5917, -0.5212,  1.5851]])\n"
     ]
    }
   ],
   "source": [
    "# we can store any value to object by using out parameter \n",
    "\n",
    "result = torch.rand(6,3)\n",
    "torch.add(a,b,out = result)\n",
    "print(result)"
   ]
  },
  {
   "cell_type": "code",
   "execution_count": 34,
   "id": "disturbed-fifteen",
   "metadata": {},
   "outputs": [
    {
     "name": "stdout",
     "output_type": "stream",
     "text": [
      "tensor([[ 1.7161,  1.1381,  3.7710],\n",
      "        [-0.6596,  3.2816, -0.3341],\n",
      "        [ 1.8083,  0.9972, -2.0450],\n",
      "        [-1.8264,  4.2028,  1.4434],\n",
      "        [-1.8669, -1.8046,  0.3995],\n",
      "        [ 1.5872, -2.5300,  3.5508]])\n"
     ]
    }
   ],
   "source": [
    "# adding a to b and we are using _ sigh called postfix which will assign addition value back to b\n",
    "\n",
    "b.add_(a)\n",
    "print(b)"
   ]
  },
  {
   "cell_type": "code",
   "execution_count": 36,
   "id": "introductory-contamination",
   "metadata": {},
   "outputs": [
    {
     "name": "stdout",
     "output_type": "stream",
     "text": [
      "tensor([ 0.2380,  0.9215,  0.2612,  1.1696, -0.7436, -1.0044])\n"
     ]
    }
   ],
   "source": [
    "# indexing from object\n",
    "\n",
    "print(a[:,1])"
   ]
  },
  {
   "cell_type": "code",
   "execution_count": 41,
   "id": "blessed-republican",
   "metadata": {},
   "outputs": [
    {
     "name": "stdout",
     "output_type": "stream",
     "text": [
      "tensor([[-0.0506, -0.6714, -0.4807],\n",
      "        [-1.1219,  1.0769, -0.8964],\n",
      "        [ 0.7008, -0.6569, -0.2160]])\n",
      "tensor([-0.0506, -0.6714, -0.4807, -1.1219,  1.0769, -0.8964,  0.7008, -0.6569,\n",
      "        -0.2160])\n"
     ]
    }
   ],
   "source": [
    "# reshaping the data using view\n",
    "\n",
    "a = torch.randn(3,3)\n",
    "print(a)\n",
    "b = a.view(9)\n",
    "print(b)"
   ]
  },
  {
   "cell_type": "code",
   "execution_count": 49,
   "id": "historic-debate",
   "metadata": {},
   "outputs": [
    {
     "name": "stdout",
     "output_type": "stream",
     "text": [
      "-1.4141666889190674\n"
     ]
    }
   ],
   "source": [
    "# extracting values \n",
    "a = torch.randn(1)\n",
    "print(a.item())"
   ]
  },
  {
   "cell_type": "code",
   "execution_count": 50,
   "id": "reflected-thought",
   "metadata": {},
   "outputs": [
    {
     "name": "stdout",
     "output_type": "stream",
     "text": [
      "tensor([1., 1., 1., 1.])\n"
     ]
    }
   ],
   "source": [
    "# creating tensor\n",
    "\n",
    "a = torch.ones(4)\n",
    "print(a)"
   ]
  },
  {
   "cell_type": "code",
   "execution_count": 54,
   "id": "behind-photographer",
   "metadata": {},
   "outputs": [
    {
     "data": {
      "text/plain": [
       "array([1., 1., 1., 1.], dtype=float32)"
      ]
     },
     "execution_count": 54,
     "metadata": {},
     "output_type": "execute_result"
    }
   ],
   "source": [
    "# converting tensor to numpy\n",
    "y = a.numpy()\n",
    "y"
   ]
  },
  {
   "cell_type": "code",
   "execution_count": 62,
   "id": "breeding-organ",
   "metadata": {},
   "outputs": [
    {
     "name": "stdout",
     "output_type": "stream",
     "text": [
      "[1. 1. 1. 1.]\n"
     ]
    },
    {
     "data": {
      "text/plain": [
       "tensor([1., 1., 1., 1.], dtype=torch.float64)"
      ]
     },
     "execution_count": 62,
     "metadata": {},
     "output_type": "execute_result"
    }
   ],
   "source": [
    "# converting torch object from numpy object\n",
    "\n",
    "a = np.ones(4)\n",
    "b = torch.from_numpy(a)\n",
    "b"
   ]
  },
  {
   "cell_type": "code",
   "execution_count": null,
   "id": "micro-switch",
   "metadata": {},
   "outputs": [],
   "source": []
  }
 ],
 "metadata": {
  "kernelspec": {
   "display_name": "Python 3",
   "language": "python",
   "name": "python3"
  },
  "language_info": {
   "codemirror_mode": {
    "name": "ipython",
    "version": 3
   },
   "file_extension": ".py",
   "mimetype": "text/x-python",
   "name": "python",
   "nbconvert_exporter": "python",
   "pygments_lexer": "ipython3",
   "version": "3.8.0"
  }
 },
 "nbformat": 4,
 "nbformat_minor": 5
}
