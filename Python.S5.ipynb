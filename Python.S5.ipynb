{
 "cells": [
  {
   "cell_type": "markdown",
   "metadata": {},
   "source": [
    "### Object oriented programming"
   ]
  },
  {
   "cell_type": "code",
   "execution_count": 3,
   "metadata": {},
   "outputs": [],
   "source": [
    "class test:# class keyword is used to create class in python\n",
    "    pass # pass is a keyword which is used when we don't want our class contains \n",
    "         # anything inside it like methods,variables etc \n",
    "\n",
    "# test is a empty class in this case"
   ]
  },
  {
   "cell_type": "code",
   "execution_count": 10,
   "metadata": {},
   "outputs": [
    {
     "name": "stdout",
     "output_type": "stream",
     "text": [
      "Nick\n"
     ]
    }
   ],
   "source": [
    "# Not a standard practice\n",
    "class Person: # class name person\n",
    "    pass\n",
    "\n",
    "details = Person() # details is an object of class Person\n",
    "details.name = 'Nick' # property 1 of class\n",
    "details.phone = 23456789 # property 2 of class\n",
    "details.address = 'India' # property 3 of class\n",
    "\n",
    "print(details.name)"
   ]
  },
  {
   "cell_type": "code",
   "execution_count": 12,
   "metadata": {},
   "outputs": [
    {
     "name": "stdout",
     "output_type": "stream",
     "text": [
      "India\n"
     ]
    }
   ],
   "source": [
    "class New:\n",
    "    def __init__(details,name,phone,address): # __init__ is initialization method and any method that starts and ends with double underscore are inbuilt methods\n",
    "        details.name = name\n",
    "        details.phone = phone\n",
    "        details.address = address\n",
    "\n",
    "Nick = New('Nick',12345,'India')\n",
    "print(Nick.address)\n",
    "# __init__ method is optional but it's a good programming practice"
   ]
  },
  {
   "cell_type": "markdown",
   "metadata": {},
   "source": [
    "#### polymorphism"
   ]
  },
  {
   "cell_type": "code",
   "execution_count": 14,
   "metadata": {},
   "outputs": [
    {
     "name": "stdout",
     "output_type": "stream",
     "text": [
      "2\n",
      "abcdef\n"
     ]
    }
   ],
   "source": [
    "def poly(a,b):\n",
    "    return a + b\n",
    "\n",
    "print(poly(1,1))\n",
    "print(poly('abc','def'))"
   ]
  },
  {
   "cell_type": "code",
   "execution_count": null,
   "metadata": {},
   "outputs": [],
   "source": []
  }
 ],
 "metadata": {
  "kernelspec": {
   "display_name": "Python 3",
   "language": "python",
   "name": "python3"
  },
  "language_info": {
   "codemirror_mode": {
    "name": "ipython",
    "version": 3
   },
   "file_extension": ".py",
   "mimetype": "text/x-python",
   "name": "python",
   "nbconvert_exporter": "python",
   "pygments_lexer": "ipython3",
   "version": "3.8.5"
  }
 },
 "nbformat": 4,
 "nbformat_minor": 4
}
